{
 "cells": [
  {
   "cell_type": "markdown",
   "metadata": {},
   "source": [
    "# Quickstart\n",
    "\n",
    "Let's hit the ground running by briefly describing all the functions in the library."
   ]
  },
  {
   "cell_type": "markdown",
   "metadata": {},
   "source": [
    "[![Follow Badge](https://img.shields.io/badge/-%40TheOnlyWayUp-blue?style=for-the-badge&logo=github&logoColor=green&label=Follow&link=https%3A%2F%2Fgithub.com%2FTheOnlyWayUp)](https://github.com/TheOnlyWayUp)\n",
    "[![Star Badge](https://img.shields.io/badge/-Wattpad--Py-orange?style=for-the-badge&logoColor=green&label=Star%20%E2%AD%90&link=https%3A%2F%2Fgithub.com%2FTheOnlyWayUp%2FWattpad-Py)\n",
    "](https://github.com/TheOnlyWayUp/Wattpad-Py)\n"
   ]
  },
  {
   "cell_type": "markdown",
   "metadata": {},
   "source": [
    "## User\n",
    "The `wattpad.User` class represents a User on Wattpad. User classes with the same username are the _same_ ([Read More](./memory-efficiency.ipynb))."
   ]
  },
  {
   "cell_type": "code",
   "execution_count": 1,
   "metadata": {
    "notebookRunGroups": {
     "groupValue": "1"
    }
   },
   "outputs": [
    {
     "name": "stdout",
     "output_type": "stream",
     "text": [
      "Help on class User in module wattpad.wattpad:\n",
      "\n",
      "class User(builtins.object)\n",
      " |  User(*args, **kwargs)\n",
      " |  \n",
      " |  A representation of a User on Wattpad.\n",
      " |  **Note**: Users are singletons, unique as per their username. Two user classes with the same username are the _same_.\n",
      " |  \n",
      " |  Attributes:\n",
      " |      username (str): Lowercased username of this User.\n",
      " |      stories (list[Story]): Stories authored by this User.\n",
      " |      followers (list[User]): Users that follow this User.\n",
      " |      following (list[User]): Users this User follows.\n",
      " |      lists (set[List]): Lists created by this User.\n",
      " |      data (UserModel): User Data from the Wattpad API.\n",
      " |  \n",
      " |  Methods defined here:\n",
      " |  \n",
      " |  __init__(self, username: 'str', **kwargs)\n",
      " |      Create a User object.\n",
      " |      \n",
      " |      Args:\n",
      " |          username (str): The username of this User.\n",
      " |          **kwargs (any): Arguments to pass directly to the underlying `UserModel`. These are ignored if the User has been instantiated earlier in the runtime.\n",
      " |  \n",
      " |  __repr__(self) -> 'str'\n",
      " |      Return repr(self).\n",
      " |  \n",
      " |  async fetch(self, include: 'bool | UserModelFieldsType' = False) -> 'dict'\n",
      " |      Populates a User's data. Call this method after instantiation.\n",
      " |      \n",
      " |      Args:\n",
      " |          include (bool | UserModelFieldsType, optional): Fields to fetch. True fetches all fields. Defaults to False.\n",
      " |      \n",
      " |      Returns:\n",
      " |          dict: The raw API Response.\n",
      " |  \n",
      " |  async fetch_followers(self, include: 'bool | UserModelFieldsType' = False, limit: 'Optional[int]' = None, offset: 'Optional[int]' = None) -> 'dict'\n",
      " |      Fetches the User's followers.\n",
      " |      \n",
      " |      Args:\n",
      " |          include (bool | UserModelFieldsType, optional): Fields of the following users' to fetch. True fetches all fields. Defaults to False.\n",
      " |          limit (Optional[int], optional): Maximum number of users to return at once. Use this alongside `offset` for better performance. Defaults to None.\n",
      " |          offset (Optional[int], optional): Number of users to skip before returning followers. Use this alongside `limit` for better performance. Defaults to None.\n",
      " |      \n",
      " |      Returns:\n",
      " |          dict: The raw API Response.\n",
      " |  \n",
      " |  async fetch_following(self, include: 'bool | UserModelFieldsType' = False, limit: 'Optional[int]' = None, offset: 'Optional[int]' = None) -> 'dict'\n",
      " |      Fetch the users this User follows.\n",
      " |      \n",
      " |      Args:\n",
      " |          include (bool | UserModelFieldsType, optional): Fields of the followed users' to fetch. True fetches all fields. Defaults to False.\n",
      " |          limit (Optional[int], optional): Maximum number of users to return at once. Use this alongside `offset` for better performance. Defaults to None.\n",
      " |          offset (Optional[int], optional): Number of users to skip before returning followers. Use this alongside `limit` for better performance. Defaults to None.\n",
      " |      \n",
      " |      Returns:\n",
      " |          dict: The raw API Response.\n",
      " |  \n",
      " |  async fetch_lists(self, include: 'bool | ListModelFieldsType' = False, limit: 'Optional[int]' = None, offset: 'Optional[int]' = None) -> 'dict'\n",
      " |      Fetch a User's lists.\n",
      " |      \n",
      " |      Args:\n",
      " |          include (bool | ListModelFieldsType, optional): Fields of the lists to fetch. True fetches all fields. Defaults to False.\n",
      " |          limit (Optional[int], optional): Maximum number of users to return at once. Use this alongside `offset` for better performance. Defaults to None.\n",
      " |          offset (Optional[int], optional): Number of users to skip before returning followers. Use this alongside `limit` for better performance. Defaults to None.\n",
      " |      \n",
      " |      Returns:\n",
      " |          dict: The raw API Response.\n",
      " |  \n",
      " |  async fetch_stories(self, include: 'bool | StoryModelFieldsType' = False) -> 'dict'\n",
      " |      Fetch a User's authored stories.\n",
      " |      \n",
      " |      Args:\n",
      " |          include (bool | StoryModelFieldsType, optional): Fields of authored stories to fetch. True fetches all fields. Defaults to False.\n",
      " |      \n",
      " |      Returns:\n",
      " |          dict: The raw API Response.\n",
      " |  \n",
      " |  ----------------------------------------------------------------------\n",
      " |  Data descriptors defined here:\n",
      " |  \n",
      " |  __dict__\n",
      " |      dictionary for instance variables (if defined)\n",
      " |  \n",
      " |  __weakref__\n",
      " |      list of weak references to the object (if defined)\n",
      "\n"
     ]
    }
   ],
   "source": [
    "from wattpad import User\n",
    "\n",
    "help(User)"
   ]
  },
  {
   "cell_type": "code",
   "execution_count": 2,
   "metadata": {
    "notebookRunGroups": {
     "groupValue": "1"
    }
   },
   "outputs": [],
   "source": [
    "from rich import print\n",
    "\n",
    "user = User(\"WattpadBooks\")"
   ]
  },
  {
   "cell_type": "markdown",
   "metadata": {},
   "source": [
    "Data fetched from the users endpoint of the API is present in the data attribute."
   ]
  },
  {
   "cell_type": "code",
   "execution_count": 3,
   "metadata": {},
   "outputs": [
    {
     "data": {
      "text/html": [
       "<pre style=\"white-space:pre;overflow-x:auto;line-height:normal;font-family:Menlo,'DejaVu Sans Mono',consolas,'Courier New',monospace\"><span style=\"color: #800080; text-decoration-color: #800080; font-weight: bold\">UserModel</span><span style=\"font-weight: bold\">(</span>\n",
       "    <span style=\"color: #808000; text-decoration-color: #808000\">username</span>=<span style=\"color: #008000; text-decoration-color: #008000\">'wattpadbooks'</span>,\n",
       "    <span style=\"color: #808000; text-decoration-color: #808000\">avatar</span>=<span style=\"color: #800080; text-decoration-color: #800080; font-style: italic\">None</span>,\n",
       "    <span style=\"color: #808000; text-decoration-color: #808000\">is_private</span>=<span style=\"color: #800080; text-decoration-color: #800080; font-style: italic\">None</span>,\n",
       "    <span style=\"color: #808000; text-decoration-color: #808000\">background_url</span>=<span style=\"color: #800080; text-decoration-color: #800080; font-style: italic\">None</span>,\n",
       "    <span style=\"color: #808000; text-decoration-color: #808000\">follower</span>=<span style=\"color: #800080; text-decoration-color: #800080; font-style: italic\">None</span>,\n",
       "    <span style=\"color: #808000; text-decoration-color: #808000\">following</span>=<span style=\"color: #800080; text-decoration-color: #800080; font-style: italic\">None</span>,\n",
       "    <span style=\"color: #808000; text-decoration-color: #808000\">name</span>=<span style=\"color: #800080; text-decoration-color: #800080; font-style: italic\">None</span>,\n",
       "    <span style=\"color: #808000; text-decoration-color: #808000\">description</span>=<span style=\"color: #800080; text-decoration-color: #800080; font-style: italic\">None</span>,\n",
       "    <span style=\"color: #808000; text-decoration-color: #808000\">status</span>=<span style=\"color: #800080; text-decoration-color: #800080; font-style: italic\">None</span>,\n",
       "    <span style=\"color: #808000; text-decoration-color: #808000\">gender</span>=<span style=\"color: #800080; text-decoration-color: #800080; font-style: italic\">None</span>,\n",
       "    <span style=\"color: #808000; text-decoration-color: #808000\">gender_code</span>=<span style=\"color: #800080; text-decoration-color: #800080; font-style: italic\">None</span>,\n",
       "    <span style=\"color: #808000; text-decoration-color: #808000\">language</span>=<span style=\"color: #800080; text-decoration-color: #800080; font-style: italic\">None</span>,\n",
       "    <span style=\"color: #808000; text-decoration-color: #808000\">locale</span>=<span style=\"color: #800080; text-decoration-color: #800080; font-style: italic\">None</span>,\n",
       "    <span style=\"color: #808000; text-decoration-color: #808000\">create_date</span>=<span style=\"color: #800080; text-decoration-color: #800080; font-style: italic\">None</span>,\n",
       "    <span style=\"color: #808000; text-decoration-color: #808000\">modify_date</span>=<span style=\"color: #800080; text-decoration-color: #800080; font-style: italic\">None</span>,\n",
       "    <span style=\"color: #808000; text-decoration-color: #808000\">location</span>=<span style=\"color: #800080; text-decoration-color: #800080; font-style: italic\">None</span>,\n",
       "    <span style=\"color: #808000; text-decoration-color: #808000\">verified</span>=<span style=\"color: #800080; text-decoration-color: #800080; font-style: italic\">None</span>,\n",
       "    <span style=\"color: #808000; text-decoration-color: #808000\">ambassador</span>=<span style=\"color: #800080; text-decoration-color: #800080; font-style: italic\">None</span>,\n",
       "    <span style=\"color: #808000; text-decoration-color: #808000\">facebook</span>=<span style=\"color: #800080; text-decoration-color: #800080; font-style: italic\">None</span>,\n",
       "    <span style=\"color: #808000; text-decoration-color: #808000\">twitter</span>=<span style=\"color: #800080; text-decoration-color: #800080; font-style: italic\">None</span>,\n",
       "    <span style=\"color: #808000; text-decoration-color: #808000\">website</span>=<span style=\"color: #800080; text-decoration-color: #800080; font-style: italic\">None</span>,\n",
       "    <span style=\"color: #808000; text-decoration-color: #808000\">lulu</span>=<span style=\"color: #800080; text-decoration-color: #800080; font-style: italic\">None</span>,\n",
       "    <span style=\"color: #808000; text-decoration-color: #808000\">smashwords</span>=<span style=\"color: #800080; text-decoration-color: #800080; font-style: italic\">None</span>,\n",
       "    <span style=\"color: #808000; text-decoration-color: #808000\">bubok</span>=<span style=\"color: #800080; text-decoration-color: #800080; font-style: italic\">None</span>,\n",
       "    <span style=\"color: #808000; text-decoration-color: #808000\">votes_received</span>=<span style=\"color: #800080; text-decoration-color: #800080; font-style: italic\">None</span>,\n",
       "    <span style=\"color: #808000; text-decoration-color: #808000\">num_stories_published</span>=<span style=\"color: #800080; text-decoration-color: #800080; font-style: italic\">None</span>,\n",
       "    <span style=\"color: #808000; text-decoration-color: #808000\">num_following</span>=<span style=\"color: #800080; text-decoration-color: #800080; font-style: italic\">None</span>,\n",
       "    <span style=\"color: #808000; text-decoration-color: #808000\">num_followers</span>=<span style=\"color: #800080; text-decoration-color: #800080; font-style: italic\">None</span>,\n",
       "    <span style=\"color: #808000; text-decoration-color: #808000\">num_messages</span>=<span style=\"color: #800080; text-decoration-color: #800080; font-style: italic\">None</span>,\n",
       "    <span style=\"color: #808000; text-decoration-color: #808000\">num_lists</span>=<span style=\"color: #800080; text-decoration-color: #800080; font-style: italic\">None</span>,\n",
       "    <span style=\"color: #808000; text-decoration-color: #808000\">verified_email</span>=<span style=\"color: #800080; text-decoration-color: #800080; font-style: italic\">None</span>,\n",
       "    <span style=\"color: #808000; text-decoration-color: #808000\">preferred_categories</span>=<span style=\"color: #800080; text-decoration-color: #800080; font-style: italic\">None</span>,\n",
       "    <span style=\"color: #808000; text-decoration-color: #808000\">allow_crawler</span>=<span style=\"color: #800080; text-decoration-color: #800080; font-style: italic\">None</span>,\n",
       "    <span style=\"color: #808000; text-decoration-color: #808000\">deeplink</span>=<span style=\"color: #800080; text-decoration-color: #800080; font-style: italic\">None</span>,\n",
       "    <span style=\"color: #808000; text-decoration-color: #808000\">is_muted</span>=<span style=\"color: #800080; text-decoration-color: #800080; font-style: italic\">None</span>,\n",
       "    <span style=\"color: #808000; text-decoration-color: #808000\">birthdate</span>=<span style=\"color: #800080; text-decoration-color: #800080; font-style: italic\">None</span>,\n",
       "    <span style=\"color: #808000; text-decoration-color: #808000\">inbox</span>=<span style=\"color: #800080; text-decoration-color: #800080; font-style: italic\">None</span>,\n",
       "    <span style=\"color: #808000; text-decoration-color: #808000\">notifications</span>=<span style=\"color: #800080; text-decoration-color: #800080; font-style: italic\">None</span>,\n",
       "    <span style=\"color: #808000; text-decoration-color: #808000\">connected_services</span>=<span style=\"color: #800080; text-decoration-color: #800080; font-style: italic\">None</span>,\n",
       "    <span style=\"color: #808000; text-decoration-color: #808000\">age</span>=<span style=\"color: #800080; text-decoration-color: #800080; font-style: italic\">None</span>,\n",
       "    <span style=\"color: #808000; text-decoration-color: #808000\">email</span>=<span style=\"color: #800080; text-decoration-color: #800080; font-style: italic\">None</span>,\n",
       "    <span style=\"color: #808000; text-decoration-color: #808000\">has_password</span>=<span style=\"color: #800080; text-decoration-color: #800080; font-style: italic\">None</span>\n",
       "<span style=\"font-weight: bold\">)</span>\n",
       "</pre>\n"
      ],
      "text/plain": [
       "\u001b[1;35mUserModel\u001b[0m\u001b[1m(\u001b[0m\n",
       "    \u001b[33musername\u001b[0m=\u001b[32m'wattpadbooks'\u001b[0m,\n",
       "    \u001b[33mavatar\u001b[0m=\u001b[3;35mNone\u001b[0m,\n",
       "    \u001b[33mis_private\u001b[0m=\u001b[3;35mNone\u001b[0m,\n",
       "    \u001b[33mbackground_url\u001b[0m=\u001b[3;35mNone\u001b[0m,\n",
       "    \u001b[33mfollower\u001b[0m=\u001b[3;35mNone\u001b[0m,\n",
       "    \u001b[33mfollowing\u001b[0m=\u001b[3;35mNone\u001b[0m,\n",
       "    \u001b[33mname\u001b[0m=\u001b[3;35mNone\u001b[0m,\n",
       "    \u001b[33mdescription\u001b[0m=\u001b[3;35mNone\u001b[0m,\n",
       "    \u001b[33mstatus\u001b[0m=\u001b[3;35mNone\u001b[0m,\n",
       "    \u001b[33mgender\u001b[0m=\u001b[3;35mNone\u001b[0m,\n",
       "    \u001b[33mgender_code\u001b[0m=\u001b[3;35mNone\u001b[0m,\n",
       "    \u001b[33mlanguage\u001b[0m=\u001b[3;35mNone\u001b[0m,\n",
       "    \u001b[33mlocale\u001b[0m=\u001b[3;35mNone\u001b[0m,\n",
       "    \u001b[33mcreate_date\u001b[0m=\u001b[3;35mNone\u001b[0m,\n",
       "    \u001b[33mmodify_date\u001b[0m=\u001b[3;35mNone\u001b[0m,\n",
       "    \u001b[33mlocation\u001b[0m=\u001b[3;35mNone\u001b[0m,\n",
       "    \u001b[33mverified\u001b[0m=\u001b[3;35mNone\u001b[0m,\n",
       "    \u001b[33mambassador\u001b[0m=\u001b[3;35mNone\u001b[0m,\n",
       "    \u001b[33mfacebook\u001b[0m=\u001b[3;35mNone\u001b[0m,\n",
       "    \u001b[33mtwitter\u001b[0m=\u001b[3;35mNone\u001b[0m,\n",
       "    \u001b[33mwebsite\u001b[0m=\u001b[3;35mNone\u001b[0m,\n",
       "    \u001b[33mlulu\u001b[0m=\u001b[3;35mNone\u001b[0m,\n",
       "    \u001b[33msmashwords\u001b[0m=\u001b[3;35mNone\u001b[0m,\n",
       "    \u001b[33mbubok\u001b[0m=\u001b[3;35mNone\u001b[0m,\n",
       "    \u001b[33mvotes_received\u001b[0m=\u001b[3;35mNone\u001b[0m,\n",
       "    \u001b[33mnum_stories_published\u001b[0m=\u001b[3;35mNone\u001b[0m,\n",
       "    \u001b[33mnum_following\u001b[0m=\u001b[3;35mNone\u001b[0m,\n",
       "    \u001b[33mnum_followers\u001b[0m=\u001b[3;35mNone\u001b[0m,\n",
       "    \u001b[33mnum_messages\u001b[0m=\u001b[3;35mNone\u001b[0m,\n",
       "    \u001b[33mnum_lists\u001b[0m=\u001b[3;35mNone\u001b[0m,\n",
       "    \u001b[33mverified_email\u001b[0m=\u001b[3;35mNone\u001b[0m,\n",
       "    \u001b[33mpreferred_categories\u001b[0m=\u001b[3;35mNone\u001b[0m,\n",
       "    \u001b[33mallow_crawler\u001b[0m=\u001b[3;35mNone\u001b[0m,\n",
       "    \u001b[33mdeeplink\u001b[0m=\u001b[3;35mNone\u001b[0m,\n",
       "    \u001b[33mis_muted\u001b[0m=\u001b[3;35mNone\u001b[0m,\n",
       "    \u001b[33mbirthdate\u001b[0m=\u001b[3;35mNone\u001b[0m,\n",
       "    \u001b[33minbox\u001b[0m=\u001b[3;35mNone\u001b[0m,\n",
       "    \u001b[33mnotifications\u001b[0m=\u001b[3;35mNone\u001b[0m,\n",
       "    \u001b[33mconnected_services\u001b[0m=\u001b[3;35mNone\u001b[0m,\n",
       "    \u001b[33mage\u001b[0m=\u001b[3;35mNone\u001b[0m,\n",
       "    \u001b[33memail\u001b[0m=\u001b[3;35mNone\u001b[0m,\n",
       "    \u001b[33mhas_password\u001b[0m=\u001b[3;35mNone\u001b[0m\n",
       "\u001b[1m)\u001b[0m\n"
      ]
     },
     "metadata": {},
     "output_type": "display_data"
    }
   ],
   "source": [
    "print(user.data)"
   ]
  },
  {
   "cell_type": "markdown",
   "metadata": {},
   "source": [
    "The object currently has no data. Let's fetch some from the API."
   ]
  },
  {
   "cell_type": "code",
   "execution_count": 4,
   "metadata": {},
   "outputs": [
    {
     "data": {
      "text/html": [
       "<pre style=\"white-space:pre;overflow-x:auto;line-height:normal;font-family:Menlo,'DejaVu Sans Mono',consolas,'Courier New',monospace\"><span style=\"font-weight: bold\">{</span>\n",
       "    <span style=\"color: #008000; text-decoration-color: #008000\">'description'</span>: <span style=\"color: #008000; text-decoration-color: #008000\">\"Wattpad Books brings stories the world needs to hear, brought to life by your favorite writers,</span>\n",
       "<span style=\"color: #008000; text-decoration-color: #008000\">right into your hands. Welcome home. 🏡🧡\\n\\nStay in the know of all the latest launches from Wattpad Books. </span>\n",
       "<span style=\"color: #008000; text-decoration-color: #008000\">Looking for your next literary obsession? Crossing your fingers for more work from your favorite creator? Follow us</span>\n",
       "<span style=\"color: #008000; text-decoration-color: #008000\">here to be the first to hear about new releases, author interviews, and more!\\n\\nWe see your dreams, and we want to</span>\n",
       "<span style=\"color: #008000; text-decoration-color: #008000\">help you achieve them. If you're hoping to get published, our advice is to keep doing what you love: writing. Every</span>\n",
       "<span style=\"color: #008000; text-decoration-color: #008000\">book published by Wattpad Books was born right here on Wattpad. ⭐️\\n\\n🔈Follow Wattpad Books:\\nTwitter: </span>\n",
       "<span style=\"color: #008000; text-decoration-color: #008000\">twitter.com/wattpadbooks\\nInstagram: wattpadbooks\\nFacebook: facebook.com/wattpad\"</span>,\n",
       "    <span style=\"color: #008000; text-decoration-color: #008000\">'numFollowers'</span>: <span style=\"color: #008080; text-decoration-color: #008080; font-weight: bold\">60871</span>\n",
       "<span style=\"font-weight: bold\">}</span>\n",
       "</pre>\n"
      ],
      "text/plain": [
       "\u001b[1m{\u001b[0m\n",
       "    \u001b[32m'description'\u001b[0m: \u001b[32m\"Wattpad Books brings stories the world needs to hear, brought to life by your favorite writers,\u001b[0m\n",
       "\u001b[32mright into your hands. Welcome home. 🏡🧡\\n\\nStay in the know of all the latest launches from Wattpad Books. \u001b[0m\n",
       "\u001b[32mLooking for your next literary obsession? Crossing your fingers for more work from your favorite creator? Follow us\u001b[0m\n",
       "\u001b[32mhere to be the first to hear about new releases, author interviews, and more!\\n\\nWe see your dreams, and we want to\u001b[0m\n",
       "\u001b[32mhelp you achieve them. If you're hoping to get published, our advice is to keep doing what you love: writing. Every\u001b[0m\n",
       "\u001b[32mbook published by Wattpad Books was born right here on Wattpad. ⭐️\\n\\n🔈Follow Wattpad Books:\\nTwitter: \u001b[0m\n",
       "\u001b[32mtwitter.com/wattpadbooks\\nInstagram: wattpadbooks\\nFacebook: facebook.com/wattpad\"\u001b[0m,\n",
       "    \u001b[32m'numFollowers'\u001b[0m: \u001b[1;36m60871\u001b[0m\n",
       "\u001b[1m}\u001b[0m\n"
      ]
     },
     "metadata": {},
     "output_type": "display_data"
    }
   ],
   "source": [
    "api_response = await user.fetch({\n",
    "    \"description\": True,\n",
    "    \"numFollowers\": True\n",
    "})\n",
    "print(api_response)"
   ]
  },
  {
   "cell_type": "markdown",
   "metadata": {},
   "source": [
    "All functions prefixed with `fetch` return the JSON-Decoded Response from the API. Though, all the data is copied into the `data` attribute.\n",
    "\n",
    "Available parameters to `fetch` functions will show up in autocomplete recommendations. If not, the [documentation](./reference/user.md) has information on the same.\n",
    "\n",
    "## Accessing fetched data"
   ]
  },
  {
   "cell_type": "code",
   "execution_count": 5,
   "metadata": {},
   "outputs": [
    {
     "data": {
      "text/html": [
       "<pre style=\"white-space:pre;overflow-x:auto;line-height:normal;font-family:Menlo,'DejaVu Sans Mono',consolas,'Courier New',monospace\">Wattpad Books brings stories the world needs to hear, brought to life by your favorite writers, right into your \n",
       "hands. Welcome home. 🏡🧡\n",
       "\n",
       "Stay in the know of all the latest launches from Wattpad Books. Looking for your next literary obsession? Crossing \n",
       "your fingers for more work from your favorite creator? Follow us here to be the first to hear about new releases, \n",
       "author interviews, and more!\n",
       "\n",
       "We see your dreams, and we want to help you achieve them. If you're hoping to get published, our advice is to keep \n",
       "doing what you love: writing. Every book published by Wattpad Books was born right here on Wattpad. ⭐️\n",
       "\n",
       "🔈Follow Wattpad Books:\n",
       "Twitter: twitter.com/wattpadbooks\n",
       "Instagram: wattpadbooks\n",
       "Facebook: facebook.com/wattpad\n",
       "</pre>\n"
      ],
      "text/plain": [
       "Wattpad Books brings stories the world needs to hear, brought to life by your favorite writers, right into your \n",
       "hands. Welcome home. 🏡🧡\n",
       "\n",
       "Stay in the know of all the latest launches from Wattpad Books. Looking for your next literary obsession? Crossing \n",
       "your fingers for more work from your favorite creator? Follow us here to be the first to hear about new releases, \n",
       "author interviews, and more!\n",
       "\n",
       "We see your dreams, and we want to help you achieve them. If you're hoping to get published, our advice is to keep \n",
       "doing what you love: writing. Every book published by Wattpad Books was born right here on Wattpad. ⭐️\n",
       "\n",
       "🔈Follow Wattpad Books:\n",
       "Twitter: twitter.com/wattpadbooks\n",
       "Instagram: wattpadbooks\n",
       "Facebook: facebook.com/wattpad\n"
      ]
     },
     "metadata": {},
     "output_type": "display_data"
    }
   ],
   "source": [
    "print(user.data.description)"
   ]
  },
  {
   "cell_type": "markdown",
   "metadata": {},
   "source": [
    "**All available attributes for `user.data`**"
   ]
  },
  {
   "cell_type": "code",
   "execution_count": 6,
   "metadata": {},
   "outputs": [
    {
     "data": {
      "text/html": [
       "<pre style=\"white-space:pre;overflow-x:auto;line-height:normal;font-family:Menlo,'DejaVu Sans Mono',consolas,'Courier New',monospace\"><span style=\"font-weight: bold\">[</span>\n",
       "    <span style=\"color: #008000; text-decoration-color: #008000\">'username'</span>,\n",
       "    <span style=\"color: #008000; text-decoration-color: #008000\">'avatar'</span>,\n",
       "    <span style=\"color: #008000; text-decoration-color: #008000\">'is_private'</span>,\n",
       "    <span style=\"color: #008000; text-decoration-color: #008000\">'background_url'</span>,\n",
       "    <span style=\"color: #008000; text-decoration-color: #008000\">'follower'</span>,\n",
       "    <span style=\"color: #008000; text-decoration-color: #008000\">'following'</span>,\n",
       "    <span style=\"color: #008000; text-decoration-color: #008000\">'name'</span>,\n",
       "    <span style=\"color: #008000; text-decoration-color: #008000\">'description'</span>,\n",
       "    <span style=\"color: #008000; text-decoration-color: #008000\">'status'</span>,\n",
       "    <span style=\"color: #008000; text-decoration-color: #008000\">'gender'</span>,\n",
       "    <span style=\"color: #008000; text-decoration-color: #008000\">'gender_code'</span>,\n",
       "    <span style=\"color: #008000; text-decoration-color: #008000\">'language'</span>,\n",
       "    <span style=\"color: #008000; text-decoration-color: #008000\">'locale'</span>,\n",
       "    <span style=\"color: #008000; text-decoration-color: #008000\">'create_date'</span>,\n",
       "    <span style=\"color: #008000; text-decoration-color: #008000\">'modify_date'</span>,\n",
       "    <span style=\"color: #008000; text-decoration-color: #008000\">'location'</span>,\n",
       "    <span style=\"color: #008000; text-decoration-color: #008000\">'verified'</span>,\n",
       "    <span style=\"color: #008000; text-decoration-color: #008000\">'ambassador'</span>,\n",
       "    <span style=\"color: #008000; text-decoration-color: #008000\">'facebook'</span>,\n",
       "    <span style=\"color: #008000; text-decoration-color: #008000\">'twitter'</span>,\n",
       "    <span style=\"color: #008000; text-decoration-color: #008000\">'website'</span>,\n",
       "    <span style=\"color: #008000; text-decoration-color: #008000\">'lulu'</span>,\n",
       "    <span style=\"color: #008000; text-decoration-color: #008000\">'smashwords'</span>,\n",
       "    <span style=\"color: #008000; text-decoration-color: #008000\">'bubok'</span>,\n",
       "    <span style=\"color: #008000; text-decoration-color: #008000\">'votes_received'</span>,\n",
       "    <span style=\"color: #008000; text-decoration-color: #008000\">'num_stories_published'</span>,\n",
       "    <span style=\"color: #008000; text-decoration-color: #008000\">'num_following'</span>,\n",
       "    <span style=\"color: #008000; text-decoration-color: #008000\">'num_followers'</span>,\n",
       "    <span style=\"color: #008000; text-decoration-color: #008000\">'num_messages'</span>,\n",
       "    <span style=\"color: #008000; text-decoration-color: #008000\">'num_lists'</span>,\n",
       "    <span style=\"color: #008000; text-decoration-color: #008000\">'verified_email'</span>,\n",
       "    <span style=\"color: #008000; text-decoration-color: #008000\">'preferred_categories'</span>,\n",
       "    <span style=\"color: #008000; text-decoration-color: #008000\">'allow_crawler'</span>,\n",
       "    <span style=\"color: #008000; text-decoration-color: #008000\">'deeplink'</span>,\n",
       "    <span style=\"color: #008000; text-decoration-color: #008000\">'is_muted'</span>,\n",
       "    <span style=\"color: #008000; text-decoration-color: #008000\">'birthdate'</span>,\n",
       "    <span style=\"color: #008000; text-decoration-color: #008000\">'inbox'</span>,\n",
       "    <span style=\"color: #008000; text-decoration-color: #008000\">'notifications'</span>,\n",
       "    <span style=\"color: #008000; text-decoration-color: #008000\">'connected_services'</span>,\n",
       "    <span style=\"color: #008000; text-decoration-color: #008000\">'age'</span>,\n",
       "    <span style=\"color: #008000; text-decoration-color: #008000\">'email'</span>,\n",
       "    <span style=\"color: #008000; text-decoration-color: #008000\">'has_password'</span>\n",
       "<span style=\"font-weight: bold\">]</span>\n",
       "</pre>\n"
      ],
      "text/plain": [
       "\u001b[1m[\u001b[0m\n",
       "    \u001b[32m'username'\u001b[0m,\n",
       "    \u001b[32m'avatar'\u001b[0m,\n",
       "    \u001b[32m'is_private'\u001b[0m,\n",
       "    \u001b[32m'background_url'\u001b[0m,\n",
       "    \u001b[32m'follower'\u001b[0m,\n",
       "    \u001b[32m'following'\u001b[0m,\n",
       "    \u001b[32m'name'\u001b[0m,\n",
       "    \u001b[32m'description'\u001b[0m,\n",
       "    \u001b[32m'status'\u001b[0m,\n",
       "    \u001b[32m'gender'\u001b[0m,\n",
       "    \u001b[32m'gender_code'\u001b[0m,\n",
       "    \u001b[32m'language'\u001b[0m,\n",
       "    \u001b[32m'locale'\u001b[0m,\n",
       "    \u001b[32m'create_date'\u001b[0m,\n",
       "    \u001b[32m'modify_date'\u001b[0m,\n",
       "    \u001b[32m'location'\u001b[0m,\n",
       "    \u001b[32m'verified'\u001b[0m,\n",
       "    \u001b[32m'ambassador'\u001b[0m,\n",
       "    \u001b[32m'facebook'\u001b[0m,\n",
       "    \u001b[32m'twitter'\u001b[0m,\n",
       "    \u001b[32m'website'\u001b[0m,\n",
       "    \u001b[32m'lulu'\u001b[0m,\n",
       "    \u001b[32m'smashwords'\u001b[0m,\n",
       "    \u001b[32m'bubok'\u001b[0m,\n",
       "    \u001b[32m'votes_received'\u001b[0m,\n",
       "    \u001b[32m'num_stories_published'\u001b[0m,\n",
       "    \u001b[32m'num_following'\u001b[0m,\n",
       "    \u001b[32m'num_followers'\u001b[0m,\n",
       "    \u001b[32m'num_messages'\u001b[0m,\n",
       "    \u001b[32m'num_lists'\u001b[0m,\n",
       "    \u001b[32m'verified_email'\u001b[0m,\n",
       "    \u001b[32m'preferred_categories'\u001b[0m,\n",
       "    \u001b[32m'allow_crawler'\u001b[0m,\n",
       "    \u001b[32m'deeplink'\u001b[0m,\n",
       "    \u001b[32m'is_muted'\u001b[0m,\n",
       "    \u001b[32m'birthdate'\u001b[0m,\n",
       "    \u001b[32m'inbox'\u001b[0m,\n",
       "    \u001b[32m'notifications'\u001b[0m,\n",
       "    \u001b[32m'connected_services'\u001b[0m,\n",
       "    \u001b[32m'age'\u001b[0m,\n",
       "    \u001b[32m'email'\u001b[0m,\n",
       "    \u001b[32m'has_password'\u001b[0m\n",
       "\u001b[1m]\u001b[0m\n"
      ]
     },
     "metadata": {},
     "output_type": "display_data"
    }
   ],
   "source": [
    "from wattpad.models import UserModel\n",
    "from wattpad.utils import get_fields\n",
    "\n",
    "print(get_fields(UserModel, prefer_alias=False))"
   ]
  },
  {
   "cell_type": "markdown",
   "metadata": {},
   "source": [
    "## Fetching stories"
   ]
  },
  {
   "cell_type": "code",
   "execution_count": 7,
   "metadata": {},
   "outputs": [
    {
     "data": {
      "text/html": [
       "<pre style=\"white-space:pre;overflow-x:auto;line-height:normal;font-family:Menlo,'DejaVu Sans Mono',consolas,'Courier New',monospace\"><span style=\"font-weight: bold\">[</span>\n",
       "    <span style=\"font-weight: bold\">&lt;</span><span style=\"color: #ff00ff; text-decoration-color: #ff00ff; font-weight: bold\">Story</span><span style=\"color: #000000; text-decoration-color: #000000\"> </span><span style=\"color: #808000; text-decoration-color: #808000\">id</span><span style=\"color: #000000; text-decoration-color: #000000\">=</span><span style=\"color: #008080; text-decoration-color: #008080; font-weight: bold\">237369078</span><span style=\"color: #000000; text-decoration-color: #000000\">&gt;,</span>\n",
       "<span style=\"color: #000000; text-decoration-color: #000000\">    &lt;Story </span><span style=\"color: #808000; text-decoration-color: #808000\">id</span><span style=\"color: #000000; text-decoration-color: #000000\">=</span><span style=\"color: #008080; text-decoration-color: #008080; font-weight: bold\">224300595</span><span style=\"color: #000000; text-decoration-color: #000000\">&gt;,</span>\n",
       "<span style=\"color: #000000; text-decoration-color: #000000\">    &lt;Story </span><span style=\"color: #808000; text-decoration-color: #808000\">id</span><span style=\"color: #000000; text-decoration-color: #000000\">=</span><span style=\"color: #008080; text-decoration-color: #008080; font-weight: bold\">235072518</span><span style=\"color: #000000; text-decoration-color: #000000\">&gt;,</span>\n",
       "<span style=\"color: #000000; text-decoration-color: #000000\">    &lt;Story </span><span style=\"color: #808000; text-decoration-color: #808000\">id</span><span style=\"color: #000000; text-decoration-color: #000000\">=</span><span style=\"color: #008080; text-decoration-color: #008080; font-weight: bold\">220579773</span><span style=\"color: #000000; text-decoration-color: #000000\">&gt;,</span>\n",
       "<span style=\"color: #000000; text-decoration-color: #000000\">    &lt;Story </span><span style=\"color: #808000; text-decoration-color: #808000\">id</span><span style=\"color: #000000; text-decoration-color: #000000\">=</span><span style=\"color: #008080; text-decoration-color: #008080; font-weight: bold\">205141809</span><span style=\"color: #000000; text-decoration-color: #000000\">&gt;,</span>\n",
       "<span style=\"color: #000000; text-decoration-color: #000000\">    &lt;Story </span><span style=\"color: #808000; text-decoration-color: #808000\">id</span><span style=\"color: #000000; text-decoration-color: #000000\">=</span><span style=\"color: #008080; text-decoration-color: #008080; font-weight: bold\">208192934</span><span style=\"font-weight: bold\">&gt;</span>\n",
       "<span style=\"font-weight: bold\">]</span>\n",
       "</pre>\n"
      ],
      "text/plain": [
       "\u001b[1m[\u001b[0m\n",
       "    \u001b[1m<\u001b[0m\u001b[1;95mStory\u001b[0m\u001b[39m \u001b[0m\u001b[33mid\u001b[0m\u001b[39m=\u001b[0m\u001b[1;36m237369078\u001b[0m\u001b[39m>,\u001b[0m\n",
       "\u001b[39m    <Story \u001b[0m\u001b[33mid\u001b[0m\u001b[39m=\u001b[0m\u001b[1;36m224300595\u001b[0m\u001b[39m>,\u001b[0m\n",
       "\u001b[39m    <Story \u001b[0m\u001b[33mid\u001b[0m\u001b[39m=\u001b[0m\u001b[1;36m235072518\u001b[0m\u001b[39m>,\u001b[0m\n",
       "\u001b[39m    <Story \u001b[0m\u001b[33mid\u001b[0m\u001b[39m=\u001b[0m\u001b[1;36m220579773\u001b[0m\u001b[39m>,\u001b[0m\n",
       "\u001b[39m    <Story \u001b[0m\u001b[33mid\u001b[0m\u001b[39m=\u001b[0m\u001b[1;36m205141809\u001b[0m\u001b[39m>,\u001b[0m\n",
       "\u001b[39m    <Story \u001b[0m\u001b[33mid\u001b[0m\u001b[39m=\u001b[0m\u001b[1;36m208192934\u001b[0m\u001b[1m>\u001b[0m\n",
       "\u001b[1m]\u001b[0m\n"
      ]
     },
     "metadata": {},
     "output_type": "display_data"
    },
    {
     "data": {
      "text/html": [
       "<pre style=\"white-space:pre;overflow-x:auto;line-height:normal;font-family:Menlo,'DejaVu Sans Mono',consolas,'Courier New',monospace\"><span style=\"color: #800080; text-decoration-color: #800080; font-weight: bold\">StoryModel</span><span style=\"font-weight: bold\">(</span>\n",
       "    <span style=\"color: #808000; text-decoration-color: #808000\">id</span>=<span style=\"color: #008000; text-decoration-color: #008000\">'237369078'</span>,\n",
       "    <span style=\"color: #808000; text-decoration-color: #808000\">title</span>=<span style=\"color: #008000; text-decoration-color: #008000\">'Wattpad Books Presents'</span>,\n",
       "    <span style=\"color: #808000; text-decoration-color: #808000\">create_date</span>=<span style=\"color: #008000; text-decoration-color: #008000\">'2020-08-18T20:37:20Z'</span>,\n",
       "    <span style=\"color: #808000; text-decoration-color: #808000\">modify_date</span>=<span style=\"color: #800080; text-decoration-color: #800080; font-style: italic\">None</span>,\n",
       "    <span style=\"color: #808000; text-decoration-color: #808000\">vote_count</span>=<span style=\"color: #800080; text-decoration-color: #800080; font-style: italic\">None</span>,\n",
       "    <span style=\"color: #808000; text-decoration-color: #808000\">read_count</span>=<span style=\"color: #800080; text-decoration-color: #800080; font-style: italic\">None</span>,\n",
       "    <span style=\"color: #808000; text-decoration-color: #808000\">comment_count</span>=<span style=\"color: #800080; text-decoration-color: #800080; font-style: italic\">None</span>,\n",
       "    <span style=\"color: #808000; text-decoration-color: #808000\">description</span>=<span style=\"color: #008000; text-decoration-color: #008000\">\"Welcome to Wattpad Books! Here you can find all of the titles that we have published or will be </span>\n",
       "<span style=\"color: #008000; text-decoration-color: #008000\">publishing. We'll be adding new titles as we acquire them, so stay tuned! You can purchase Wattpad Books through </span>\n",
       "<span style=\"color: #008000; text-decoration-color: #008000\">our website books.wattpad.com or from your favourite retailer. You can also read them here on Wattpad.\"</span>,\n",
       "    <span style=\"color: #808000; text-decoration-color: #808000\">completed</span>=<span style=\"color: #800080; text-decoration-color: #800080; font-style: italic\">None</span>,\n",
       "    <span style=\"color: #808000; text-decoration-color: #808000\">tags</span>=<span style=\"color: #800080; text-decoration-color: #800080; font-style: italic\">None</span>,\n",
       "    <span style=\"color: #808000; text-decoration-color: #808000\">rating</span>=<span style=\"color: #800080; text-decoration-color: #800080; font-style: italic\">None</span>,\n",
       "    <span style=\"color: #808000; text-decoration-color: #808000\">mature</span>=<span style=\"color: #800080; text-decoration-color: #800080; font-style: italic\">None</span>,\n",
       "    <span style=\"color: #808000; text-decoration-color: #808000\">url</span>=<span style=\"color: #800080; text-decoration-color: #800080; font-style: italic\">None</span>,\n",
       "    <span style=\"color: #808000; text-decoration-color: #808000\">is_paywalled</span>=<span style=\"color: #800080; text-decoration-color: #800080; font-style: italic\">None</span>,\n",
       "    <span style=\"color: #808000; text-decoration-color: #808000\">cover</span>=<span style=\"color: #800080; text-decoration-color: #800080; font-style: italic\">None</span>,\n",
       "    <span style=\"color: #808000; text-decoration-color: #808000\">cover_timestamp</span>=<span style=\"color: #800080; text-decoration-color: #800080; font-style: italic\">None</span>,\n",
       "    <span style=\"color: #808000; text-decoration-color: #808000\">categories</span>=<span style=\"color: #800080; text-decoration-color: #800080; font-style: italic\">None</span>,\n",
       "    <span style=\"color: #808000; text-decoration-color: #808000\">copyright</span>=<span style=\"color: #800080; text-decoration-color: #800080; font-style: italic\">None</span>,\n",
       "    <span style=\"color: #808000; text-decoration-color: #808000\">first_part_id</span>=<span style=\"color: #800080; text-decoration-color: #800080; font-style: italic\">None</span>,\n",
       "    <span style=\"color: #808000; text-decoration-color: #808000\">num_parts</span>=<span style=\"color: #800080; text-decoration-color: #800080; font-style: italic\">None</span>,\n",
       "    <span style=\"color: #808000; text-decoration-color: #808000\">deleted</span>=<span style=\"color: #800080; text-decoration-color: #800080; font-style: italic\">None</span>,\n",
       "    <span style=\"color: #808000; text-decoration-color: #808000\">first_published_part</span>=<span style=\"color: #800080; text-decoration-color: #800080; font-style: italic\">None</span>,\n",
       "    <span style=\"color: #808000; text-decoration-color: #808000\">last_published_part</span>=<span style=\"color: #800080; text-decoration-color: #800080; font-style: italic\">None</span>,\n",
       "    <span style=\"color: #808000; text-decoration-color: #808000\">language</span>=<span style=\"color: #800080; text-decoration-color: #800080; font-style: italic\">None</span>,\n",
       "    <span style=\"color: #808000; text-decoration-color: #808000\">user</span>=<span style=\"color: #800080; text-decoration-color: #800080; font-style: italic\">None</span>,\n",
       "    <span style=\"color: #808000; text-decoration-color: #808000\">parts</span>=<span style=\"font-weight: bold\">[]</span>,\n",
       "    <span style=\"color: #808000; text-decoration-color: #808000\">tag_rankings</span>=<span style=\"font-weight: bold\">[</span>\n",
       "        <span style=\"font-weight: bold\">{</span><span style=\"color: #008000; text-decoration-color: #008000\">'name'</span>: <span style=\"color: #008000; text-decoration-color: #008000\">'feel'</span>, <span style=\"color: #008000; text-decoration-color: #008000\">'rank'</span>: <span style=\"color: #008080; text-decoration-color: #008080; font-weight: bold\">31</span>, <span style=\"color: #008000; text-decoration-color: #008000\">'total'</span>: <span style=\"color: #008080; text-decoration-color: #008080; font-weight: bold\">3107</span><span style=\"font-weight: bold\">}</span>,\n",
       "        <span style=\"font-weight: bold\">{</span><span style=\"color: #008000; text-decoration-color: #008000\">'name'</span>: <span style=\"color: #008000; text-decoration-color: #008000\">'authors'</span>, <span style=\"color: #008000; text-decoration-color: #008000\">'rank'</span>: <span style=\"color: #008080; text-decoration-color: #008080; font-weight: bold\">68</span>, <span style=\"color: #008000; text-decoration-color: #008000\">'total'</span>: <span style=\"color: #008080; text-decoration-color: #008080; font-weight: bold\">3586</span><span style=\"font-weight: bold\">}</span>,\n",
       "        <span style=\"font-weight: bold\">{</span><span style=\"color: #008000; text-decoration-color: #008000\">'name'</span>: <span style=\"color: #008000; text-decoration-color: #008000\">'publishing'</span>, <span style=\"color: #008000; text-decoration-color: #008000\">'rank'</span>: <span style=\"color: #008080; text-decoration-color: #008080; font-weight: bold\">22</span>, <span style=\"color: #008000; text-decoration-color: #008000\">'total'</span>: <span style=\"color: #008080; text-decoration-color: #008080; font-weight: bold\">1004</span><span style=\"font-weight: bold\">}</span>,\n",
       "        <span style=\"font-weight: bold\">{</span><span style=\"color: #008000; text-decoration-color: #008000\">'name'</span>: <span style=\"color: #008000; text-decoration-color: #008000\">'published'</span>, <span style=\"color: #008000; text-decoration-color: #008000\">'rank'</span>: <span style=\"color: #008080; text-decoration-color: #008080; font-weight: bold\">61</span>, <span style=\"color: #008000; text-decoration-color: #008000\">'total'</span>: <span style=\"color: #008080; text-decoration-color: #008080; font-weight: bold\">1856</span><span style=\"font-weight: bold\">}</span>,\n",
       "        <span style=\"font-weight: bold\">{</span><span style=\"color: #008000; text-decoration-color: #008000\">'name'</span>: <span style=\"color: #008000; text-decoration-color: #008000\">'ya'</span>, <span style=\"color: #008000; text-decoration-color: #008000\">'rank'</span>: <span style=\"color: #008080; text-decoration-color: #008080; font-weight: bold\">579</span>, <span style=\"color: #008000; text-decoration-color: #008000\">'total'</span>: <span style=\"color: #008080; text-decoration-color: #008080; font-weight: bold\">11095</span><span style=\"font-weight: bold\">}</span>,\n",
       "        <span style=\"font-weight: bold\">{</span><span style=\"color: #008000; text-decoration-color: #008000\">'name'</span>: <span style=\"color: #008000; text-decoration-color: #008000\">'feelgood'</span>, <span style=\"color: #008000; text-decoration-color: #008000\">'rank'</span>: <span style=\"color: #008080; text-decoration-color: #008080; font-weight: bold\">172</span>, <span style=\"color: #008000; text-decoration-color: #008000\">'total'</span>: <span style=\"color: #008080; text-decoration-color: #008080; font-weight: bold\">3070</span><span style=\"font-weight: bold\">}</span>,\n",
       "        <span style=\"font-weight: bold\">{</span><span style=\"color: #008000; text-decoration-color: #008000\">'name'</span>: <span style=\"color: #008000; text-decoration-color: #008000\">'wattpadbooks'</span>, <span style=\"color: #008000; text-decoration-color: #008000\">'rank'</span>: <span style=\"color: #008080; text-decoration-color: #008080; font-weight: bold\">143</span>, <span style=\"color: #008000; text-decoration-color: #008000\">'total'</span>: <span style=\"color: #008080; text-decoration-color: #008080; font-weight: bold\">1940</span><span style=\"font-weight: bold\">}</span>\n",
       "    <span style=\"font-weight: bold\">]</span>\n",
       "<span style=\"font-weight: bold\">)</span>\n",
       "</pre>\n"
      ],
      "text/plain": [
       "\u001b[1;35mStoryModel\u001b[0m\u001b[1m(\u001b[0m\n",
       "    \u001b[33mid\u001b[0m=\u001b[32m'237369078'\u001b[0m,\n",
       "    \u001b[33mtitle\u001b[0m=\u001b[32m'Wattpad Books Presents'\u001b[0m,\n",
       "    \u001b[33mcreate_date\u001b[0m=\u001b[32m'2020-08-18T20:37:20Z'\u001b[0m,\n",
       "    \u001b[33mmodify_date\u001b[0m=\u001b[3;35mNone\u001b[0m,\n",
       "    \u001b[33mvote_count\u001b[0m=\u001b[3;35mNone\u001b[0m,\n",
       "    \u001b[33mread_count\u001b[0m=\u001b[3;35mNone\u001b[0m,\n",
       "    \u001b[33mcomment_count\u001b[0m=\u001b[3;35mNone\u001b[0m,\n",
       "    \u001b[33mdescription\u001b[0m=\u001b[32m\"Welcome\u001b[0m\u001b[32m to Wattpad Books! Here you can find all of the titles that we have published or will be \u001b[0m\n",
       "\u001b[32mpublishing. We'll be adding new titles as we acquire them, so stay tuned! You can purchase Wattpad Books through \u001b[0m\n",
       "\u001b[32mour website books.wattpad.com or from your favourite retailer. You can also read them here on Wattpad.\"\u001b[0m,\n",
       "    \u001b[33mcompleted\u001b[0m=\u001b[3;35mNone\u001b[0m,\n",
       "    \u001b[33mtags\u001b[0m=\u001b[3;35mNone\u001b[0m,\n",
       "    \u001b[33mrating\u001b[0m=\u001b[3;35mNone\u001b[0m,\n",
       "    \u001b[33mmature\u001b[0m=\u001b[3;35mNone\u001b[0m,\n",
       "    \u001b[33murl\u001b[0m=\u001b[3;35mNone\u001b[0m,\n",
       "    \u001b[33mis_paywalled\u001b[0m=\u001b[3;35mNone\u001b[0m,\n",
       "    \u001b[33mcover\u001b[0m=\u001b[3;35mNone\u001b[0m,\n",
       "    \u001b[33mcover_timestamp\u001b[0m=\u001b[3;35mNone\u001b[0m,\n",
       "    \u001b[33mcategories\u001b[0m=\u001b[3;35mNone\u001b[0m,\n",
       "    \u001b[33mcopyright\u001b[0m=\u001b[3;35mNone\u001b[0m,\n",
       "    \u001b[33mfirst_part_id\u001b[0m=\u001b[3;35mNone\u001b[0m,\n",
       "    \u001b[33mnum_parts\u001b[0m=\u001b[3;35mNone\u001b[0m,\n",
       "    \u001b[33mdeleted\u001b[0m=\u001b[3;35mNone\u001b[0m,\n",
       "    \u001b[33mfirst_published_part\u001b[0m=\u001b[3;35mNone\u001b[0m,\n",
       "    \u001b[33mlast_published_part\u001b[0m=\u001b[3;35mNone\u001b[0m,\n",
       "    \u001b[33mlanguage\u001b[0m=\u001b[3;35mNone\u001b[0m,\n",
       "    \u001b[33muser\u001b[0m=\u001b[3;35mNone\u001b[0m,\n",
       "    \u001b[33mparts\u001b[0m=\u001b[1m[\u001b[0m\u001b[1m]\u001b[0m,\n",
       "    \u001b[33mtag_rankings\u001b[0m=\u001b[1m[\u001b[0m\n",
       "        \u001b[1m{\u001b[0m\u001b[32m'name'\u001b[0m: \u001b[32m'feel'\u001b[0m, \u001b[32m'rank'\u001b[0m: \u001b[1;36m31\u001b[0m, \u001b[32m'total'\u001b[0m: \u001b[1;36m3107\u001b[0m\u001b[1m}\u001b[0m,\n",
       "        \u001b[1m{\u001b[0m\u001b[32m'name'\u001b[0m: \u001b[32m'authors'\u001b[0m, \u001b[32m'rank'\u001b[0m: \u001b[1;36m68\u001b[0m, \u001b[32m'total'\u001b[0m: \u001b[1;36m3586\u001b[0m\u001b[1m}\u001b[0m,\n",
       "        \u001b[1m{\u001b[0m\u001b[32m'name'\u001b[0m: \u001b[32m'publishing'\u001b[0m, \u001b[32m'rank'\u001b[0m: \u001b[1;36m22\u001b[0m, \u001b[32m'total'\u001b[0m: \u001b[1;36m1004\u001b[0m\u001b[1m}\u001b[0m,\n",
       "        \u001b[1m{\u001b[0m\u001b[32m'name'\u001b[0m: \u001b[32m'published'\u001b[0m, \u001b[32m'rank'\u001b[0m: \u001b[1;36m61\u001b[0m, \u001b[32m'total'\u001b[0m: \u001b[1;36m1856\u001b[0m\u001b[1m}\u001b[0m,\n",
       "        \u001b[1m{\u001b[0m\u001b[32m'name'\u001b[0m: \u001b[32m'ya'\u001b[0m, \u001b[32m'rank'\u001b[0m: \u001b[1;36m579\u001b[0m, \u001b[32m'total'\u001b[0m: \u001b[1;36m11095\u001b[0m\u001b[1m}\u001b[0m,\n",
       "        \u001b[1m{\u001b[0m\u001b[32m'name'\u001b[0m: \u001b[32m'feelgood'\u001b[0m, \u001b[32m'rank'\u001b[0m: \u001b[1;36m172\u001b[0m, \u001b[32m'total'\u001b[0m: \u001b[1;36m3070\u001b[0m\u001b[1m}\u001b[0m,\n",
       "        \u001b[1m{\u001b[0m\u001b[32m'name'\u001b[0m: \u001b[32m'wattpadbooks'\u001b[0m, \u001b[32m'rank'\u001b[0m: \u001b[1;36m143\u001b[0m, \u001b[32m'total'\u001b[0m: \u001b[1;36m1940\u001b[0m\u001b[1m}\u001b[0m\n",
       "    \u001b[1m]\u001b[0m\n",
       "\u001b[1m)\u001b[0m\n"
      ]
     },
     "metadata": {},
     "output_type": "display_data"
    }
   ],
   "source": [
    "\n",
    "await user.fetch_stories({\"title\": True})\n",
    "await user.fetch_stories({\"createDate\": True})\n",
    "await user.fetch_stories({\"description\": True, \"tagRankings\": True})\n",
    "\n",
    "\n",
    "print(user.stories)\n",
    "print(user.stories[0].data)"
   ]
  },
  {
   "cell_type": "markdown",
   "metadata": {},
   "source": [
    "Available parameters to `fetch` functions will show up in autocomplete recommendations. If not, the [documentation](./reference/user.md) has information on the same.\n",
    "\n",
    "---\n",
    "\n",
    "As displayed above, story data can be fetched like so.\n",
    "\n",
    "Fetched data concatenates and overwrites pre-existing data. Keys are populated or overwritten with data from the responses."
   ]
  },
  {
   "cell_type": "markdown",
   "metadata": {},
   "source": [
    "## User Fetching\n",
    "Fetching a user's `followers`, `following` can be achieved like so:"
   ]
  },
  {
   "cell_type": "code",
   "execution_count": 8,
   "metadata": {},
   "outputs": [
    {
     "data": {
      "text/html": [
       "<pre style=\"white-space:pre;overflow-x:auto;line-height:normal;font-family:Menlo,'DejaVu Sans Mono',consolas,'Courier New',monospace\"><span style=\"font-weight: bold\">&lt;</span><span style=\"color: #ff00ff; text-decoration-color: #ff00ff; font-weight: bold\">User</span><span style=\"color: #000000; text-decoration-color: #000000\"> </span><span style=\"color: #808000; text-decoration-color: #808000\">username</span><span style=\"color: #000000; text-decoration-color: #000000\">=</span><span style=\"color: #800080; text-decoration-color: #800080\">magicalfairykitten</span><span style=\"font-weight: bold\">&gt;</span>\n",
       "</pre>\n"
      ],
      "text/plain": [
       "\u001b[1m<\u001b[0m\u001b[1;95mUser\u001b[0m\u001b[39m \u001b[0m\u001b[33musername\u001b[0m\u001b[39m=\u001b[0m\u001b[35mmagicalfairykitten\u001b[0m\u001b[1m>\u001b[0m\n"
      ]
     },
     "metadata": {},
     "output_type": "display_data"
    },
    {
     "data": {
      "text/html": [
       "<pre style=\"white-space:pre;overflow-x:auto;line-height:normal;font-family:Menlo,'DejaVu Sans Mono',consolas,'Courier New',monospace\">\n",
       "</pre>\n"
      ],
      "text/plain": [
       "\n"
      ]
     },
     "metadata": {},
     "output_type": "display_data"
    }
   ],
   "source": [
    "await user.fetch_followers(include={'username': True, \"description\": True}, limit=1, offset=4)\n",
    "\n",
    "for follower in user.followers:\n",
    "    print(follower)\n",
    "    print(follower.data.description)\n",
    "    break"
   ]
  },
  {
   "cell_type": "markdown",
   "metadata": {},
   "source": [
    "As `fetch_followers` and `fetch_following` are computationally expensive on the API-Side, it's recommended to use the `limit` and `offset` parameters to paginate responses. This prevents long response times and response timeouts.\n",
    "\n",
    "Here's an example of pagination:"
   ]
  },
  {
   "cell_type": "code",
   "execution_count": 9,
   "metadata": {},
   "outputs": [
    {
     "data": {
      "text/html": [
       "<pre style=\"white-space:pre;overflow-x:auto;line-height:normal;font-family:Menlo,'DejaVu Sans Mono',consolas,'Courier New',monospace\">Processing Chunk: <span style=\"color: #008080; text-decoration-color: #008080; font-weight: bold\">0</span>\n",
       "</pre>\n"
      ],
      "text/plain": [
       "Processing Chunk: \u001b[1;36m0\u001b[0m\n"
      ]
     },
     "metadata": {},
     "output_type": "display_data"
    },
    {
     "data": {
      "text/html": [
       "<pre style=\"white-space:pre;overflow-x:auto;line-height:normal;font-family:Menlo,'DejaVu Sans Mono',consolas,'Courier New',monospace\">Processing Chunk: <span style=\"color: #008080; text-decoration-color: #008080; font-weight: bold\">1</span>\n",
       "</pre>\n"
      ],
      "text/plain": [
       "Processing Chunk: \u001b[1;36m1\u001b[0m\n"
      ]
     },
     "metadata": {},
     "output_type": "display_data"
    },
    {
     "data": {
      "text/html": [
       "<pre style=\"white-space:pre;overflow-x:auto;line-height:normal;font-family:Menlo,'DejaVu Sans Mono',consolas,'Courier New',monospace\"><span style=\"color: #008080; text-decoration-color: #008080; font-weight: bold\">30</span> followers have been fetched for <span style=\"font-weight: bold\">&lt;</span><span style=\"color: #ff00ff; text-decoration-color: #ff00ff; font-weight: bold\">User</span><span style=\"color: #000000; text-decoration-color: #000000\"> </span><span style=\"color: #808000; text-decoration-color: #808000\">username</span><span style=\"color: #000000; text-decoration-color: #000000\">=</span><span style=\"color: #800080; text-decoration-color: #800080\">wattpadbooks</span><span style=\"font-weight: bold\">&gt;</span>.\n",
       "</pre>\n"
      ],
      "text/plain": [
       "\u001b[1;36m30\u001b[0m followers have been fetched for \u001b[1m<\u001b[0m\u001b[1;95mUser\u001b[0m\u001b[39m \u001b[0m\u001b[33musername\u001b[0m\u001b[39m=\u001b[0m\u001b[35mwattpadbooks\u001b[0m\u001b[1m>\u001b[0m.\n"
      ]
     },
     "metadata": {},
     "output_type": "display_data"
    }
   ],
   "source": [
    "await user.fetch({\"numFollowers\": True})\n",
    "\n",
    "total = user.data.num_followers\n",
    "assert total\n",
    "\n",
    "limit = 10\n",
    "chunks = total // limit\n",
    "if chunks > 199:\n",
    "    chunks = 199  # ! Wattpad fails with an offset over 1990.\n",
    "\n",
    "# ! Since this is a demo, we'll retrieve two chunks only.\n",
    "chunks = 2\n",
    "\n",
    "for chunk in range(chunks):\n",
    "    print(f\"Processing Chunk: {chunk}\")\n",
    "    await user.fetch_followers({\"username\": True}, limit=limit, offset=limit*chunk)\n",
    "await user.fetch_followers({\"username\": True}, offset=len(user.followers))\n",
    "\n",
    "\n",
    "print(f\"{len(user.followers)} followers have been fetched for {user}.\")"
   ]
  },
  {
   "cell_type": "markdown",
   "metadata": {},
   "source": [
    "## Fetching stories"
   ]
  },
  {
   "cell_type": "code",
   "execution_count": 10,
   "metadata": {},
   "outputs": [
    {
     "data": {
      "text/html": [
       "<pre style=\"white-space:pre;overflow-x:auto;line-height:normal;font-family:Menlo,'DejaVu Sans Mono',consolas,'Courier New',monospace\"><span style=\"font-weight: bold\">&lt;</span><span style=\"color: #ff00ff; text-decoration-color: #ff00ff; font-weight: bold\">Story</span><span style=\"color: #000000; text-decoration-color: #000000\"> </span><span style=\"color: #808000; text-decoration-color: #808000\">id</span><span style=\"color: #000000; text-decoration-color: #000000\">=</span><span style=\"color: #008080; text-decoration-color: #008080; font-weight: bold\">237369078</span><span style=\"font-weight: bold\">&gt;</span> Wattpad Books Presents\n",
       "</pre>\n"
      ],
      "text/plain": [
       "\u001b[1m<\u001b[0m\u001b[1;95mStory\u001b[0m\u001b[39m \u001b[0m\u001b[33mid\u001b[0m\u001b[39m=\u001b[0m\u001b[1;36m237369078\u001b[0m\u001b[1m>\u001b[0m Wattpad Books Presents\n"
      ]
     },
     "metadata": {},
     "output_type": "display_data"
    }
   ],
   "source": [
    "await user.fetch_stories({\"title\": True})\n",
    "\n",
    "print(user.stories[0], user.stories[0].data.title)"
   ]
  },
  {
   "cell_type": "markdown",
   "metadata": {},
   "source": [
    "**All available attributes for `story.data`**"
   ]
  },
  {
   "cell_type": "markdown",
   "metadata": {},
   "source": [
    "## Stories"
   ]
  },
  {
   "cell_type": "code",
   "execution_count": 11,
   "metadata": {},
   "outputs": [
    {
     "data": {
      "text/html": [
       "<pre style=\"white-space:pre;overflow-x:auto;line-height:normal;font-family:Menlo,'DejaVu Sans Mono',consolas,'Courier New',monospace\">Welcome to Wattpad Books! Here you can find all of the titles that we have published or will be publishing. We'll \n",
       "be adding new titles as we acquire them, so stay tuned! You can purchase Wattpad Books through our website \n",
       "books.wattpad.com or from your favourite retailer. You can also read them here on Wattpad.\n",
       "</pre>\n"
      ],
      "text/plain": [
       "Welcome to Wattpad Books! Here you can find all of the titles that we have published or will be publishing. We'll \n",
       "be adding new titles as we acquire them, so stay tuned! You can purchase Wattpad Books through our website \n",
       "books.wattpad.com or from your favourite retailer. You can also read them here on Wattpad.\n"
      ]
     },
     "metadata": {},
     "output_type": "display_data"
    }
   ],
   "source": [
    "from wattpad import Story\n",
    "\n",
    "story = Story(\"237369078\")\n",
    "await story.fetch({\"description\": True})\n",
    "\n",
    "print(story.data.description)"
   ]
  },
  {
   "cell_type": "markdown",
   "metadata": {},
   "source": [
    "## Fetching recommended stories\n",
    "Wattpad has a recommendation algorithm which recommends stories based on one provided.\n",
    "\n",
    "Use `limit` and `offset` as you did for `user.fetch_followers` and `user.fetch_following`."
   ]
  },
  {
   "cell_type": "code",
   "execution_count": 12,
   "metadata": {},
   "outputs": [
    {
     "data": {
      "text/html": [
       "<pre style=\"white-space:pre;overflow-x:auto;line-height:normal;font-family:Menlo,'DejaVu Sans Mono',consolas,'Courier New',monospace\">Madame Bovary\n",
       "</pre>\n"
      ],
      "text/plain": [
       "Madame Bovary\n"
      ]
     },
     "metadata": {},
     "output_type": "display_data"
    }
   ],
   "source": [
    "await story.fetch_recommended({\"title\": True, \"voteCount\": True}, limit=1, offset=0)\n",
    "\n",
    "print(story.recommended[0].data.title)"
   ]
  },
  {
   "cell_type": "markdown",
   "metadata": {},
   "source": [
    "## Story Data\n",
    "Available data from `story.data`."
   ]
  },
  {
   "cell_type": "code",
   "execution_count": 13,
   "metadata": {},
   "outputs": [
    {
     "data": {
      "text/html": [
       "<pre style=\"white-space:pre;overflow-x:auto;line-height:normal;font-family:Menlo,'DejaVu Sans Mono',consolas,'Courier New',monospace\"><span style=\"font-weight: bold\">[</span>\n",
       "    <span style=\"color: #008000; text-decoration-color: #008000\">'id'</span>,\n",
       "    <span style=\"color: #008000; text-decoration-color: #008000\">'title'</span>,\n",
       "    <span style=\"color: #008000; text-decoration-color: #008000\">'create_date'</span>,\n",
       "    <span style=\"color: #008000; text-decoration-color: #008000\">'modify_date'</span>,\n",
       "    <span style=\"color: #008000; text-decoration-color: #008000\">'vote_count'</span>,\n",
       "    <span style=\"color: #008000; text-decoration-color: #008000\">'read_count'</span>,\n",
       "    <span style=\"color: #008000; text-decoration-color: #008000\">'comment_count'</span>,\n",
       "    <span style=\"color: #008000; text-decoration-color: #008000\">'description'</span>,\n",
       "    <span style=\"color: #008000; text-decoration-color: #008000\">'completed'</span>,\n",
       "    <span style=\"color: #008000; text-decoration-color: #008000\">'tags'</span>,\n",
       "    <span style=\"color: #008000; text-decoration-color: #008000\">'rating'</span>,\n",
       "    <span style=\"color: #008000; text-decoration-color: #008000\">'mature'</span>,\n",
       "    <span style=\"color: #008000; text-decoration-color: #008000\">'url'</span>,\n",
       "    <span style=\"color: #008000; text-decoration-color: #008000\">'is_paywalled'</span>,\n",
       "    <span style=\"color: #008000; text-decoration-color: #008000\">'cover'</span>,\n",
       "    <span style=\"color: #008000; text-decoration-color: #008000\">'cover_timestamp'</span>,\n",
       "    <span style=\"color: #008000; text-decoration-color: #008000\">'categories'</span>,\n",
       "    <span style=\"color: #008000; text-decoration-color: #008000\">'copyright'</span>,\n",
       "    <span style=\"color: #008000; text-decoration-color: #008000\">'first_part_id'</span>,\n",
       "    <span style=\"color: #008000; text-decoration-color: #008000\">'num_parts'</span>,\n",
       "    <span style=\"color: #008000; text-decoration-color: #008000\">'deleted'</span>,\n",
       "    <span style=\"color: #008000; text-decoration-color: #008000\">'first_published_part'</span>,\n",
       "    <span style=\"color: #008000; text-decoration-color: #008000\">'last_published_part'</span>,\n",
       "    <span style=\"color: #008000; text-decoration-color: #008000\">'language'</span>,\n",
       "    <span style=\"color: #008000; text-decoration-color: #008000\">'user'</span>,\n",
       "    <span style=\"color: #008000; text-decoration-color: #008000\">'parts'</span>,\n",
       "    <span style=\"color: #008000; text-decoration-color: #008000\">'tag_rankings'</span>\n",
       "<span style=\"font-weight: bold\">]</span>\n",
       "</pre>\n"
      ],
      "text/plain": [
       "\u001b[1m[\u001b[0m\n",
       "    \u001b[32m'id'\u001b[0m,\n",
       "    \u001b[32m'title'\u001b[0m,\n",
       "    \u001b[32m'create_date'\u001b[0m,\n",
       "    \u001b[32m'modify_date'\u001b[0m,\n",
       "    \u001b[32m'vote_count'\u001b[0m,\n",
       "    \u001b[32m'read_count'\u001b[0m,\n",
       "    \u001b[32m'comment_count'\u001b[0m,\n",
       "    \u001b[32m'description'\u001b[0m,\n",
       "    \u001b[32m'completed'\u001b[0m,\n",
       "    \u001b[32m'tags'\u001b[0m,\n",
       "    \u001b[32m'rating'\u001b[0m,\n",
       "    \u001b[32m'mature'\u001b[0m,\n",
       "    \u001b[32m'url'\u001b[0m,\n",
       "    \u001b[32m'is_paywalled'\u001b[0m,\n",
       "    \u001b[32m'cover'\u001b[0m,\n",
       "    \u001b[32m'cover_timestamp'\u001b[0m,\n",
       "    \u001b[32m'categories'\u001b[0m,\n",
       "    \u001b[32m'copyright'\u001b[0m,\n",
       "    \u001b[32m'first_part_id'\u001b[0m,\n",
       "    \u001b[32m'num_parts'\u001b[0m,\n",
       "    \u001b[32m'deleted'\u001b[0m,\n",
       "    \u001b[32m'first_published_part'\u001b[0m,\n",
       "    \u001b[32m'last_published_part'\u001b[0m,\n",
       "    \u001b[32m'language'\u001b[0m,\n",
       "    \u001b[32m'user'\u001b[0m,\n",
       "    \u001b[32m'parts'\u001b[0m,\n",
       "    \u001b[32m'tag_rankings'\u001b[0m\n",
       "\u001b[1m]\u001b[0m\n"
      ]
     },
     "metadata": {},
     "output_type": "display_data"
    }
   ],
   "source": [
    "from wattpad.models import StoryModel\n",
    "from wattpad.utils import get_fields\n",
    "\n",
    "print(get_fields(StoryModel, prefer_alias=False))"
   ]
  },
  {
   "cell_type": "markdown",
   "metadata": {},
   "source": [
    "# Lists\n",
    "\n",
    "Lists are collections of stories, made by Users.\n",
    "\n",
    "Use `limit` and `offset` similarly to `story.fetch_recommended`, `user.fetch_following`, and `user.fetch_followers`. List responses are especially large and time-taking."
   ]
  },
  {
   "cell_type": "code",
   "execution_count": 14,
   "metadata": {},
   "outputs": [
    {
     "data": {
      "text/html": [
       "<pre style=\"white-space:pre;overflow-x:auto;line-height:normal;font-family:Menlo,'DejaVu Sans Mono',consolas,'Courier New',monospace\"> <span style=\"color: #008080; text-decoration-color: #008080; font-weight: bold\">789566085</span>\n",
       "</pre>\n"
      ],
      "text/plain": [
       " \u001b[1;36m789566085\u001b[0m\n"
      ]
     },
     "metadata": {},
     "output_type": "display_data"
    },
    {
     "data": {
      "text/html": [
       "<pre style=\"white-space:pre;overflow-x:auto;line-height:normal;font-family:Menlo,'DejaVu Sans Mono',consolas,'Courier New',monospace\">The Summer I Drowned <span style=\"font-weight: bold\">(</span>Wattpad Books Edition<span style=\"font-weight: bold\">)</span>\n",
       "</pre>\n"
      ],
      "text/plain": [
       "The Summer I Drowned \u001b[1m(\u001b[0mWattpad Books Edition\u001b[1m)\u001b[0m\n"
      ]
     },
     "metadata": {},
     "output_type": "display_data"
    },
    {
     "data": {
      "text/html": [
       "<pre style=\"white-space:pre;overflow-x:auto;line-height:normal;font-family:Menlo,'DejaVu Sans Mono',consolas,'Courier New',monospace\">The Summer of '<span style=\"color: #008080; text-decoration-color: #008080; font-weight: bold\">98</span> <span style=\"font-weight: bold\">(</span>Wattpad Books Edition<span style=\"font-weight: bold\">)</span>\n",
       "</pre>\n"
      ],
      "text/plain": [
       "The Summer of '\u001b[1;36m98\u001b[0m \u001b[1m(\u001b[0mWattpad Books Edition\u001b[1m)\u001b[0m\n"
      ]
     },
     "metadata": {},
     "output_type": "display_data"
    },
    {
     "data": {
      "text/html": [
       "<pre style=\"white-space:pre;overflow-x:auto;line-height:normal;font-family:Menlo,'DejaVu Sans Mono',consolas,'Courier New',monospace\">Night Owls and Summer Skies <span style=\"font-weight: bold\">(</span>Wattpad Books Edition<span style=\"font-weight: bold\">)</span>\n",
       "</pre>\n"
      ],
      "text/plain": [
       "Night Owls and Summer Skies \u001b[1m(\u001b[0mWattpad Books Edition\u001b[1m)\u001b[0m\n"
      ]
     },
     "metadata": {},
     "output_type": "display_data"
    },
    {
     "data": {
      "text/html": [
       "<pre style=\"white-space:pre;overflow-x:auto;line-height:normal;font-family:Menlo,'DejaVu Sans Mono',consolas,'Courier New',monospace\">ENTWINED\n",
       "</pre>\n"
      ],
      "text/plain": [
       "ENTWINED\n"
      ]
     },
     "metadata": {},
     "output_type": "display_data"
    },
    {
     "data": {
      "text/html": [
       "<pre style=\"white-space:pre;overflow-x:auto;line-height:normal;font-family:Menlo,'DejaVu Sans Mono',consolas,'Courier New',monospace\">The Invincible Summer of Juniper Jones <span style=\"font-weight: bold\">(</span>Wattpad Books Edition<span style=\"font-weight: bold\">)</span>\n",
       "</pre>\n"
      ],
      "text/plain": [
       "The Invincible Summer of Juniper Jones \u001b[1m(\u001b[0mWattpad Books Edition\u001b[1m)\u001b[0m\n"
      ]
     },
     "metadata": {},
     "output_type": "display_data"
    }
   ],
   "source": [
    "await user.fetch_lists({\"name\": True, \"stories\": {\"title\": True}}, limit=1, offset=2)\n",
    "\n",
    "for list_ in user.lists:\n",
    "    print(list_.name, list_.id)\n",
    "    for story in list_.stories:\n",
    "        print(story.data.title)\n",
    "    "
   ]
  },
  {
   "cell_type": "markdown",
   "metadata": {},
   "source": [
    "**All available attributes for `list_.data`.**"
   ]
  },
  {
   "cell_type": "code",
   "execution_count": 15,
   "metadata": {},
   "outputs": [
    {
     "data": {
      "text/html": [
       "<pre style=\"white-space:pre;overflow-x:auto;line-height:normal;font-family:Menlo,'DejaVu Sans Mono',consolas,'Courier New',monospace\"><span style=\"font-weight: bold\">[</span><span style=\"color: #008000; text-decoration-color: #008000\">'id'</span>, <span style=\"color: #008000; text-decoration-color: #008000\">'name'</span>, <span style=\"color: #008000; text-decoration-color: #008000\">'stories'</span><span style=\"font-weight: bold\">]</span>\n",
       "</pre>\n"
      ],
      "text/plain": [
       "\u001b[1m[\u001b[0m\u001b[32m'id'\u001b[0m, \u001b[32m'name'\u001b[0m, \u001b[32m'stories'\u001b[0m\u001b[1m]\u001b[0m\n"
      ]
     },
     "metadata": {},
     "output_type": "display_data"
    }
   ],
   "source": [
    "from wattpad.models import ListModel\n",
    "from wattpad.utils import get_fields\n",
    "\n",
    "print(get_fields(ListModel, prefer_alias=False))"
   ]
  },
  {
   "cell_type": "markdown",
   "metadata": {},
   "source": [
    "---\n",
    "\n",
    "That's all! If you need help, look [here](https://github.com/TheOnlyWayUp/Wattpad-Py#support)."
   ]
  },
  {
   "cell_type": "markdown",
   "metadata": {},
   "source": [
    "[![Follow Badge](https://img.shields.io/badge/-%40TheOnlyWayUp-blue?style=for-the-badge&logo=github&logoColor=green&label=Follow&link=https%3A%2F%2Fgithub.com%2FTheOnlyWayUp)](https://github.com/TheOnlyWayUp)\n",
    "[![Star Badge](https://img.shields.io/badge/-Wattpad--Py-orange?style=for-the-badge&logoColor=green&label=Star%20%E2%AD%90&link=https%3A%2F%2Fgithub.com%2FTheOnlyWayUp%2FWattpad-Py)\n",
    "](https://github.com/TheOnlyWayUp/Wattpad-Py)\n",
    "\n",
    "\n",
    "<div align=\"center\">\n",
    "    <p>TheOnlyWayUp © 2024</p>\n",
    "</div>\n"
   ]
  },
  {
   "cell_type": "markdown",
   "metadata": {},
   "source": []
  }
 ],
 "metadata": {
  "kernelspec": {
   "display_name": "j_venv",
   "language": "python",
   "name": "python3"
  },
  "language_info": {
   "codemirror_mode": {
    "name": "ipython",
    "version": 3
   },
   "file_extension": ".py",
   "mimetype": "text/x-python",
   "name": "python",
   "nbconvert_exporter": "python",
   "pygments_lexer": "ipython3",
   "version": "3.10.11"
  }
 },
 "nbformat": 4,
 "nbformat_minor": 2
}
