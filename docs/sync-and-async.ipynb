{
 "cells": [
  {
   "cell_type": "markdown",
   "metadata": {},
   "source": [
    "# Synchronous Usage with `wattpad`\n",
    "\n",
    "`wattpad` is an *asynchronous* package. That means, you need to use the `async` and `await` keywords to use the package.\n",
    "\n",
    "## What is Async?\n",
    "\n",
    "A simple analogy: You're a painter who has to deliver 30 painted pots by the end of the day. Each pot takes fifteen minutes to paint, and another 45 to dry. That's an hour in total.\n",
    "\n",
    "### The Synchronous Way\n",
    "\n",
    "You paint one pot, wait for it to dry (staring doesn't make it go faster. Pots aren't microwaves.), and paint another. All in all, this takes you _30 hours_, putting you past the deadline. (and in a state of sleep deprivation, that isn't new though.)\n",
    "\n",
    "### The Asynchronous Way\n",
    "\n",
    "Being a hyper-efficient being, you leverage your common sense and realize that you can paint a different pot while the previous one dries. That means, it'll take you just **8 hours and 15 minutes**. That's incredible.\n",
    "\n",
    "---\n",
    "\n",
    "Similarly, in asynchronous code, you have an event loop. This is the painter. Let's switch the task from painting pots to retrieving data from a database. You have 30 intensive requests to make.\n",
    "\n",
    "Given that the database won't crash, your goal is to get the results as _fast_ as possible.\n",
    "\n",
    "Fire a request, while the database processes it, fire another, and keep doing other tasks until the database has a result for the first request. When the pot is painted, we want to package it and set it aside. Similarly, when a function is ready to continue, we return our attention to it.\n",
    "\n",
    "```py\n",
    "import asyncio\n",
    "\n",
    "async def get_database_results():\n",
    "    # something time taking\n",
    "    return results\n",
    "\n",
    "async def one():\n",
    "    results = await get_database_results()\n",
    "    # processing\n",
    "    print(results)\n",
    "\n",
    "async def two():\n",
    "    results = await get_database_results()\n",
    "    # processing\n",
    "    print(results)\n",
    "\n",
    "async def main():\n",
    "    async with asyncio.TaskGroup() as tg:\n",
    "        tg.create_task(one())\n",
    "        tg.create_task(two())\n",
    "\n",
    "asyncio.run(main())\n",
    "```\n",
    "\n",
    "In the above code:\n",
    "- We start `one`, while we *await* the results from the database, we start `two`.\n",
    "- The `await` keyword tells the event loop to switch its attention to another task. When the function is ready to continue, it signals the same to the event loop, which shifts its attention when the other task enters an `await`."
   ]
  },
  {
   "cell_type": "markdown",
   "metadata": {},
   "source": [
    "`async` is simple to use. You can get started by simply prefixing your function with an `async`.\n",
    "\n",
    "## Using `wattpad` in a synchronous environment\n",
    "\n",
    "There are various situations where asynchronous structures aren't preferred. For such situations specifically:"
   ]
  },
  {
   "cell_type": "code",
   "execution_count": null,
   "metadata": {},
   "outputs": [],
   "source": [
    "import asyncio\n",
    "from wattpad import User\n",
    "\n",
    "u = User(\"WattpadBooks\")\n",
    "asyncio.run(u.fetch())\n",
    "\n",
    "print(u.data.description)"
   ]
  },
  {
   "cell_type": "markdown",
   "metadata": {},
   "source": [
    "This is completely synchronous.\n",
    "\n",
    "<br>\n",
    "\n",
    "*Note*: `asyncio.run(func())` will _not_ work in a Jupyter notebook. You can:\n",
    "- Use `await func()` directly\n",
    "- Use `asyncio.get_event_loop().run_until_complete(func())`\n",
    "\n",
    "For more, see [this](https://stackoverflow.com/a/55409674)."
   ]
  },
  {
   "cell_type": "markdown",
   "metadata": {},
   "source": [
    "---\n",
    "\n",
    "Extra reading:\n",
    "- https://docs.python.org/3/library/asyncio-task.html\n",
    "\n",
    "That's all. If you need help, look [here](https://github.com/TheOnlyWayUp/Wattpad-Py#support)."
   ]
  },
  {
   "cell_type": "markdown",
   "metadata": {},
   "source": [
    "<div align=\"center\">\n",
    "    <p>TheOnlyWayUp © 2024</p>\n",
    "</div>\n"
   ]
  }
 ],
 "metadata": {
  "kernelspec": {
   "display_name": "j_venv",
   "language": "python",
   "name": "python3"
  },
  "language_info": {
   "codemirror_mode": {
    "name": "ipython",
    "version": 3
   },
   "file_extension": ".py",
   "mimetype": "text/x-python",
   "name": "python",
   "nbconvert_exporter": "python",
   "pygments_lexer": "ipython3",
   "version": "3.10.11"
  }
 },
 "nbformat": 4,
 "nbformat_minor": 2
}
