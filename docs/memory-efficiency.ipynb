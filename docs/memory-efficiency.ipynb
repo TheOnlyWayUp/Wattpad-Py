{
 "cells": [
  {
   "cell_type": "markdown",
   "metadata": {},
   "source": [
    "# Memory Efficiency in `wattpad`\n",
    "\n",
    "This package strives to be resource efficient. This is done through the implementation of:\n",
    "- The Singleton Design Pattern\n",
    "- Caching for HTTP Requests"
   ]
  },
  {
   "cell_type": "markdown",
   "metadata": {},
   "source": [
    "## Singletons\n",
    "To begin, let's discuss Singletons in `wattpad`.\n",
    "\n",
    "A Singleton is a class that when instantiated, always points to the same instance in memory. That means, a new object is _never_ made if one exists already.\n",
    "\n",
    "The `wattpad.User`, `wattpad.Story`, and `wattpad.List` classes are all singletons for the identifier they're initialized with. That is, a `User` classes are singletons based on username, and `Story` and `List` for their ID."
   ]
  },
  {
   "cell_type": "code",
   "execution_count": 1,
   "metadata": {},
   "outputs": [
    {
     "name": "stdout",
     "output_type": "stream",
     "text": [
      "<class 'wattpad.wattpad.User'> ('WattpadBooks',) {} wattpadbooks\n",
      "<User username=wattpadbooks>\n"
     ]
    }
   ],
   "source": [
    "from wattpad import User\n",
    "\n",
    "one = User(\"WattpadBooks\")\n",
    "\n",
    "print(one)\n"
   ]
  },
  {
   "cell_type": "markdown",
   "metadata": {},
   "source": [
    "Documentation for methods and attributes for all classes is available [here](https://wattpad.rambhat.la). You can also use Python's `help()` function."
   ]
  },
  {
   "cell_type": "code",
   "execution_count": 2,
   "metadata": {},
   "outputs": [
    {
     "name": "stdout",
     "output_type": "stream",
     "text": [
      "Help on User in module wattpad.wattpad object:\n",
      "\n",
      "class User(builtins.object)\n",
      " |  User(username: 'str', **kwargs)\n",
      " |  \n",
      " |  A representation of a User on Wattpad.\n",
      " |  **Note**: Users are singletons, unique as per their username. Two user classes with the same username are the _same_.\n",
      " |  \n",
      " |  Attributes:\n",
      " |      username (str): Lowercased username of this User.\n",
      " |      stories (list[Story]): Stories authored by this User.\n",
      " |      followers (list[User]): Users that follow this User.\n",
      " |      following (list[User]): Users this User follows.\n",
      " |      lists (list[List]): Lists created by this User.\n",
      " |      data (UserModel): User Data from the Wattpad API.\n",
      " |  \n",
      " |  Methods defined here:\n",
      " |  \n",
      " |  __init__(self, username: 'str', **kwargs)\n",
      " |      Create a User object.\n",
      " |      \n",
      " |      Args:\n",
      " |          username (str): The username of this User.\n",
      " |          **kwargs (any): Arguments to pass directly to the underlying `UserModel`. These are ignored if the User has been instantiated earlier in the runtime.\n",
      " |  \n",
      " |  __repr__(self) -> 'str'\n",
      " |  \n",
      " |  async fetch(self, include: 'bool | UserModelFieldsType' = False) -> 'dict'\n",
      " |      Populates a User's data. Call this method after instantiation.\n",
      " |      \n",
      " |      Args:\n",
      " |          include (bool | UserModelFieldsType, optional): Fields to fetch. True fetches all fields. Defaults to False.\n",
      " |      \n",
      " |      Returns:\n",
      " |          dict: The raw API Response.\n",
      " |  \n",
      " |  async fetch_followers(self, include: 'bool | UserModelFieldsType' = False, limit: 'Optional[int]' = None, offset: 'Optional[int]' = None) -> 'dict'\n",
      " |      Fetches the User's followers.\n",
      " |      \n",
      " |      Args:\n",
      " |          include (bool | UserModelFieldsType, optional): Fields of the following users' to fetch. True fetches all fields. Defaults to False.\n",
      " |          limit (Optional[int], optional): Maximum number of users to return at once. Use this alongside `offset` for better performance. Defaults to None.\n",
      " |          offset (Optional[int], optional): Number of users to skip before returning followers. Use this alongside `limit` for better performance. Defaults to None.\n",
      " |      \n",
      " |      Returns:\n",
      " |          dict: The raw API Response.\n",
      " |  \n",
      " |  async fetch_following(self, include: 'bool | UserModelFieldsType' = False, limit: 'Optional[int]' = None, offset: 'Optional[int]' = None) -> 'dict'\n",
      " |      Fetch the users this User follows.\n",
      " |      \n",
      " |      Args:\n",
      " |          include (bool | UserModelFieldsType, optional): Fields of the followed users' to fetch. True fetches all fields. Defaults to False.\n",
      " |          limit (Optional[int], optional): Maximum number of users to return at once. Use this alongside `offset` for better performance. Defaults to None.\n",
      " |          offset (Optional[int], optional): Number of users to skip before returning followers. Use this alongside `limit` for better performance. Defaults to None.\n",
      " |      \n",
      " |      Returns:\n",
      " |          dict: The raw API Response.\n",
      " |  \n",
      " |  async fetch_lists(self, include: 'bool | ListModelFieldsType' = False, limit: 'Optional[int]' = None, offset: 'Optional[int]' = None) -> 'dict'\n",
      " |      Fetch a User's lists.\n",
      " |      \n",
      " |      Args:\n",
      " |          include (bool | ListModelFieldsType, optional): Fields of the lists to fetch. True fetches all fields. Defaults to False.\n",
      " |          limit (Optional[int], optional): Maximum number of users to return at once. Use this alongside `offset` for better performance. Defaults to None.\n",
      " |          offset (Optional[int], optional): Number of users to skip before returning followers. Use this alongside `limit` for better performance. Defaults to None.\n",
      " |      \n",
      " |      Returns:\n",
      " |          dict: The raw API Response.\n",
      " |  \n",
      " |  async fetch_stories(self, include: 'bool | StoryModelFieldsType' = False) -> 'dict'\n",
      " |      Fetch a User's authored stories.\n",
      " |      \n",
      " |      Args:\n",
      " |          include (bool | StoryModelFieldsType, optional): Fields of authored stories to fetch. True fetches all fields. Defaults to False.\n",
      " |      \n",
      " |      Returns:\n",
      " |          dict: The raw API Response.\n",
      " |  \n",
      " |  ----------------------------------------------------------------------\n",
      " |  Data descriptors defined here:\n",
      " |  \n",
      " |  __dict__\n",
      " |      dictionary for instance variables (if defined)\n",
      " |  \n",
      " |  __weakref__\n",
      " |      list of weak references to the object (if defined)\n",
      "\n"
     ]
    }
   ],
   "source": [
    "help(one)"
   ]
  },
  {
   "cell_type": "markdown",
   "metadata": {},
   "source": [
    "Let's try each of these methods:\n",
    "- `fetch`\n",
    "- `fetch_following`\n",
    "- `fetch_followers`\n",
    "- `fetch_lists`\n",
    "- `fetch_stories`"
   ]
  },
  {
   "cell_type": "code",
   "execution_count": 3,
   "metadata": {},
   "outputs": [
    {
     "data": {
      "text/plain": [
       "{'avatar': 'https://img.wattpad.com/useravatar/WattpadBooks.128.888605.jpg',\n",
       " 'isPrivate': False,\n",
       " 'backgroundUrl': 'https://img.wattpad.com/userbg/WattpadBooks.38113.jpg',\n",
       " 'name': 'Wattpad Books',\n",
       " 'description': \"Wattpad Books brings stories the world needs to hear, brought to life by your favorite writers, right into your hands. Welcome home. 🏡🧡\\n\\nStay in the know of all the latest launches from Wattpad Books. Looking for your next literary obsession? Crossing your fingers for more work from your favorite creator? Follow us here to be the first to hear about new releases, author interviews, and more!\\n\\nWe see your dreams, and we want to help you achieve them. If you're hoping to get published, our advice is to keep doing what you love: writing. Every book published by Wattpad Books was born right here on Wattpad. ⭐️\\n\\n🔈Follow Wattpad Books:\\nTwitter: twitter.com/wattpadbooks\\nInstagram: wattpadbooks\\nFacebook: facebook.com/wattpad\",\n",
       " 'status': '',\n",
       " 'gender': 'Other',\n",
       " 'genderCode': 'O',\n",
       " 'language': 1,\n",
       " 'locale': 'en_US',\n",
       " 'createDate': '2019-01-23T21:14:00Z',\n",
       " 'modifyDate': '2020-07-10T20:29:59Z',\n",
       " 'location': 'Toronto, Canada',\n",
       " 'verified': True,\n",
       " 'ambassador': False,\n",
       " 'facebook': '',\n",
       " 'twitter': '',\n",
       " 'website': 'books.wattpad.com',\n",
       " 'lulu': '',\n",
       " 'smashwords': '',\n",
       " 'bubok': '',\n",
       " 'votesReceived': 1688,\n",
       " 'numStoriesPublished': 6,\n",
       " 'numFollowing': 1,\n",
       " 'numFollowers': 60825,\n",
       " 'numMessages': 2001,\n",
       " 'numLists': 6,\n",
       " 'verified_email': True,\n",
       " 'preferred_categories': [],\n",
       " 'allowCrawler': True,\n",
       " 'deeplink': 'https://www.wattpad.com/WattpadBooks',\n",
       " 'isMuted': False}"
      ]
     },
     "execution_count": 3,
     "metadata": {},
     "output_type": "execute_result"
    }
   ],
   "source": [
    "raw_data = await one.fetch()\n",
    "raw_data"
   ]
  },
  {
   "cell_type": "markdown",
   "metadata": {},
   "source": [
    "All `fetch` methods return the raw JSON parsed from the Wattpad API.\n",
    "\n",
    "For normal usage, it's recommended to use the class attributes:"
   ]
  },
  {
   "cell_type": "code",
   "execution_count": 4,
   "metadata": {},
   "outputs": [
    {
     "name": "stdout",
     "output_type": "stream",
     "text": [
      "Wattpad Books brings stories the world needs to hear, brought to life by your favorite writers, right into your hands. Welcome home. 🏡🧡\n",
      "\n",
      "Stay in the know of all the latest launches from Wattpad Books. Looking for your next literary obsession? Crossing your fingers for more work from your favorite creator? Follow us here to be the first to hear about new releases, author interviews, and more!\n",
      "\n",
      "We see your dreams, and we want to help you achieve them. If you're hoping to get published, our advice is to keep doing what you love: writing. Every book published by Wattpad Books was born right here on Wattpad. ⭐️\n",
      "\n",
      "🔈Follow Wattpad Books:\n",
      "Twitter: twitter.com/wattpadbooks\n",
      "Instagram: wattpadbooks\n",
      "Facebook: facebook.com/wattpad\n"
     ]
    }
   ],
   "source": [
    "print(one.data.description)"
   ]
  },
  {
   "cell_type": "markdown",
   "metadata": {},
   "source": [
    "A list of available attributes can be found [here](https://wattpad.rambhat.la) on the `model_types` page. You can also view `wattpad.models.UserModel.model_fields` for the same."
   ]
  },
  {
   "cell_type": "code",
   "execution_count": 4,
   "metadata": {},
   "outputs": [
    {
     "name": "stdout",
     "output_type": "stream",
     "text": [
      "{'username': FieldInfo(annotation=str, required=True), 'avatar': FieldInfo(annotation=Union[str, NoneType], required=False), 'is_private': FieldInfo(annotation=Union[bool, NoneType], required=False, alias='isPrivate', alias_priority=2), 'background_url': FieldInfo(annotation=Union[str, NoneType], required=False, alias='backgroundUrl', alias_priority=2), 'follower': FieldInfo(annotation=Union[bool, NoneType], required=False), 'following': FieldInfo(annotation=Union[bool, NoneType], required=False), 'name': FieldInfo(annotation=Union[str, NoneType], required=False), 'description': FieldInfo(annotation=Union[str, NoneType], required=False), 'status': FieldInfo(annotation=Union[str, NoneType], required=False), 'gender': FieldInfo(annotation=Union[str, NoneType], required=False), 'gender_code': FieldInfo(annotation=Union[str, NoneType], required=False, alias='genderCode', alias_priority=2), 'language': FieldInfo(annotation=Union[int, NoneType], required=False), 'locale': FieldInfo(annotation=Union[str, NoneType], required=False), 'create_date': FieldInfo(annotation=Union[str, NoneType], required=False, alias='createDate', alias_priority=2), 'modify_date': FieldInfo(annotation=Union[str, NoneType], required=False, alias='modifyDate', alias_priority=2), 'location': FieldInfo(annotation=Union[str, NoneType], required=False), 'verified': FieldInfo(annotation=Union[bool, NoneType], required=False), 'ambassador': FieldInfo(annotation=Union[bool, NoneType], required=False), 'facebook': FieldInfo(annotation=Union[str, NoneType], required=False), 'twitter': FieldInfo(annotation=Union[str, NoneType], required=False), 'website': FieldInfo(annotation=Union[str, NoneType], required=False), 'lulu': FieldInfo(annotation=Union[str, NoneType], required=False), 'smashwords': FieldInfo(annotation=Union[str, NoneType], required=False), 'bubok': FieldInfo(annotation=Union[str, NoneType], required=False), 'votes_received': FieldInfo(annotation=Union[int, NoneType], required=False, alias='votesReceived', alias_priority=2), 'num_stories_published': FieldInfo(annotation=Union[int, NoneType], required=False, alias='numStoriesPublished', alias_priority=2), 'num_following': FieldInfo(annotation=Union[int, NoneType], required=False, alias='numFollowing', alias_priority=2), 'num_followers': FieldInfo(annotation=Union[int, NoneType], required=False, alias='numFollowers', alias_priority=2), 'num_messages': FieldInfo(annotation=Union[int, NoneType], required=False, alias='numMessages', alias_priority=2), 'num_lists': FieldInfo(annotation=Union[int, NoneType], required=False, alias='numLists', alias_priority=2), 'verified_email': FieldInfo(annotation=Union[bool, NoneType], required=False), 'preferred_categories': FieldInfo(annotation=Union[List, NoneType], required=False), 'allow_crawler': FieldInfo(annotation=Union[bool, NoneType], required=False, alias='allowCrawler', alias_priority=2), 'deeplink': FieldInfo(annotation=Union[str, NoneType], required=False), 'is_muted': FieldInfo(annotation=Union[bool, NoneType], required=False, alias='isMuted', alias_priority=2), 'birthdate': FieldInfo(annotation=Union[str, NoneType], required=False), 'inbox': FieldInfo(annotation=Union[InboxModel, NoneType], required=False), 'notifications': FieldInfo(annotation=Union[NotificationsModel, NoneType], required=False), 'connected_services': FieldInfo(annotation=Union[ConnectedServicesModel, NoneType], required=False, alias='connectedServices', alias_priority=2), 'age': FieldInfo(annotation=Union[int, NoneType], required=False), 'email': FieldInfo(annotation=Union[str, NoneType], required=False), 'has_password': FieldInfo(annotation=Union[bool, NoneType], required=False)}\n"
     ]
    }
   ],
   "source": [
    "from wattpad.models import UserModel\n",
    "\n",
    "UserModel.model_fields"
   ]
  },
  {
   "cell_type": "markdown",
   "metadata": {},
   "source": []
  },
  {
   "cell_type": "markdown",
   "metadata": {},
   "source": []
  },
  {
   "cell_type": "markdown",
   "metadata": {},
   "source": []
  },
  {
   "cell_type": "markdown",
   "metadata": {},
   "source": []
  },
  {
   "cell_type": "markdown",
   "metadata": {},
   "source": []
  },
  {
   "cell_type": "markdown",
   "metadata": {},
   "source": []
  },
  {
   "cell_type": "markdown",
   "metadata": {},
   "source": []
  },
  {
   "cell_type": "markdown",
   "metadata": {},
   "source": []
  },
  {
   "cell_type": "markdown",
   "metadata": {},
   "source": []
  },
  {
   "cell_type": "markdown",
   "metadata": {},
   "source": []
  },
  {
   "cell_type": "markdown",
   "metadata": {},
   "source": []
  },
  {
   "cell_type": "markdown",
   "metadata": {},
   "source": []
  },
  {
   "cell_type": "markdown",
   "metadata": {},
   "source": []
  },
  {
   "cell_type": "markdown",
   "metadata": {},
   "source": []
  },
  {
   "cell_type": "markdown",
   "metadata": {},
   "source": []
  }
 ],
 "metadata": {
  "kernelspec": {
   "display_name": "j_venv",
   "language": "python",
   "name": "python3"
  },
  "language_info": {
   "codemirror_mode": {
    "name": "ipython",
    "version": 3
   },
   "file_extension": ".py",
   "mimetype": "text/x-python",
   "name": "python",
   "nbconvert_exporter": "python",
   "pygments_lexer": "ipython3",
   "version": "3.10.11"
  }
 },
 "nbformat": 4,
 "nbformat_minor": 2
}
