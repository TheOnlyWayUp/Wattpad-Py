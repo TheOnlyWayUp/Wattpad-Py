{
 "cells": [
  {
   "cell_type": "markdown",
   "metadata": {},
   "source": [
    "# Memory Efficiency in `wattpad`\n",
    "\n",
    "This package strives to be resource efficient. This is done through the implementation of:\n",
    "- The Singleton Design Pattern\n",
    "- Caching for HTTP Requests\n",
    "\n",
    "[![Follow Badge](https://img.shields.io/badge/-%40TheOnlyWayUp-blue?style=for-the-badge&logo=github&logoColor=green&label=Follow&link=https%3A%2F%2Fgithub.com%2FTheOnlyWayUp)](https://github.com/TheOnlyWayUp)\n",
    "[![Star Badge](https://img.shields.io/badge/-Wattpad--Py-orange?style=for-the-badge&logoColor=green&label=Star%20%E2%AD%90&link=https%3A%2F%2Fgithub.com%2FTheOnlyWayUp%2FWattpad-Py)\n",
    "](https://github.com/TheOnlyWayUp/Wattpad-Py)\n"
   ]
  },
  {
   "cell_type": "markdown",
   "metadata": {},
   "source": [
    "## Singletons\n",
    "To begin, let's discuss Singletons in `wattpad`.\n",
    "\n",
    "A Singleton is a class that when instantiated, always points to the same instance in memory. That means, a new object is _never_ made if one exists already.\n",
    "\n",
    "The `wattpad.User`, `wattpad.Story`, and `wattpad.List` classes are all singletons for the identifier they're initialized with. That is, a `User` classes are singletons based on username, and `Story` and `List` for their ID."
   ]
  },
  {
   "cell_type": "code",
   "execution_count": 1,
   "metadata": {},
   "outputs": [
    {
     "data": {
      "text/html": [
       "<pre style=\"white-space:pre;overflow-x:auto;line-height:normal;font-family:Menlo,'DejaVu Sans Mono',consolas,'Courier New',monospace\"><span style=\"font-weight: bold\">&lt;</span><span style=\"color: #ff00ff; text-decoration-color: #ff00ff; font-weight: bold\">User</span><span style=\"color: #000000; text-decoration-color: #000000\"> </span><span style=\"color: #808000; text-decoration-color: #808000\">username</span><span style=\"color: #000000; text-decoration-color: #000000\">=</span><span style=\"color: #800080; text-decoration-color: #800080\">wattpadbooks</span><span style=\"font-weight: bold\">&gt;</span>\n",
       "</pre>\n"
      ],
      "text/plain": [
       "\u001b[1m<\u001b[0m\u001b[1;95mUser\u001b[0m\u001b[39m \u001b[0m\u001b[33musername\u001b[0m\u001b[39m=\u001b[0m\u001b[35mwattpadbooks\u001b[0m\u001b[1m>\u001b[0m\n"
      ]
     },
     "metadata": {},
     "output_type": "display_data"
    }
   ],
   "source": [
    "from rich import print\n",
    "from wattpad import User\n",
    "\n",
    "one = User(\"WattpadBooks\")\n",
    "\n",
    "print(one)\n"
   ]
  },
  {
   "cell_type": "markdown",
   "metadata": {},
   "source": [
    "Documentation for methods and attributes for all classes is available [here](https://wattpad.rambhat.la). You can also use Python's `help()` function."
   ]
  },
  {
   "cell_type": "code",
   "execution_count": 2,
   "metadata": {},
   "outputs": [
    {
     "name": "stdout",
     "output_type": "stream",
     "text": [
      "Help on User in module wattpad.wattpad object:\n",
      "\n",
      "class User(builtins.object)\n",
      " |  User(*args, **kwargs)\n",
      " |  \n",
      " |  A representation of a User on Wattpad.\n",
      " |  **Note**: Users are singletons, unique as per their username. Two user classes with the same username are the _same_.\n",
      " |  \n",
      " |  Attributes:\n",
      " |      username (str): Lowercased username of this User.\n",
      " |      stories (list[Story]): Stories authored by this User.\n",
      " |      followers (list[User]): Users that follow this User.\n",
      " |      following (list[User]): Users this User follows.\n",
      " |      lists (list[List]): Lists created by this User.\n",
      " |      data (UserModel): User Data from the Wattpad API.\n",
      " |  \n",
      " |  Methods defined here:\n",
      " |  \n",
      " |  __init__(self, username: 'str', **kwargs)\n",
      " |      Create a User object.\n",
      " |      \n",
      " |      Args:\n",
      " |          username (str): The username of this User.\n",
      " |          **kwargs (any): Arguments to pass directly to the underlying `UserModel`. These are ignored if the User has been instantiated earlier in the runtime.\n",
      " |  \n",
      " |  __repr__(self) -> 'str'\n",
      " |      Return repr(self).\n",
      " |  \n",
      " |  async fetch(self, include: 'bool | UserModelFieldsType' = False) -> 'dict'\n",
      " |      Populates a User's data. Call this method after instantiation.\n",
      " |      \n",
      " |      Args:\n",
      " |          include (bool | UserModelFieldsType, optional): Fields to fetch. True fetches all fields. Defaults to False.\n",
      " |      \n",
      " |      Returns:\n",
      " |          dict: The raw API Response.\n",
      " |  \n",
      " |  async fetch_followers(self, include: 'bool | UserModelFieldsType' = False, limit: 'Optional[int]' = None, offset: 'Optional[int]' = None) -> 'dict'\n",
      " |      Fetches the User's followers.\n",
      " |      \n",
      " |      Args:\n",
      " |          include (bool | UserModelFieldsType, optional): Fields of the following users' to fetch. True fetches all fields. Defaults to False.\n",
      " |          limit (Optional[int], optional): Maximum number of users to return at once. Use this alongside `offset` for better performance. Defaults to None.\n",
      " |          offset (Optional[int], optional): Number of users to skip before returning followers. Use this alongside `limit` for better performance. Defaults to None.\n",
      " |      \n",
      " |      Returns:\n",
      " |          dict: The raw API Response.\n",
      " |  \n",
      " |  async fetch_following(self, include: 'bool | UserModelFieldsType' = False, limit: 'Optional[int]' = None, offset: 'Optional[int]' = None) -> 'dict'\n",
      " |      Fetch the users this User follows.\n",
      " |      \n",
      " |      Args:\n",
      " |          include (bool | UserModelFieldsType, optional): Fields of the followed users' to fetch. True fetches all fields. Defaults to False.\n",
      " |          limit (Optional[int], optional): Maximum number of users to return at once. Use this alongside `offset` for better performance. Defaults to None.\n",
      " |          offset (Optional[int], optional): Number of users to skip before returning followers. Use this alongside `limit` for better performance. Defaults to None.\n",
      " |      \n",
      " |      Returns:\n",
      " |          dict: The raw API Response.\n",
      " |  \n",
      " |  async fetch_lists(self, include: 'bool | ListModelFieldsType' = False, limit: 'Optional[int]' = None, offset: 'Optional[int]' = None) -> 'dict'\n",
      " |      Fetch a User's lists.\n",
      " |      \n",
      " |      Args:\n",
      " |          include (bool | ListModelFieldsType, optional): Fields of the lists to fetch. True fetches all fields. Defaults to False.\n",
      " |          limit (Optional[int], optional): Maximum number of users to return at once. Use this alongside `offset` for better performance. Defaults to None.\n",
      " |          offset (Optional[int], optional): Number of users to skip before returning followers. Use this alongside `limit` for better performance. Defaults to None.\n",
      " |      \n",
      " |      Returns:\n",
      " |          dict: The raw API Response.\n",
      " |  \n",
      " |  async fetch_stories(self, include: 'bool | StoryModelFieldsType' = False) -> 'dict'\n",
      " |      Fetch a User's authored stories.\n",
      " |      \n",
      " |      Args:\n",
      " |          include (bool | StoryModelFieldsType, optional): Fields of authored stories to fetch. True fetches all fields. Defaults to False.\n",
      " |      \n",
      " |      Returns:\n",
      " |          dict: The raw API Response.\n",
      " |  \n",
      " |  ----------------------------------------------------------------------\n",
      " |  Data descriptors defined here:\n",
      " |  \n",
      " |  __dict__\n",
      " |      dictionary for instance variables (if defined)\n",
      " |  \n",
      " |  __weakref__\n",
      " |      list of weak references to the object (if defined)\n",
      " |  \n",
      " |  ----------------------------------------------------------------------\n",
      " |  Data and other attributes defined here:\n",
      " |  \n",
      " |  __annotations__ = {}\n",
      "\n"
     ]
    }
   ],
   "source": [
    "help(one)"
   ]
  },
  {
   "cell_type": "markdown",
   "metadata": {},
   "source": [
    "Let's try each of these methods:\n",
    "- `fetch`\n",
    "- `fetch_following`\n",
    "- `fetch_followers`\n",
    "- `fetch_lists`\n",
    "- `fetch_stories`"
   ]
  },
  {
   "cell_type": "code",
   "execution_count": 13,
   "metadata": {},
   "outputs": [
    {
     "data": {
      "text/html": [
       "<pre style=\"white-space:pre;overflow-x:auto;line-height:normal;font-family:Menlo,'DejaVu Sans Mono',consolas,'Courier New',monospace\"><span style=\"font-weight: bold\">{</span>\n",
       "    <span style=\"color: #008000; text-decoration-color: #008000\">'avatar'</span>: <span style=\"color: #008000; text-decoration-color: #008000\">'https://img.wattpad.com/useravatar/WattpadBooks.128.888605.jpg'</span>,\n",
       "    <span style=\"color: #008000; text-decoration-color: #008000\">'isPrivate'</span>: <span style=\"color: #ff0000; text-decoration-color: #ff0000; font-style: italic\">False</span>,\n",
       "    <span style=\"color: #008000; text-decoration-color: #008000\">'backgroundUrl'</span>: <span style=\"color: #008000; text-decoration-color: #008000\">'https://img.wattpad.com/userbg/WattpadBooks.38113.jpg'</span>,\n",
       "    <span style=\"color: #008000; text-decoration-color: #008000\">'name'</span>: <span style=\"color: #008000; text-decoration-color: #008000\">'Wattpad Books'</span>,\n",
       "    <span style=\"color: #008000; text-decoration-color: #008000\">'description'</span>: <span style=\"color: #008000; text-decoration-color: #008000\">\"Wattpad Books brings stories the world needs to hear, brought to life by your favorite writers,</span>\n",
       "<span style=\"color: #008000; text-decoration-color: #008000\">right into your hands. Welcome home. 🏡🧡\\n\\nStay in the know of all the latest launches from Wattpad Books. </span>\n",
       "<span style=\"color: #008000; text-decoration-color: #008000\">Looking for your next literary obsession? Crossing your fingers for more work from your favorite creator? Follow us</span>\n",
       "<span style=\"color: #008000; text-decoration-color: #008000\">here to be the first to hear about new releases, author interviews, and more!\\n\\nWe see your dreams, and we want to</span>\n",
       "<span style=\"color: #008000; text-decoration-color: #008000\">help you achieve them. If you're hoping to get published, our advice is to keep doing what you love: writing. Every</span>\n",
       "<span style=\"color: #008000; text-decoration-color: #008000\">book published by Wattpad Books was born right here on Wattpad. ⭐️\\n\\n🔈Follow Wattpad Books:\\nTwitter: </span>\n",
       "<span style=\"color: #008000; text-decoration-color: #008000\">twitter.com/wattpadbooks\\nInstagram: wattpadbooks\\nFacebook: facebook.com/wattpad\"</span>,\n",
       "    <span style=\"color: #008000; text-decoration-color: #008000\">'status'</span>: <span style=\"color: #008000; text-decoration-color: #008000\">''</span>,\n",
       "    <span style=\"color: #008000; text-decoration-color: #008000\">'gender'</span>: <span style=\"color: #008000; text-decoration-color: #008000\">'Other'</span>,\n",
       "    <span style=\"color: #008000; text-decoration-color: #008000\">'genderCode'</span>: <span style=\"color: #008000; text-decoration-color: #008000\">'O'</span>,\n",
       "    <span style=\"color: #008000; text-decoration-color: #008000\">'language'</span>: <span style=\"color: #008080; text-decoration-color: #008080; font-weight: bold\">1</span>,\n",
       "    <span style=\"color: #008000; text-decoration-color: #008000\">'locale'</span>: <span style=\"color: #008000; text-decoration-color: #008000\">'en_US'</span>,\n",
       "    <span style=\"color: #008000; text-decoration-color: #008000\">'createDate'</span>: <span style=\"color: #008000; text-decoration-color: #008000\">'2019-01-23T21:14:00Z'</span>,\n",
       "    <span style=\"color: #008000; text-decoration-color: #008000\">'modifyDate'</span>: <span style=\"color: #008000; text-decoration-color: #008000\">'2020-07-10T20:29:59Z'</span>,\n",
       "    <span style=\"color: #008000; text-decoration-color: #008000\">'location'</span>: <span style=\"color: #008000; text-decoration-color: #008000\">'Toronto, Canada'</span>,\n",
       "    <span style=\"color: #008000; text-decoration-color: #008000\">'verified'</span>: <span style=\"color: #00ff00; text-decoration-color: #00ff00; font-style: italic\">True</span>,\n",
       "    <span style=\"color: #008000; text-decoration-color: #008000\">'ambassador'</span>: <span style=\"color: #ff0000; text-decoration-color: #ff0000; font-style: italic\">False</span>,\n",
       "    <span style=\"color: #008000; text-decoration-color: #008000\">'facebook'</span>: <span style=\"color: #008000; text-decoration-color: #008000\">''</span>,\n",
       "    <span style=\"color: #008000; text-decoration-color: #008000\">'twitter'</span>: <span style=\"color: #008000; text-decoration-color: #008000\">''</span>,\n",
       "    <span style=\"color: #008000; text-decoration-color: #008000\">'website'</span>: <span style=\"color: #008000; text-decoration-color: #008000\">'books.wattpad.com'</span>,\n",
       "    <span style=\"color: #008000; text-decoration-color: #008000\">'lulu'</span>: <span style=\"color: #008000; text-decoration-color: #008000\">''</span>,\n",
       "    <span style=\"color: #008000; text-decoration-color: #008000\">'smashwords'</span>: <span style=\"color: #008000; text-decoration-color: #008000\">''</span>,\n",
       "    <span style=\"color: #008000; text-decoration-color: #008000\">'bubok'</span>: <span style=\"color: #008000; text-decoration-color: #008000\">''</span>,\n",
       "    <span style=\"color: #008000; text-decoration-color: #008000\">'votesReceived'</span>: <span style=\"color: #008080; text-decoration-color: #008080; font-weight: bold\">1688</span>,\n",
       "    <span style=\"color: #008000; text-decoration-color: #008000\">'numStoriesPublished'</span>: <span style=\"color: #008080; text-decoration-color: #008080; font-weight: bold\">6</span>,\n",
       "    <span style=\"color: #008000; text-decoration-color: #008000\">'numFollowing'</span>: <span style=\"color: #008080; text-decoration-color: #008080; font-weight: bold\">1</span>,\n",
       "    <span style=\"color: #008000; text-decoration-color: #008000\">'numFollowers'</span>: <span style=\"color: #008080; text-decoration-color: #008080; font-weight: bold\">60837</span>,\n",
       "    <span style=\"color: #008000; text-decoration-color: #008000\">'numMessages'</span>: <span style=\"color: #008080; text-decoration-color: #008080; font-weight: bold\">2004</span>,\n",
       "    <span style=\"color: #008000; text-decoration-color: #008000\">'numLists'</span>: <span style=\"color: #008080; text-decoration-color: #008080; font-weight: bold\">6</span>,\n",
       "    <span style=\"color: #008000; text-decoration-color: #008000\">'verified_email'</span>: <span style=\"color: #00ff00; text-decoration-color: #00ff00; font-style: italic\">True</span>,\n",
       "    <span style=\"color: #008000; text-decoration-color: #008000\">'preferred_categories'</span>: <span style=\"font-weight: bold\">[]</span>,\n",
       "    <span style=\"color: #008000; text-decoration-color: #008000\">'allowCrawler'</span>: <span style=\"color: #00ff00; text-decoration-color: #00ff00; font-style: italic\">True</span>,\n",
       "    <span style=\"color: #008000; text-decoration-color: #008000\">'deeplink'</span>: <span style=\"color: #008000; text-decoration-color: #008000\">'https://www.wattpad.com/WattpadBooks'</span>,\n",
       "    <span style=\"color: #008000; text-decoration-color: #008000\">'isMuted'</span>: <span style=\"color: #ff0000; text-decoration-color: #ff0000; font-style: italic\">False</span>\n",
       "<span style=\"font-weight: bold\">}</span>\n",
       "</pre>\n"
      ],
      "text/plain": [
       "\u001b[1m{\u001b[0m\n",
       "    \u001b[32m'avatar'\u001b[0m: \u001b[32m'https://img.wattpad.com/useravatar/WattpadBooks.128.888605.jpg'\u001b[0m,\n",
       "    \u001b[32m'isPrivate'\u001b[0m: \u001b[3;91mFalse\u001b[0m,\n",
       "    \u001b[32m'backgroundUrl'\u001b[0m: \u001b[32m'https://img.wattpad.com/userbg/WattpadBooks.38113.jpg'\u001b[0m,\n",
       "    \u001b[32m'name'\u001b[0m: \u001b[32m'Wattpad Books'\u001b[0m,\n",
       "    \u001b[32m'description'\u001b[0m: \u001b[32m\"Wattpad Books brings stories the world needs to hear, brought to life by your favorite writers,\u001b[0m\n",
       "\u001b[32mright into your hands. Welcome home. 🏡🧡\\n\\nStay in the know of all the latest launches from Wattpad Books. \u001b[0m\n",
       "\u001b[32mLooking for your next literary obsession? Crossing your fingers for more work from your favorite creator? Follow us\u001b[0m\n",
       "\u001b[32mhere to be the first to hear about new releases, author interviews, and more!\\n\\nWe see your dreams, and we want to\u001b[0m\n",
       "\u001b[32mhelp you achieve them. If you're hoping to get published, our advice is to keep doing what you love: writing. Every\u001b[0m\n",
       "\u001b[32mbook published by Wattpad Books was born right here on Wattpad. ⭐️\\n\\n🔈Follow Wattpad Books:\\nTwitter: \u001b[0m\n",
       "\u001b[32mtwitter.com/wattpadbooks\\nInstagram: wattpadbooks\\nFacebook: facebook.com/wattpad\"\u001b[0m,\n",
       "    \u001b[32m'status'\u001b[0m: \u001b[32m''\u001b[0m,\n",
       "    \u001b[32m'gender'\u001b[0m: \u001b[32m'Other'\u001b[0m,\n",
       "    \u001b[32m'genderCode'\u001b[0m: \u001b[32m'O'\u001b[0m,\n",
       "    \u001b[32m'language'\u001b[0m: \u001b[1;36m1\u001b[0m,\n",
       "    \u001b[32m'locale'\u001b[0m: \u001b[32m'en_US'\u001b[0m,\n",
       "    \u001b[32m'createDate'\u001b[0m: \u001b[32m'2019-01-23T21:14:00Z'\u001b[0m,\n",
       "    \u001b[32m'modifyDate'\u001b[0m: \u001b[32m'2020-07-10T20:29:59Z'\u001b[0m,\n",
       "    \u001b[32m'location'\u001b[0m: \u001b[32m'Toronto, Canada'\u001b[0m,\n",
       "    \u001b[32m'verified'\u001b[0m: \u001b[3;92mTrue\u001b[0m,\n",
       "    \u001b[32m'ambassador'\u001b[0m: \u001b[3;91mFalse\u001b[0m,\n",
       "    \u001b[32m'facebook'\u001b[0m: \u001b[32m''\u001b[0m,\n",
       "    \u001b[32m'twitter'\u001b[0m: \u001b[32m''\u001b[0m,\n",
       "    \u001b[32m'website'\u001b[0m: \u001b[32m'books.wattpad.com'\u001b[0m,\n",
       "    \u001b[32m'lulu'\u001b[0m: \u001b[32m''\u001b[0m,\n",
       "    \u001b[32m'smashwords'\u001b[0m: \u001b[32m''\u001b[0m,\n",
       "    \u001b[32m'bubok'\u001b[0m: \u001b[32m''\u001b[0m,\n",
       "    \u001b[32m'votesReceived'\u001b[0m: \u001b[1;36m1688\u001b[0m,\n",
       "    \u001b[32m'numStoriesPublished'\u001b[0m: \u001b[1;36m6\u001b[0m,\n",
       "    \u001b[32m'numFollowing'\u001b[0m: \u001b[1;36m1\u001b[0m,\n",
       "    \u001b[32m'numFollowers'\u001b[0m: \u001b[1;36m60837\u001b[0m,\n",
       "    \u001b[32m'numMessages'\u001b[0m: \u001b[1;36m2004\u001b[0m,\n",
       "    \u001b[32m'numLists'\u001b[0m: \u001b[1;36m6\u001b[0m,\n",
       "    \u001b[32m'verified_email'\u001b[0m: \u001b[3;92mTrue\u001b[0m,\n",
       "    \u001b[32m'preferred_categories'\u001b[0m: \u001b[1m[\u001b[0m\u001b[1m]\u001b[0m,\n",
       "    \u001b[32m'allowCrawler'\u001b[0m: \u001b[3;92mTrue\u001b[0m,\n",
       "    \u001b[32m'deeplink'\u001b[0m: \u001b[32m'https://www.wattpad.com/WattpadBooks'\u001b[0m,\n",
       "    \u001b[32m'isMuted'\u001b[0m: \u001b[3;91mFalse\u001b[0m\n",
       "\u001b[1m}\u001b[0m\n"
      ]
     },
     "metadata": {},
     "output_type": "display_data"
    }
   ],
   "source": [
    "raw_data = await one.fetch()\n",
    "print(raw_data)"
   ]
  },
  {
   "cell_type": "markdown",
   "metadata": {},
   "source": [
    "All `fetch` methods return the raw JSON parsed from the Wattpad API.\n",
    "\n",
    "For normal usage, it's recommended to use the class attributes:"
   ]
  },
  {
   "cell_type": "code",
   "execution_count": 4,
   "metadata": {},
   "outputs": [
    {
     "data": {
      "text/html": [
       "<pre style=\"white-space:pre;overflow-x:auto;line-height:normal;font-family:Menlo,'DejaVu Sans Mono',consolas,'Courier New',monospace\">Wattpad Books brings stories the world needs to hear, brought to life by your favorite writers, right into your \n",
       "hands. Welcome home. 🏡🧡\n",
       "\n",
       "Stay in the know of all the latest launches from Wattpad Books. Looking for your next literary obsession? Crossing \n",
       "your fingers for more work from your favorite creator? Follow us here to be the first to hear about new releases, \n",
       "author interviews, and more!\n",
       "\n",
       "We see your dreams, and we want to help you achieve them. If you're hoping to get published, our advice is to keep \n",
       "doing what you love: writing. Every book published by Wattpad Books was born right here on Wattpad. ⭐️\n",
       "\n",
       "🔈Follow Wattpad Books:\n",
       "Twitter: twitter.com/wattpadbooks\n",
       "Instagram: wattpadbooks\n",
       "Facebook: facebook.com/wattpad\n",
       "</pre>\n"
      ],
      "text/plain": [
       "Wattpad Books brings stories the world needs to hear, brought to life by your favorite writers, right into your \n",
       "hands. Welcome home. 🏡🧡\n",
       "\n",
       "Stay in the know of all the latest launches from Wattpad Books. Looking for your next literary obsession? Crossing \n",
       "your fingers for more work from your favorite creator? Follow us here to be the first to hear about new releases, \n",
       "author interviews, and more!\n",
       "\n",
       "We see your dreams, and we want to help you achieve them. If you're hoping to get published, our advice is to keep \n",
       "doing what you love: writing. Every book published by Wattpad Books was born right here on Wattpad. ⭐️\n",
       "\n",
       "🔈Follow Wattpad Books:\n",
       "Twitter: twitter.com/wattpadbooks\n",
       "Instagram: wattpadbooks\n",
       "Facebook: facebook.com/wattpad\n"
      ]
     },
     "metadata": {},
     "output_type": "display_data"
    }
   ],
   "source": [
    "print(one.data.description)"
   ]
  },
  {
   "cell_type": "markdown",
   "metadata": {},
   "source": [
    "A list of available attributes can be found [here](https://wattpad.rambhat.la) on the `model_types` page. You can also view `wattpad.models.UserModel.model_fields` for the same."
   ]
  },
  {
   "cell_type": "code",
   "execution_count": 12,
   "metadata": {},
   "outputs": [
    {
     "data": {
      "text/html": [
       "<pre style=\"white-space:pre;overflow-x:auto;line-height:normal;font-family:Menlo,'DejaVu Sans Mono',consolas,'Courier New',monospace\"><span style=\"font-weight: bold\">{</span>\n",
       "    <span style=\"color: #008000; text-decoration-color: #008000\">'username'</span>: <span style=\"color: #800080; text-decoration-color: #800080; font-weight: bold\">FieldInfo</span><span style=\"font-weight: bold\">(</span><span style=\"color: #808000; text-decoration-color: #808000\">annotation</span>=<span style=\"color: #800080; text-decoration-color: #800080\">str</span>, <span style=\"color: #808000; text-decoration-color: #808000\">required</span>=<span style=\"color: #00ff00; text-decoration-color: #00ff00; font-style: italic\">True</span><span style=\"font-weight: bold\">)</span>,\n",
       "    <span style=\"color: #008000; text-decoration-color: #008000\">'avatar'</span>: <span style=\"color: #800080; text-decoration-color: #800080; font-weight: bold\">FieldInfo</span><span style=\"font-weight: bold\">(</span><span style=\"color: #808000; text-decoration-color: #808000\">annotation</span>=<span style=\"color: #800080; text-decoration-color: #800080\">Union</span><span style=\"font-weight: bold\">[</span>str, NoneType<span style=\"font-weight: bold\">]</span>, <span style=\"color: #808000; text-decoration-color: #808000\">required</span>=<span style=\"color: #ff0000; text-decoration-color: #ff0000; font-style: italic\">False</span><span style=\"font-weight: bold\">)</span>,\n",
       "    <span style=\"color: #008000; text-decoration-color: #008000\">'is_private'</span>: <span style=\"color: #800080; text-decoration-color: #800080; font-weight: bold\">FieldInfo</span><span style=\"font-weight: bold\">(</span>\n",
       "        <span style=\"color: #808000; text-decoration-color: #808000\">annotation</span>=<span style=\"color: #800080; text-decoration-color: #800080\">Union</span><span style=\"font-weight: bold\">[</span>bool, NoneType<span style=\"font-weight: bold\">]</span>,\n",
       "        <span style=\"color: #808000; text-decoration-color: #808000\">required</span>=<span style=\"color: #ff0000; text-decoration-color: #ff0000; font-style: italic\">False</span>,\n",
       "        <span style=\"color: #808000; text-decoration-color: #808000\">alias</span>=<span style=\"color: #008000; text-decoration-color: #008000\">'isPrivate'</span>,\n",
       "        <span style=\"color: #808000; text-decoration-color: #808000\">alias_priority</span>=<span style=\"color: #008080; text-decoration-color: #008080; font-weight: bold\">2</span>\n",
       "    <span style=\"font-weight: bold\">)</span>,\n",
       "    <span style=\"color: #008000; text-decoration-color: #008000\">'background_url'</span>: <span style=\"color: #800080; text-decoration-color: #800080; font-weight: bold\">FieldInfo</span><span style=\"font-weight: bold\">(</span>\n",
       "        <span style=\"color: #808000; text-decoration-color: #808000\">annotation</span>=<span style=\"color: #800080; text-decoration-color: #800080\">Union</span><span style=\"font-weight: bold\">[</span>str, NoneType<span style=\"font-weight: bold\">]</span>,\n",
       "        <span style=\"color: #808000; text-decoration-color: #808000\">required</span>=<span style=\"color: #ff0000; text-decoration-color: #ff0000; font-style: italic\">False</span>,\n",
       "        <span style=\"color: #808000; text-decoration-color: #808000\">alias</span>=<span style=\"color: #008000; text-decoration-color: #008000\">'backgroundUrl'</span>,\n",
       "        <span style=\"color: #808000; text-decoration-color: #808000\">alias_priority</span>=<span style=\"color: #008080; text-decoration-color: #008080; font-weight: bold\">2</span>\n",
       "    <span style=\"font-weight: bold\">)</span>,\n",
       "    <span style=\"color: #008000; text-decoration-color: #008000\">'follower'</span>: <span style=\"color: #800080; text-decoration-color: #800080; font-weight: bold\">FieldInfo</span><span style=\"font-weight: bold\">(</span><span style=\"color: #808000; text-decoration-color: #808000\">annotation</span>=<span style=\"color: #800080; text-decoration-color: #800080\">Union</span><span style=\"font-weight: bold\">[</span>bool, NoneType<span style=\"font-weight: bold\">]</span>, <span style=\"color: #808000; text-decoration-color: #808000\">required</span>=<span style=\"color: #ff0000; text-decoration-color: #ff0000; font-style: italic\">False</span><span style=\"font-weight: bold\">)</span>,\n",
       "    <span style=\"color: #008000; text-decoration-color: #008000\">'following'</span>: <span style=\"color: #800080; text-decoration-color: #800080; font-weight: bold\">FieldInfo</span><span style=\"font-weight: bold\">(</span><span style=\"color: #808000; text-decoration-color: #808000\">annotation</span>=<span style=\"color: #800080; text-decoration-color: #800080\">Union</span><span style=\"font-weight: bold\">[</span>bool, NoneType<span style=\"font-weight: bold\">]</span>, <span style=\"color: #808000; text-decoration-color: #808000\">required</span>=<span style=\"color: #ff0000; text-decoration-color: #ff0000; font-style: italic\">False</span><span style=\"font-weight: bold\">)</span>,\n",
       "    <span style=\"color: #008000; text-decoration-color: #008000\">'name'</span>: <span style=\"color: #800080; text-decoration-color: #800080; font-weight: bold\">FieldInfo</span><span style=\"font-weight: bold\">(</span><span style=\"color: #808000; text-decoration-color: #808000\">annotation</span>=<span style=\"color: #800080; text-decoration-color: #800080\">Union</span><span style=\"font-weight: bold\">[</span>str, NoneType<span style=\"font-weight: bold\">]</span>, <span style=\"color: #808000; text-decoration-color: #808000\">required</span>=<span style=\"color: #ff0000; text-decoration-color: #ff0000; font-style: italic\">False</span><span style=\"font-weight: bold\">)</span>,\n",
       "    <span style=\"color: #008000; text-decoration-color: #008000\">'description'</span>: <span style=\"color: #800080; text-decoration-color: #800080; font-weight: bold\">FieldInfo</span><span style=\"font-weight: bold\">(</span><span style=\"color: #808000; text-decoration-color: #808000\">annotation</span>=<span style=\"color: #800080; text-decoration-color: #800080\">Union</span><span style=\"font-weight: bold\">[</span>str, NoneType<span style=\"font-weight: bold\">]</span>, <span style=\"color: #808000; text-decoration-color: #808000\">required</span>=<span style=\"color: #ff0000; text-decoration-color: #ff0000; font-style: italic\">False</span><span style=\"font-weight: bold\">)</span>,\n",
       "    <span style=\"color: #008000; text-decoration-color: #008000\">'status'</span>: <span style=\"color: #800080; text-decoration-color: #800080; font-weight: bold\">FieldInfo</span><span style=\"font-weight: bold\">(</span><span style=\"color: #808000; text-decoration-color: #808000\">annotation</span>=<span style=\"color: #800080; text-decoration-color: #800080\">Union</span><span style=\"font-weight: bold\">[</span>str, NoneType<span style=\"font-weight: bold\">]</span>, <span style=\"color: #808000; text-decoration-color: #808000\">required</span>=<span style=\"color: #ff0000; text-decoration-color: #ff0000; font-style: italic\">False</span><span style=\"font-weight: bold\">)</span>,\n",
       "    <span style=\"color: #008000; text-decoration-color: #008000\">'gender'</span>: <span style=\"color: #800080; text-decoration-color: #800080; font-weight: bold\">FieldInfo</span><span style=\"font-weight: bold\">(</span><span style=\"color: #808000; text-decoration-color: #808000\">annotation</span>=<span style=\"color: #800080; text-decoration-color: #800080\">Union</span><span style=\"font-weight: bold\">[</span>str, NoneType<span style=\"font-weight: bold\">]</span>, <span style=\"color: #808000; text-decoration-color: #808000\">required</span>=<span style=\"color: #ff0000; text-decoration-color: #ff0000; font-style: italic\">False</span><span style=\"font-weight: bold\">)</span>,\n",
       "    <span style=\"color: #008000; text-decoration-color: #008000\">'gender_code'</span>: <span style=\"color: #800080; text-decoration-color: #800080; font-weight: bold\">FieldInfo</span><span style=\"font-weight: bold\">(</span>\n",
       "        <span style=\"color: #808000; text-decoration-color: #808000\">annotation</span>=<span style=\"color: #800080; text-decoration-color: #800080\">Union</span><span style=\"font-weight: bold\">[</span>str, NoneType<span style=\"font-weight: bold\">]</span>,\n",
       "        <span style=\"color: #808000; text-decoration-color: #808000\">required</span>=<span style=\"color: #ff0000; text-decoration-color: #ff0000; font-style: italic\">False</span>,\n",
       "        <span style=\"color: #808000; text-decoration-color: #808000\">alias</span>=<span style=\"color: #008000; text-decoration-color: #008000\">'genderCode'</span>,\n",
       "        <span style=\"color: #808000; text-decoration-color: #808000\">alias_priority</span>=<span style=\"color: #008080; text-decoration-color: #008080; font-weight: bold\">2</span>\n",
       "    <span style=\"font-weight: bold\">)</span>,\n",
       "    <span style=\"color: #008000; text-decoration-color: #008000\">'language'</span>: <span style=\"color: #800080; text-decoration-color: #800080; font-weight: bold\">FieldInfo</span><span style=\"font-weight: bold\">(</span><span style=\"color: #808000; text-decoration-color: #808000\">annotation</span>=<span style=\"color: #800080; text-decoration-color: #800080\">Union</span><span style=\"font-weight: bold\">[</span>int, NoneType<span style=\"font-weight: bold\">]</span>, <span style=\"color: #808000; text-decoration-color: #808000\">required</span>=<span style=\"color: #ff0000; text-decoration-color: #ff0000; font-style: italic\">False</span><span style=\"font-weight: bold\">)</span>,\n",
       "    <span style=\"color: #008000; text-decoration-color: #008000\">'locale'</span>: <span style=\"color: #800080; text-decoration-color: #800080; font-weight: bold\">FieldInfo</span><span style=\"font-weight: bold\">(</span><span style=\"color: #808000; text-decoration-color: #808000\">annotation</span>=<span style=\"color: #800080; text-decoration-color: #800080\">Union</span><span style=\"font-weight: bold\">[</span>str, NoneType<span style=\"font-weight: bold\">]</span>, <span style=\"color: #808000; text-decoration-color: #808000\">required</span>=<span style=\"color: #ff0000; text-decoration-color: #ff0000; font-style: italic\">False</span><span style=\"font-weight: bold\">)</span>,\n",
       "    <span style=\"color: #008000; text-decoration-color: #008000\">'create_date'</span>: <span style=\"color: #800080; text-decoration-color: #800080; font-weight: bold\">FieldInfo</span><span style=\"font-weight: bold\">(</span>\n",
       "        <span style=\"color: #808000; text-decoration-color: #808000\">annotation</span>=<span style=\"color: #800080; text-decoration-color: #800080\">Union</span><span style=\"font-weight: bold\">[</span>str, NoneType<span style=\"font-weight: bold\">]</span>,\n",
       "        <span style=\"color: #808000; text-decoration-color: #808000\">required</span>=<span style=\"color: #ff0000; text-decoration-color: #ff0000; font-style: italic\">False</span>,\n",
       "        <span style=\"color: #808000; text-decoration-color: #808000\">alias</span>=<span style=\"color: #008000; text-decoration-color: #008000\">'createDate'</span>,\n",
       "        <span style=\"color: #808000; text-decoration-color: #808000\">alias_priority</span>=<span style=\"color: #008080; text-decoration-color: #008080; font-weight: bold\">2</span>\n",
       "    <span style=\"font-weight: bold\">)</span>,\n",
       "    <span style=\"color: #008000; text-decoration-color: #008000\">'modify_date'</span>: <span style=\"color: #800080; text-decoration-color: #800080; font-weight: bold\">FieldInfo</span><span style=\"font-weight: bold\">(</span>\n",
       "        <span style=\"color: #808000; text-decoration-color: #808000\">annotation</span>=<span style=\"color: #800080; text-decoration-color: #800080\">Union</span><span style=\"font-weight: bold\">[</span>str, NoneType<span style=\"font-weight: bold\">]</span>,\n",
       "        <span style=\"color: #808000; text-decoration-color: #808000\">required</span>=<span style=\"color: #ff0000; text-decoration-color: #ff0000; font-style: italic\">False</span>,\n",
       "        <span style=\"color: #808000; text-decoration-color: #808000\">alias</span>=<span style=\"color: #008000; text-decoration-color: #008000\">'modifyDate'</span>,\n",
       "        <span style=\"color: #808000; text-decoration-color: #808000\">alias_priority</span>=<span style=\"color: #008080; text-decoration-color: #008080; font-weight: bold\">2</span>\n",
       "    <span style=\"font-weight: bold\">)</span>,\n",
       "    <span style=\"color: #008000; text-decoration-color: #008000\">'location'</span>: <span style=\"color: #800080; text-decoration-color: #800080; font-weight: bold\">FieldInfo</span><span style=\"font-weight: bold\">(</span><span style=\"color: #808000; text-decoration-color: #808000\">annotation</span>=<span style=\"color: #800080; text-decoration-color: #800080\">Union</span><span style=\"font-weight: bold\">[</span>str, NoneType<span style=\"font-weight: bold\">]</span>, <span style=\"color: #808000; text-decoration-color: #808000\">required</span>=<span style=\"color: #ff0000; text-decoration-color: #ff0000; font-style: italic\">False</span><span style=\"font-weight: bold\">)</span>,\n",
       "    <span style=\"color: #008000; text-decoration-color: #008000\">'verified'</span>: <span style=\"color: #800080; text-decoration-color: #800080; font-weight: bold\">FieldInfo</span><span style=\"font-weight: bold\">(</span><span style=\"color: #808000; text-decoration-color: #808000\">annotation</span>=<span style=\"color: #800080; text-decoration-color: #800080\">Union</span><span style=\"font-weight: bold\">[</span>bool, NoneType<span style=\"font-weight: bold\">]</span>, <span style=\"color: #808000; text-decoration-color: #808000\">required</span>=<span style=\"color: #ff0000; text-decoration-color: #ff0000; font-style: italic\">False</span><span style=\"font-weight: bold\">)</span>,\n",
       "    <span style=\"color: #008000; text-decoration-color: #008000\">'ambassador'</span>: <span style=\"color: #800080; text-decoration-color: #800080; font-weight: bold\">FieldInfo</span><span style=\"font-weight: bold\">(</span><span style=\"color: #808000; text-decoration-color: #808000\">annotation</span>=<span style=\"color: #800080; text-decoration-color: #800080\">Union</span><span style=\"font-weight: bold\">[</span>bool, NoneType<span style=\"font-weight: bold\">]</span>, <span style=\"color: #808000; text-decoration-color: #808000\">required</span>=<span style=\"color: #ff0000; text-decoration-color: #ff0000; font-style: italic\">False</span><span style=\"font-weight: bold\">)</span>,\n",
       "    <span style=\"color: #008000; text-decoration-color: #008000\">'facebook'</span>: <span style=\"color: #800080; text-decoration-color: #800080; font-weight: bold\">FieldInfo</span><span style=\"font-weight: bold\">(</span><span style=\"color: #808000; text-decoration-color: #808000\">annotation</span>=<span style=\"color: #800080; text-decoration-color: #800080\">Union</span><span style=\"font-weight: bold\">[</span>str, NoneType<span style=\"font-weight: bold\">]</span>, <span style=\"color: #808000; text-decoration-color: #808000\">required</span>=<span style=\"color: #ff0000; text-decoration-color: #ff0000; font-style: italic\">False</span><span style=\"font-weight: bold\">)</span>,\n",
       "    <span style=\"color: #008000; text-decoration-color: #008000\">'twitter'</span>: <span style=\"color: #800080; text-decoration-color: #800080; font-weight: bold\">FieldInfo</span><span style=\"font-weight: bold\">(</span><span style=\"color: #808000; text-decoration-color: #808000\">annotation</span>=<span style=\"color: #800080; text-decoration-color: #800080\">Union</span><span style=\"font-weight: bold\">[</span>str, NoneType<span style=\"font-weight: bold\">]</span>, <span style=\"color: #808000; text-decoration-color: #808000\">required</span>=<span style=\"color: #ff0000; text-decoration-color: #ff0000; font-style: italic\">False</span><span style=\"font-weight: bold\">)</span>,\n",
       "    <span style=\"color: #008000; text-decoration-color: #008000\">'website'</span>: <span style=\"color: #800080; text-decoration-color: #800080; font-weight: bold\">FieldInfo</span><span style=\"font-weight: bold\">(</span><span style=\"color: #808000; text-decoration-color: #808000\">annotation</span>=<span style=\"color: #800080; text-decoration-color: #800080\">Union</span><span style=\"font-weight: bold\">[</span>str, NoneType<span style=\"font-weight: bold\">]</span>, <span style=\"color: #808000; text-decoration-color: #808000\">required</span>=<span style=\"color: #ff0000; text-decoration-color: #ff0000; font-style: italic\">False</span><span style=\"font-weight: bold\">)</span>,\n",
       "    <span style=\"color: #008000; text-decoration-color: #008000\">'lulu'</span>: <span style=\"color: #800080; text-decoration-color: #800080; font-weight: bold\">FieldInfo</span><span style=\"font-weight: bold\">(</span><span style=\"color: #808000; text-decoration-color: #808000\">annotation</span>=<span style=\"color: #800080; text-decoration-color: #800080\">Union</span><span style=\"font-weight: bold\">[</span>str, NoneType<span style=\"font-weight: bold\">]</span>, <span style=\"color: #808000; text-decoration-color: #808000\">required</span>=<span style=\"color: #ff0000; text-decoration-color: #ff0000; font-style: italic\">False</span><span style=\"font-weight: bold\">)</span>,\n",
       "    <span style=\"color: #008000; text-decoration-color: #008000\">'smashwords'</span>: <span style=\"color: #800080; text-decoration-color: #800080; font-weight: bold\">FieldInfo</span><span style=\"font-weight: bold\">(</span><span style=\"color: #808000; text-decoration-color: #808000\">annotation</span>=<span style=\"color: #800080; text-decoration-color: #800080\">Union</span><span style=\"font-weight: bold\">[</span>str, NoneType<span style=\"font-weight: bold\">]</span>, <span style=\"color: #808000; text-decoration-color: #808000\">required</span>=<span style=\"color: #ff0000; text-decoration-color: #ff0000; font-style: italic\">False</span><span style=\"font-weight: bold\">)</span>,\n",
       "    <span style=\"color: #008000; text-decoration-color: #008000\">'bubok'</span>: <span style=\"color: #800080; text-decoration-color: #800080; font-weight: bold\">FieldInfo</span><span style=\"font-weight: bold\">(</span><span style=\"color: #808000; text-decoration-color: #808000\">annotation</span>=<span style=\"color: #800080; text-decoration-color: #800080\">Union</span><span style=\"font-weight: bold\">[</span>str, NoneType<span style=\"font-weight: bold\">]</span>, <span style=\"color: #808000; text-decoration-color: #808000\">required</span>=<span style=\"color: #ff0000; text-decoration-color: #ff0000; font-style: italic\">False</span><span style=\"font-weight: bold\">)</span>,\n",
       "    <span style=\"color: #008000; text-decoration-color: #008000\">'votes_received'</span>: <span style=\"color: #800080; text-decoration-color: #800080; font-weight: bold\">FieldInfo</span><span style=\"font-weight: bold\">(</span>\n",
       "        <span style=\"color: #808000; text-decoration-color: #808000\">annotation</span>=<span style=\"color: #800080; text-decoration-color: #800080\">Union</span><span style=\"font-weight: bold\">[</span>int, NoneType<span style=\"font-weight: bold\">]</span>,\n",
       "        <span style=\"color: #808000; text-decoration-color: #808000\">required</span>=<span style=\"color: #ff0000; text-decoration-color: #ff0000; font-style: italic\">False</span>,\n",
       "        <span style=\"color: #808000; text-decoration-color: #808000\">alias</span>=<span style=\"color: #008000; text-decoration-color: #008000\">'votesReceived'</span>,\n",
       "        <span style=\"color: #808000; text-decoration-color: #808000\">alias_priority</span>=<span style=\"color: #008080; text-decoration-color: #008080; font-weight: bold\">2</span>\n",
       "    <span style=\"font-weight: bold\">)</span>,\n",
       "    <span style=\"color: #008000; text-decoration-color: #008000\">'num_stories_published'</span>: <span style=\"color: #800080; text-decoration-color: #800080; font-weight: bold\">FieldInfo</span><span style=\"font-weight: bold\">(</span>\n",
       "        <span style=\"color: #808000; text-decoration-color: #808000\">annotation</span>=<span style=\"color: #800080; text-decoration-color: #800080\">Union</span><span style=\"font-weight: bold\">[</span>int, NoneType<span style=\"font-weight: bold\">]</span>,\n",
       "        <span style=\"color: #808000; text-decoration-color: #808000\">required</span>=<span style=\"color: #ff0000; text-decoration-color: #ff0000; font-style: italic\">False</span>,\n",
       "        <span style=\"color: #808000; text-decoration-color: #808000\">alias</span>=<span style=\"color: #008000; text-decoration-color: #008000\">'numStoriesPublished'</span>,\n",
       "        <span style=\"color: #808000; text-decoration-color: #808000\">alias_priority</span>=<span style=\"color: #008080; text-decoration-color: #008080; font-weight: bold\">2</span>\n",
       "    <span style=\"font-weight: bold\">)</span>,\n",
       "    <span style=\"color: #008000; text-decoration-color: #008000\">'num_following'</span>: <span style=\"color: #800080; text-decoration-color: #800080; font-weight: bold\">FieldInfo</span><span style=\"font-weight: bold\">(</span>\n",
       "        <span style=\"color: #808000; text-decoration-color: #808000\">annotation</span>=<span style=\"color: #800080; text-decoration-color: #800080\">Union</span><span style=\"font-weight: bold\">[</span>int, NoneType<span style=\"font-weight: bold\">]</span>,\n",
       "        <span style=\"color: #808000; text-decoration-color: #808000\">required</span>=<span style=\"color: #ff0000; text-decoration-color: #ff0000; font-style: italic\">False</span>,\n",
       "        <span style=\"color: #808000; text-decoration-color: #808000\">alias</span>=<span style=\"color: #008000; text-decoration-color: #008000\">'numFollowing'</span>,\n",
       "        <span style=\"color: #808000; text-decoration-color: #808000\">alias_priority</span>=<span style=\"color: #008080; text-decoration-color: #008080; font-weight: bold\">2</span>\n",
       "    <span style=\"font-weight: bold\">)</span>,\n",
       "    <span style=\"color: #008000; text-decoration-color: #008000\">'num_followers'</span>: <span style=\"color: #800080; text-decoration-color: #800080; font-weight: bold\">FieldInfo</span><span style=\"font-weight: bold\">(</span>\n",
       "        <span style=\"color: #808000; text-decoration-color: #808000\">annotation</span>=<span style=\"color: #800080; text-decoration-color: #800080\">Union</span><span style=\"font-weight: bold\">[</span>int, NoneType<span style=\"font-weight: bold\">]</span>,\n",
       "        <span style=\"color: #808000; text-decoration-color: #808000\">required</span>=<span style=\"color: #ff0000; text-decoration-color: #ff0000; font-style: italic\">False</span>,\n",
       "        <span style=\"color: #808000; text-decoration-color: #808000\">alias</span>=<span style=\"color: #008000; text-decoration-color: #008000\">'numFollowers'</span>,\n",
       "        <span style=\"color: #808000; text-decoration-color: #808000\">alias_priority</span>=<span style=\"color: #008080; text-decoration-color: #008080; font-weight: bold\">2</span>\n",
       "    <span style=\"font-weight: bold\">)</span>,\n",
       "    <span style=\"color: #008000; text-decoration-color: #008000\">'num_messages'</span>: <span style=\"color: #800080; text-decoration-color: #800080; font-weight: bold\">FieldInfo</span><span style=\"font-weight: bold\">(</span>\n",
       "        <span style=\"color: #808000; text-decoration-color: #808000\">annotation</span>=<span style=\"color: #800080; text-decoration-color: #800080\">Union</span><span style=\"font-weight: bold\">[</span>int, NoneType<span style=\"font-weight: bold\">]</span>,\n",
       "        <span style=\"color: #808000; text-decoration-color: #808000\">required</span>=<span style=\"color: #ff0000; text-decoration-color: #ff0000; font-style: italic\">False</span>,\n",
       "        <span style=\"color: #808000; text-decoration-color: #808000\">alias</span>=<span style=\"color: #008000; text-decoration-color: #008000\">'numMessages'</span>,\n",
       "        <span style=\"color: #808000; text-decoration-color: #808000\">alias_priority</span>=<span style=\"color: #008080; text-decoration-color: #008080; font-weight: bold\">2</span>\n",
       "    <span style=\"font-weight: bold\">)</span>,\n",
       "    <span style=\"color: #008000; text-decoration-color: #008000\">'num_lists'</span>: <span style=\"color: #800080; text-decoration-color: #800080; font-weight: bold\">FieldInfo</span><span style=\"font-weight: bold\">(</span><span style=\"color: #808000; text-decoration-color: #808000\">annotation</span>=<span style=\"color: #800080; text-decoration-color: #800080\">Union</span><span style=\"font-weight: bold\">[</span>int, NoneType<span style=\"font-weight: bold\">]</span>, <span style=\"color: #808000; text-decoration-color: #808000\">required</span>=<span style=\"color: #ff0000; text-decoration-color: #ff0000; font-style: italic\">False</span>, <span style=\"color: #808000; text-decoration-color: #808000\">alias</span>=<span style=\"color: #008000; text-decoration-color: #008000\">'numLists'</span>, <span style=\"color: #808000; text-decoration-color: #808000\">alias_priority</span>=<span style=\"color: #008080; text-decoration-color: #008080; font-weight: bold\">2</span><span style=\"font-weight: bold\">)</span>,\n",
       "    <span style=\"color: #008000; text-decoration-color: #008000\">'verified_email'</span>: <span style=\"color: #800080; text-decoration-color: #800080; font-weight: bold\">FieldInfo</span><span style=\"font-weight: bold\">(</span><span style=\"color: #808000; text-decoration-color: #808000\">annotation</span>=<span style=\"color: #800080; text-decoration-color: #800080\">Union</span><span style=\"font-weight: bold\">[</span>bool, NoneType<span style=\"font-weight: bold\">]</span>, <span style=\"color: #808000; text-decoration-color: #808000\">required</span>=<span style=\"color: #ff0000; text-decoration-color: #ff0000; font-style: italic\">False</span><span style=\"font-weight: bold\">)</span>,\n",
       "    <span style=\"color: #008000; text-decoration-color: #008000\">'preferred_categories'</span>: <span style=\"color: #800080; text-decoration-color: #800080; font-weight: bold\">FieldInfo</span><span style=\"font-weight: bold\">(</span><span style=\"color: #808000; text-decoration-color: #808000\">annotation</span>=<span style=\"color: #800080; text-decoration-color: #800080\">Union</span><span style=\"font-weight: bold\">[</span>List, NoneType<span style=\"font-weight: bold\">]</span>, <span style=\"color: #808000; text-decoration-color: #808000\">required</span>=<span style=\"color: #ff0000; text-decoration-color: #ff0000; font-style: italic\">False</span><span style=\"font-weight: bold\">)</span>,\n",
       "    <span style=\"color: #008000; text-decoration-color: #008000\">'allow_crawler'</span>: <span style=\"color: #800080; text-decoration-color: #800080; font-weight: bold\">FieldInfo</span><span style=\"font-weight: bold\">(</span>\n",
       "        <span style=\"color: #808000; text-decoration-color: #808000\">annotation</span>=<span style=\"color: #800080; text-decoration-color: #800080\">Union</span><span style=\"font-weight: bold\">[</span>bool, NoneType<span style=\"font-weight: bold\">]</span>,\n",
       "        <span style=\"color: #808000; text-decoration-color: #808000\">required</span>=<span style=\"color: #ff0000; text-decoration-color: #ff0000; font-style: italic\">False</span>,\n",
       "        <span style=\"color: #808000; text-decoration-color: #808000\">alias</span>=<span style=\"color: #008000; text-decoration-color: #008000\">'allowCrawler'</span>,\n",
       "        <span style=\"color: #808000; text-decoration-color: #808000\">alias_priority</span>=<span style=\"color: #008080; text-decoration-color: #008080; font-weight: bold\">2</span>\n",
       "    <span style=\"font-weight: bold\">)</span>,\n",
       "    <span style=\"color: #008000; text-decoration-color: #008000\">'deeplink'</span>: <span style=\"color: #800080; text-decoration-color: #800080; font-weight: bold\">FieldInfo</span><span style=\"font-weight: bold\">(</span><span style=\"color: #808000; text-decoration-color: #808000\">annotation</span>=<span style=\"color: #800080; text-decoration-color: #800080\">Union</span><span style=\"font-weight: bold\">[</span>str, NoneType<span style=\"font-weight: bold\">]</span>, <span style=\"color: #808000; text-decoration-color: #808000\">required</span>=<span style=\"color: #ff0000; text-decoration-color: #ff0000; font-style: italic\">False</span><span style=\"font-weight: bold\">)</span>,\n",
       "    <span style=\"color: #008000; text-decoration-color: #008000\">'is_muted'</span>: <span style=\"color: #800080; text-decoration-color: #800080; font-weight: bold\">FieldInfo</span><span style=\"font-weight: bold\">(</span><span style=\"color: #808000; text-decoration-color: #808000\">annotation</span>=<span style=\"color: #800080; text-decoration-color: #800080\">Union</span><span style=\"font-weight: bold\">[</span>bool, NoneType<span style=\"font-weight: bold\">]</span>, <span style=\"color: #808000; text-decoration-color: #808000\">required</span>=<span style=\"color: #ff0000; text-decoration-color: #ff0000; font-style: italic\">False</span>, <span style=\"color: #808000; text-decoration-color: #808000\">alias</span>=<span style=\"color: #008000; text-decoration-color: #008000\">'isMuted'</span>, <span style=\"color: #808000; text-decoration-color: #808000\">alias_priority</span>=<span style=\"color: #008080; text-decoration-color: #008080; font-weight: bold\">2</span><span style=\"font-weight: bold\">)</span>,\n",
       "    <span style=\"color: #008000; text-decoration-color: #008000\">'birthdate'</span>: <span style=\"color: #800080; text-decoration-color: #800080; font-weight: bold\">FieldInfo</span><span style=\"font-weight: bold\">(</span><span style=\"color: #808000; text-decoration-color: #808000\">annotation</span>=<span style=\"color: #800080; text-decoration-color: #800080\">Union</span><span style=\"font-weight: bold\">[</span>str, NoneType<span style=\"font-weight: bold\">]</span>, <span style=\"color: #808000; text-decoration-color: #808000\">required</span>=<span style=\"color: #ff0000; text-decoration-color: #ff0000; font-style: italic\">False</span><span style=\"font-weight: bold\">)</span>,\n",
       "    <span style=\"color: #008000; text-decoration-color: #008000\">'inbox'</span>: <span style=\"color: #800080; text-decoration-color: #800080; font-weight: bold\">FieldInfo</span><span style=\"font-weight: bold\">(</span><span style=\"color: #808000; text-decoration-color: #808000\">annotation</span>=<span style=\"color: #800080; text-decoration-color: #800080\">Union</span><span style=\"font-weight: bold\">[</span>InboxModel, NoneType<span style=\"font-weight: bold\">]</span>, <span style=\"color: #808000; text-decoration-color: #808000\">required</span>=<span style=\"color: #ff0000; text-decoration-color: #ff0000; font-style: italic\">False</span><span style=\"font-weight: bold\">)</span>,\n",
       "    <span style=\"color: #008000; text-decoration-color: #008000\">'notifications'</span>: <span style=\"color: #800080; text-decoration-color: #800080; font-weight: bold\">FieldInfo</span><span style=\"font-weight: bold\">(</span><span style=\"color: #808000; text-decoration-color: #808000\">annotation</span>=<span style=\"color: #800080; text-decoration-color: #800080\">Union</span><span style=\"font-weight: bold\">[</span>NotificationsModel, NoneType<span style=\"font-weight: bold\">]</span>, <span style=\"color: #808000; text-decoration-color: #808000\">required</span>=<span style=\"color: #ff0000; text-decoration-color: #ff0000; font-style: italic\">False</span><span style=\"font-weight: bold\">)</span>,\n",
       "    <span style=\"color: #008000; text-decoration-color: #008000\">'connected_services'</span>: <span style=\"color: #800080; text-decoration-color: #800080; font-weight: bold\">FieldInfo</span><span style=\"font-weight: bold\">(</span>\n",
       "        <span style=\"color: #808000; text-decoration-color: #808000\">annotation</span>=<span style=\"color: #800080; text-decoration-color: #800080\">Union</span><span style=\"font-weight: bold\">[</span>ConnectedServicesModel, NoneType<span style=\"font-weight: bold\">]</span>,\n",
       "        <span style=\"color: #808000; text-decoration-color: #808000\">required</span>=<span style=\"color: #ff0000; text-decoration-color: #ff0000; font-style: italic\">False</span>,\n",
       "        <span style=\"color: #808000; text-decoration-color: #808000\">alias</span>=<span style=\"color: #008000; text-decoration-color: #008000\">'connectedServices'</span>,\n",
       "        <span style=\"color: #808000; text-decoration-color: #808000\">alias_priority</span>=<span style=\"color: #008080; text-decoration-color: #008080; font-weight: bold\">2</span>\n",
       "    <span style=\"font-weight: bold\">)</span>,\n",
       "    <span style=\"color: #008000; text-decoration-color: #008000\">'age'</span>: <span style=\"color: #800080; text-decoration-color: #800080; font-weight: bold\">FieldInfo</span><span style=\"font-weight: bold\">(</span><span style=\"color: #808000; text-decoration-color: #808000\">annotation</span>=<span style=\"color: #800080; text-decoration-color: #800080\">Union</span><span style=\"font-weight: bold\">[</span>int, NoneType<span style=\"font-weight: bold\">]</span>, <span style=\"color: #808000; text-decoration-color: #808000\">required</span>=<span style=\"color: #ff0000; text-decoration-color: #ff0000; font-style: italic\">False</span><span style=\"font-weight: bold\">)</span>,\n",
       "    <span style=\"color: #008000; text-decoration-color: #008000\">'email'</span>: <span style=\"color: #800080; text-decoration-color: #800080; font-weight: bold\">FieldInfo</span><span style=\"font-weight: bold\">(</span><span style=\"color: #808000; text-decoration-color: #808000\">annotation</span>=<span style=\"color: #800080; text-decoration-color: #800080\">Union</span><span style=\"font-weight: bold\">[</span>str, NoneType<span style=\"font-weight: bold\">]</span>, <span style=\"color: #808000; text-decoration-color: #808000\">required</span>=<span style=\"color: #ff0000; text-decoration-color: #ff0000; font-style: italic\">False</span><span style=\"font-weight: bold\">)</span>,\n",
       "    <span style=\"color: #008000; text-decoration-color: #008000\">'has_password'</span>: <span style=\"color: #800080; text-decoration-color: #800080; font-weight: bold\">FieldInfo</span><span style=\"font-weight: bold\">(</span><span style=\"color: #808000; text-decoration-color: #808000\">annotation</span>=<span style=\"color: #800080; text-decoration-color: #800080\">Union</span><span style=\"font-weight: bold\">[</span>bool, NoneType<span style=\"font-weight: bold\">]</span>, <span style=\"color: #808000; text-decoration-color: #808000\">required</span>=<span style=\"color: #ff0000; text-decoration-color: #ff0000; font-style: italic\">False</span><span style=\"font-weight: bold\">)</span>\n",
       "<span style=\"font-weight: bold\">}</span>\n",
       "</pre>\n"
      ],
      "text/plain": [
       "\u001b[1m{\u001b[0m\n",
       "    \u001b[32m'username'\u001b[0m: \u001b[1;35mFieldInfo\u001b[0m\u001b[1m(\u001b[0m\u001b[33mannotation\u001b[0m=\u001b[35mstr\u001b[0m, \u001b[33mrequired\u001b[0m=\u001b[3;92mTrue\u001b[0m\u001b[1m)\u001b[0m,\n",
       "    \u001b[32m'avatar'\u001b[0m: \u001b[1;35mFieldInfo\u001b[0m\u001b[1m(\u001b[0m\u001b[33mannotation\u001b[0m=\u001b[35mUnion\u001b[0m\u001b[1m[\u001b[0mstr, NoneType\u001b[1m]\u001b[0m, \u001b[33mrequired\u001b[0m=\u001b[3;91mFalse\u001b[0m\u001b[1m)\u001b[0m,\n",
       "    \u001b[32m'is_private'\u001b[0m: \u001b[1;35mFieldInfo\u001b[0m\u001b[1m(\u001b[0m\n",
       "        \u001b[33mannotation\u001b[0m=\u001b[35mUnion\u001b[0m\u001b[1m[\u001b[0mbool, NoneType\u001b[1m]\u001b[0m,\n",
       "        \u001b[33mrequired\u001b[0m=\u001b[3;91mFalse\u001b[0m,\n",
       "        \u001b[33malias\u001b[0m=\u001b[32m'isPrivate'\u001b[0m,\n",
       "        \u001b[33malias_priority\u001b[0m=\u001b[1;36m2\u001b[0m\n",
       "    \u001b[1m)\u001b[0m,\n",
       "    \u001b[32m'background_url'\u001b[0m: \u001b[1;35mFieldInfo\u001b[0m\u001b[1m(\u001b[0m\n",
       "        \u001b[33mannotation\u001b[0m=\u001b[35mUnion\u001b[0m\u001b[1m[\u001b[0mstr, NoneType\u001b[1m]\u001b[0m,\n",
       "        \u001b[33mrequired\u001b[0m=\u001b[3;91mFalse\u001b[0m,\n",
       "        \u001b[33malias\u001b[0m=\u001b[32m'backgroundUrl'\u001b[0m,\n",
       "        \u001b[33malias_priority\u001b[0m=\u001b[1;36m2\u001b[0m\n",
       "    \u001b[1m)\u001b[0m,\n",
       "    \u001b[32m'follower'\u001b[0m: \u001b[1;35mFieldInfo\u001b[0m\u001b[1m(\u001b[0m\u001b[33mannotation\u001b[0m=\u001b[35mUnion\u001b[0m\u001b[1m[\u001b[0mbool, NoneType\u001b[1m]\u001b[0m, \u001b[33mrequired\u001b[0m=\u001b[3;91mFalse\u001b[0m\u001b[1m)\u001b[0m,\n",
       "    \u001b[32m'following'\u001b[0m: \u001b[1;35mFieldInfo\u001b[0m\u001b[1m(\u001b[0m\u001b[33mannotation\u001b[0m=\u001b[35mUnion\u001b[0m\u001b[1m[\u001b[0mbool, NoneType\u001b[1m]\u001b[0m, \u001b[33mrequired\u001b[0m=\u001b[3;91mFalse\u001b[0m\u001b[1m)\u001b[0m,\n",
       "    \u001b[32m'name'\u001b[0m: \u001b[1;35mFieldInfo\u001b[0m\u001b[1m(\u001b[0m\u001b[33mannotation\u001b[0m=\u001b[35mUnion\u001b[0m\u001b[1m[\u001b[0mstr, NoneType\u001b[1m]\u001b[0m, \u001b[33mrequired\u001b[0m=\u001b[3;91mFalse\u001b[0m\u001b[1m)\u001b[0m,\n",
       "    \u001b[32m'description'\u001b[0m: \u001b[1;35mFieldInfo\u001b[0m\u001b[1m(\u001b[0m\u001b[33mannotation\u001b[0m=\u001b[35mUnion\u001b[0m\u001b[1m[\u001b[0mstr, NoneType\u001b[1m]\u001b[0m, \u001b[33mrequired\u001b[0m=\u001b[3;91mFalse\u001b[0m\u001b[1m)\u001b[0m,\n",
       "    \u001b[32m'status'\u001b[0m: \u001b[1;35mFieldInfo\u001b[0m\u001b[1m(\u001b[0m\u001b[33mannotation\u001b[0m=\u001b[35mUnion\u001b[0m\u001b[1m[\u001b[0mstr, NoneType\u001b[1m]\u001b[0m, \u001b[33mrequired\u001b[0m=\u001b[3;91mFalse\u001b[0m\u001b[1m)\u001b[0m,\n",
       "    \u001b[32m'gender'\u001b[0m: \u001b[1;35mFieldInfo\u001b[0m\u001b[1m(\u001b[0m\u001b[33mannotation\u001b[0m=\u001b[35mUnion\u001b[0m\u001b[1m[\u001b[0mstr, NoneType\u001b[1m]\u001b[0m, \u001b[33mrequired\u001b[0m=\u001b[3;91mFalse\u001b[0m\u001b[1m)\u001b[0m,\n",
       "    \u001b[32m'gender_code'\u001b[0m: \u001b[1;35mFieldInfo\u001b[0m\u001b[1m(\u001b[0m\n",
       "        \u001b[33mannotation\u001b[0m=\u001b[35mUnion\u001b[0m\u001b[1m[\u001b[0mstr, NoneType\u001b[1m]\u001b[0m,\n",
       "        \u001b[33mrequired\u001b[0m=\u001b[3;91mFalse\u001b[0m,\n",
       "        \u001b[33malias\u001b[0m=\u001b[32m'genderCode'\u001b[0m,\n",
       "        \u001b[33malias_priority\u001b[0m=\u001b[1;36m2\u001b[0m\n",
       "    \u001b[1m)\u001b[0m,\n",
       "    \u001b[32m'language'\u001b[0m: \u001b[1;35mFieldInfo\u001b[0m\u001b[1m(\u001b[0m\u001b[33mannotation\u001b[0m=\u001b[35mUnion\u001b[0m\u001b[1m[\u001b[0mint, NoneType\u001b[1m]\u001b[0m, \u001b[33mrequired\u001b[0m=\u001b[3;91mFalse\u001b[0m\u001b[1m)\u001b[0m,\n",
       "    \u001b[32m'locale'\u001b[0m: \u001b[1;35mFieldInfo\u001b[0m\u001b[1m(\u001b[0m\u001b[33mannotation\u001b[0m=\u001b[35mUnion\u001b[0m\u001b[1m[\u001b[0mstr, NoneType\u001b[1m]\u001b[0m, \u001b[33mrequired\u001b[0m=\u001b[3;91mFalse\u001b[0m\u001b[1m)\u001b[0m,\n",
       "    \u001b[32m'create_date'\u001b[0m: \u001b[1;35mFieldInfo\u001b[0m\u001b[1m(\u001b[0m\n",
       "        \u001b[33mannotation\u001b[0m=\u001b[35mUnion\u001b[0m\u001b[1m[\u001b[0mstr, NoneType\u001b[1m]\u001b[0m,\n",
       "        \u001b[33mrequired\u001b[0m=\u001b[3;91mFalse\u001b[0m,\n",
       "        \u001b[33malias\u001b[0m=\u001b[32m'createDate'\u001b[0m,\n",
       "        \u001b[33malias_priority\u001b[0m=\u001b[1;36m2\u001b[0m\n",
       "    \u001b[1m)\u001b[0m,\n",
       "    \u001b[32m'modify_date'\u001b[0m: \u001b[1;35mFieldInfo\u001b[0m\u001b[1m(\u001b[0m\n",
       "        \u001b[33mannotation\u001b[0m=\u001b[35mUnion\u001b[0m\u001b[1m[\u001b[0mstr, NoneType\u001b[1m]\u001b[0m,\n",
       "        \u001b[33mrequired\u001b[0m=\u001b[3;91mFalse\u001b[0m,\n",
       "        \u001b[33malias\u001b[0m=\u001b[32m'modifyDate'\u001b[0m,\n",
       "        \u001b[33malias_priority\u001b[0m=\u001b[1;36m2\u001b[0m\n",
       "    \u001b[1m)\u001b[0m,\n",
       "    \u001b[32m'location'\u001b[0m: \u001b[1;35mFieldInfo\u001b[0m\u001b[1m(\u001b[0m\u001b[33mannotation\u001b[0m=\u001b[35mUnion\u001b[0m\u001b[1m[\u001b[0mstr, NoneType\u001b[1m]\u001b[0m, \u001b[33mrequired\u001b[0m=\u001b[3;91mFalse\u001b[0m\u001b[1m)\u001b[0m,\n",
       "    \u001b[32m'verified'\u001b[0m: \u001b[1;35mFieldInfo\u001b[0m\u001b[1m(\u001b[0m\u001b[33mannotation\u001b[0m=\u001b[35mUnion\u001b[0m\u001b[1m[\u001b[0mbool, NoneType\u001b[1m]\u001b[0m, \u001b[33mrequired\u001b[0m=\u001b[3;91mFalse\u001b[0m\u001b[1m)\u001b[0m,\n",
       "    \u001b[32m'ambassador'\u001b[0m: \u001b[1;35mFieldInfo\u001b[0m\u001b[1m(\u001b[0m\u001b[33mannotation\u001b[0m=\u001b[35mUnion\u001b[0m\u001b[1m[\u001b[0mbool, NoneType\u001b[1m]\u001b[0m, \u001b[33mrequired\u001b[0m=\u001b[3;91mFalse\u001b[0m\u001b[1m)\u001b[0m,\n",
       "    \u001b[32m'facebook'\u001b[0m: \u001b[1;35mFieldInfo\u001b[0m\u001b[1m(\u001b[0m\u001b[33mannotation\u001b[0m=\u001b[35mUnion\u001b[0m\u001b[1m[\u001b[0mstr, NoneType\u001b[1m]\u001b[0m, \u001b[33mrequired\u001b[0m=\u001b[3;91mFalse\u001b[0m\u001b[1m)\u001b[0m,\n",
       "    \u001b[32m'twitter'\u001b[0m: \u001b[1;35mFieldInfo\u001b[0m\u001b[1m(\u001b[0m\u001b[33mannotation\u001b[0m=\u001b[35mUnion\u001b[0m\u001b[1m[\u001b[0mstr, NoneType\u001b[1m]\u001b[0m, \u001b[33mrequired\u001b[0m=\u001b[3;91mFalse\u001b[0m\u001b[1m)\u001b[0m,\n",
       "    \u001b[32m'website'\u001b[0m: \u001b[1;35mFieldInfo\u001b[0m\u001b[1m(\u001b[0m\u001b[33mannotation\u001b[0m=\u001b[35mUnion\u001b[0m\u001b[1m[\u001b[0mstr, NoneType\u001b[1m]\u001b[0m, \u001b[33mrequired\u001b[0m=\u001b[3;91mFalse\u001b[0m\u001b[1m)\u001b[0m,\n",
       "    \u001b[32m'lulu'\u001b[0m: \u001b[1;35mFieldInfo\u001b[0m\u001b[1m(\u001b[0m\u001b[33mannotation\u001b[0m=\u001b[35mUnion\u001b[0m\u001b[1m[\u001b[0mstr, NoneType\u001b[1m]\u001b[0m, \u001b[33mrequired\u001b[0m=\u001b[3;91mFalse\u001b[0m\u001b[1m)\u001b[0m,\n",
       "    \u001b[32m'smashwords'\u001b[0m: \u001b[1;35mFieldInfo\u001b[0m\u001b[1m(\u001b[0m\u001b[33mannotation\u001b[0m=\u001b[35mUnion\u001b[0m\u001b[1m[\u001b[0mstr, NoneType\u001b[1m]\u001b[0m, \u001b[33mrequired\u001b[0m=\u001b[3;91mFalse\u001b[0m\u001b[1m)\u001b[0m,\n",
       "    \u001b[32m'bubok'\u001b[0m: \u001b[1;35mFieldInfo\u001b[0m\u001b[1m(\u001b[0m\u001b[33mannotation\u001b[0m=\u001b[35mUnion\u001b[0m\u001b[1m[\u001b[0mstr, NoneType\u001b[1m]\u001b[0m, \u001b[33mrequired\u001b[0m=\u001b[3;91mFalse\u001b[0m\u001b[1m)\u001b[0m,\n",
       "    \u001b[32m'votes_received'\u001b[0m: \u001b[1;35mFieldInfo\u001b[0m\u001b[1m(\u001b[0m\n",
       "        \u001b[33mannotation\u001b[0m=\u001b[35mUnion\u001b[0m\u001b[1m[\u001b[0mint, NoneType\u001b[1m]\u001b[0m,\n",
       "        \u001b[33mrequired\u001b[0m=\u001b[3;91mFalse\u001b[0m,\n",
       "        \u001b[33malias\u001b[0m=\u001b[32m'votesReceived'\u001b[0m,\n",
       "        \u001b[33malias_priority\u001b[0m=\u001b[1;36m2\u001b[0m\n",
       "    \u001b[1m)\u001b[0m,\n",
       "    \u001b[32m'num_stories_published'\u001b[0m: \u001b[1;35mFieldInfo\u001b[0m\u001b[1m(\u001b[0m\n",
       "        \u001b[33mannotation\u001b[0m=\u001b[35mUnion\u001b[0m\u001b[1m[\u001b[0mint, NoneType\u001b[1m]\u001b[0m,\n",
       "        \u001b[33mrequired\u001b[0m=\u001b[3;91mFalse\u001b[0m,\n",
       "        \u001b[33malias\u001b[0m=\u001b[32m'numStoriesPublished'\u001b[0m,\n",
       "        \u001b[33malias_priority\u001b[0m=\u001b[1;36m2\u001b[0m\n",
       "    \u001b[1m)\u001b[0m,\n",
       "    \u001b[32m'num_following'\u001b[0m: \u001b[1;35mFieldInfo\u001b[0m\u001b[1m(\u001b[0m\n",
       "        \u001b[33mannotation\u001b[0m=\u001b[35mUnion\u001b[0m\u001b[1m[\u001b[0mint, NoneType\u001b[1m]\u001b[0m,\n",
       "        \u001b[33mrequired\u001b[0m=\u001b[3;91mFalse\u001b[0m,\n",
       "        \u001b[33malias\u001b[0m=\u001b[32m'numFollowing'\u001b[0m,\n",
       "        \u001b[33malias_priority\u001b[0m=\u001b[1;36m2\u001b[0m\n",
       "    \u001b[1m)\u001b[0m,\n",
       "    \u001b[32m'num_followers'\u001b[0m: \u001b[1;35mFieldInfo\u001b[0m\u001b[1m(\u001b[0m\n",
       "        \u001b[33mannotation\u001b[0m=\u001b[35mUnion\u001b[0m\u001b[1m[\u001b[0mint, NoneType\u001b[1m]\u001b[0m,\n",
       "        \u001b[33mrequired\u001b[0m=\u001b[3;91mFalse\u001b[0m,\n",
       "        \u001b[33malias\u001b[0m=\u001b[32m'numFollowers'\u001b[0m,\n",
       "        \u001b[33malias_priority\u001b[0m=\u001b[1;36m2\u001b[0m\n",
       "    \u001b[1m)\u001b[0m,\n",
       "    \u001b[32m'num_messages'\u001b[0m: \u001b[1;35mFieldInfo\u001b[0m\u001b[1m(\u001b[0m\n",
       "        \u001b[33mannotation\u001b[0m=\u001b[35mUnion\u001b[0m\u001b[1m[\u001b[0mint, NoneType\u001b[1m]\u001b[0m,\n",
       "        \u001b[33mrequired\u001b[0m=\u001b[3;91mFalse\u001b[0m,\n",
       "        \u001b[33malias\u001b[0m=\u001b[32m'numMessages'\u001b[0m,\n",
       "        \u001b[33malias_priority\u001b[0m=\u001b[1;36m2\u001b[0m\n",
       "    \u001b[1m)\u001b[0m,\n",
       "    \u001b[32m'num_lists'\u001b[0m: \u001b[1;35mFieldInfo\u001b[0m\u001b[1m(\u001b[0m\u001b[33mannotation\u001b[0m=\u001b[35mUnion\u001b[0m\u001b[1m[\u001b[0mint, NoneType\u001b[1m]\u001b[0m, \u001b[33mrequired\u001b[0m=\u001b[3;91mFalse\u001b[0m, \u001b[33malias\u001b[0m=\u001b[32m'numLists'\u001b[0m, \u001b[33malias_priority\u001b[0m=\u001b[1;36m2\u001b[0m\u001b[1m)\u001b[0m,\n",
       "    \u001b[32m'verified_email'\u001b[0m: \u001b[1;35mFieldInfo\u001b[0m\u001b[1m(\u001b[0m\u001b[33mannotation\u001b[0m=\u001b[35mUnion\u001b[0m\u001b[1m[\u001b[0mbool, NoneType\u001b[1m]\u001b[0m, \u001b[33mrequired\u001b[0m=\u001b[3;91mFalse\u001b[0m\u001b[1m)\u001b[0m,\n",
       "    \u001b[32m'preferred_categories'\u001b[0m: \u001b[1;35mFieldInfo\u001b[0m\u001b[1m(\u001b[0m\u001b[33mannotation\u001b[0m=\u001b[35mUnion\u001b[0m\u001b[1m[\u001b[0mList, NoneType\u001b[1m]\u001b[0m, \u001b[33mrequired\u001b[0m=\u001b[3;91mFalse\u001b[0m\u001b[1m)\u001b[0m,\n",
       "    \u001b[32m'allow_crawler'\u001b[0m: \u001b[1;35mFieldInfo\u001b[0m\u001b[1m(\u001b[0m\n",
       "        \u001b[33mannotation\u001b[0m=\u001b[35mUnion\u001b[0m\u001b[1m[\u001b[0mbool, NoneType\u001b[1m]\u001b[0m,\n",
       "        \u001b[33mrequired\u001b[0m=\u001b[3;91mFalse\u001b[0m,\n",
       "        \u001b[33malias\u001b[0m=\u001b[32m'allowCrawler'\u001b[0m,\n",
       "        \u001b[33malias_priority\u001b[0m=\u001b[1;36m2\u001b[0m\n",
       "    \u001b[1m)\u001b[0m,\n",
       "    \u001b[32m'deeplink'\u001b[0m: \u001b[1;35mFieldInfo\u001b[0m\u001b[1m(\u001b[0m\u001b[33mannotation\u001b[0m=\u001b[35mUnion\u001b[0m\u001b[1m[\u001b[0mstr, NoneType\u001b[1m]\u001b[0m, \u001b[33mrequired\u001b[0m=\u001b[3;91mFalse\u001b[0m\u001b[1m)\u001b[0m,\n",
       "    \u001b[32m'is_muted'\u001b[0m: \u001b[1;35mFieldInfo\u001b[0m\u001b[1m(\u001b[0m\u001b[33mannotation\u001b[0m=\u001b[35mUnion\u001b[0m\u001b[1m[\u001b[0mbool, NoneType\u001b[1m]\u001b[0m, \u001b[33mrequired\u001b[0m=\u001b[3;91mFalse\u001b[0m, \u001b[33malias\u001b[0m=\u001b[32m'isMuted'\u001b[0m, \u001b[33malias_priority\u001b[0m=\u001b[1;36m2\u001b[0m\u001b[1m)\u001b[0m,\n",
       "    \u001b[32m'birthdate'\u001b[0m: \u001b[1;35mFieldInfo\u001b[0m\u001b[1m(\u001b[0m\u001b[33mannotation\u001b[0m=\u001b[35mUnion\u001b[0m\u001b[1m[\u001b[0mstr, NoneType\u001b[1m]\u001b[0m, \u001b[33mrequired\u001b[0m=\u001b[3;91mFalse\u001b[0m\u001b[1m)\u001b[0m,\n",
       "    \u001b[32m'inbox'\u001b[0m: \u001b[1;35mFieldInfo\u001b[0m\u001b[1m(\u001b[0m\u001b[33mannotation\u001b[0m=\u001b[35mUnion\u001b[0m\u001b[1m[\u001b[0mInboxModel, NoneType\u001b[1m]\u001b[0m, \u001b[33mrequired\u001b[0m=\u001b[3;91mFalse\u001b[0m\u001b[1m)\u001b[0m,\n",
       "    \u001b[32m'notifications'\u001b[0m: \u001b[1;35mFieldInfo\u001b[0m\u001b[1m(\u001b[0m\u001b[33mannotation\u001b[0m=\u001b[35mUnion\u001b[0m\u001b[1m[\u001b[0mNotificationsModel, NoneType\u001b[1m]\u001b[0m, \u001b[33mrequired\u001b[0m=\u001b[3;91mFalse\u001b[0m\u001b[1m)\u001b[0m,\n",
       "    \u001b[32m'connected_services'\u001b[0m: \u001b[1;35mFieldInfo\u001b[0m\u001b[1m(\u001b[0m\n",
       "        \u001b[33mannotation\u001b[0m=\u001b[35mUnion\u001b[0m\u001b[1m[\u001b[0mConnectedServicesModel, NoneType\u001b[1m]\u001b[0m,\n",
       "        \u001b[33mrequired\u001b[0m=\u001b[3;91mFalse\u001b[0m,\n",
       "        \u001b[33malias\u001b[0m=\u001b[32m'connectedServices'\u001b[0m,\n",
       "        \u001b[33malias_priority\u001b[0m=\u001b[1;36m2\u001b[0m\n",
       "    \u001b[1m)\u001b[0m,\n",
       "    \u001b[32m'age'\u001b[0m: \u001b[1;35mFieldInfo\u001b[0m\u001b[1m(\u001b[0m\u001b[33mannotation\u001b[0m=\u001b[35mUnion\u001b[0m\u001b[1m[\u001b[0mint, NoneType\u001b[1m]\u001b[0m, \u001b[33mrequired\u001b[0m=\u001b[3;91mFalse\u001b[0m\u001b[1m)\u001b[0m,\n",
       "    \u001b[32m'email'\u001b[0m: \u001b[1;35mFieldInfo\u001b[0m\u001b[1m(\u001b[0m\u001b[33mannotation\u001b[0m=\u001b[35mUnion\u001b[0m\u001b[1m[\u001b[0mstr, NoneType\u001b[1m]\u001b[0m, \u001b[33mrequired\u001b[0m=\u001b[3;91mFalse\u001b[0m\u001b[1m)\u001b[0m,\n",
       "    \u001b[32m'has_password'\u001b[0m: \u001b[1;35mFieldInfo\u001b[0m\u001b[1m(\u001b[0m\u001b[33mannotation\u001b[0m=\u001b[35mUnion\u001b[0m\u001b[1m[\u001b[0mbool, NoneType\u001b[1m]\u001b[0m, \u001b[33mrequired\u001b[0m=\u001b[3;91mFalse\u001b[0m\u001b[1m)\u001b[0m\n",
       "\u001b[1m}\u001b[0m\n"
      ]
     },
     "metadata": {},
     "output_type": "display_data"
    }
   ],
   "source": [
    "from wattpad.models import UserModel\n",
    "\n",
    "print(UserModel.model_fields)"
   ]
  },
  {
   "cell_type": "markdown",
   "metadata": {},
   "source": [
    "Now, let's delve into the main subject of this notebook: Memory Efficiency in the `wattpad` package."
   ]
  },
  {
   "cell_type": "code",
   "execution_count": 6,
   "metadata": {},
   "outputs": [
    {
     "data": {
      "text/plain": [
       "<User username=wattpadbooks>"
      ]
     },
     "execution_count": 6,
     "metadata": {},
     "output_type": "execute_result"
    }
   ],
   "source": [
    "one"
   ]
  },
  {
   "cell_type": "code",
   "execution_count": 7,
   "metadata": {},
   "outputs": [],
   "source": [
    "two = User(\"Wattpad\")\n",
    "three = User(\"wAttPadBOOKS\")"
   ]
  },
  {
   "cell_type": "markdown",
   "metadata": {},
   "source": [
    "We've instantiated two new User objects, one for the `Wattpad` account, and once more for `WattpadBooks`, which we've instantiated before into the `one` variable."
   ]
  },
  {
   "cell_type": "code",
   "execution_count": 8,
   "metadata": {},
   "outputs": [
    {
     "data": {
      "text/html": [
       "<pre style=\"white-space:pre;overflow-x:auto;line-height:normal;font-family:Menlo,'DejaVu Sans Mono',consolas,'Courier New',monospace\"><span style=\"color: #008080; text-decoration-color: #008080; font-weight: bold\">140584630579888</span>\n",
       "</pre>\n"
      ],
      "text/plain": [
       "\u001b[1;36m140584630579888\u001b[0m\n"
      ]
     },
     "metadata": {},
     "output_type": "display_data"
    },
    {
     "data": {
      "text/html": [
       "<pre style=\"white-space:pre;overflow-x:auto;line-height:normal;font-family:Menlo,'DejaVu Sans Mono',consolas,'Courier New',monospace\"><span style=\"color: #008080; text-decoration-color: #008080; font-weight: bold\">140584061227776</span>\n",
       "</pre>\n"
      ],
      "text/plain": [
       "\u001b[1;36m140584061227776\u001b[0m\n"
      ]
     },
     "metadata": {},
     "output_type": "display_data"
    },
    {
     "data": {
      "text/html": [
       "<pre style=\"white-space:pre;overflow-x:auto;line-height:normal;font-family:Menlo,'DejaVu Sans Mono',consolas,'Courier New',monospace\"><span style=\"color: #008080; text-decoration-color: #008080; font-weight: bold\">140584630579888</span>\n",
       "</pre>\n"
      ],
      "text/plain": [
       "\u001b[1;36m140584630579888\u001b[0m\n"
      ]
     },
     "metadata": {},
     "output_type": "display_data"
    }
   ],
   "source": [
    "print(id(one))\n",
    "print(id(two))\n",
    "print(id(three))\n"
   ]
  },
  {
   "cell_type": "markdown",
   "metadata": {},
   "source": [
    "`one` and `three` have the same IDs, that means they reference the same location in memory, whereas `two` has a unique ID.\n",
    "\n",
    "This means that `one` and `three` are the _same_.\n",
    "\n",
    "Let's verify this:"
   ]
  },
  {
   "cell_type": "code",
   "execution_count": 9,
   "metadata": {},
   "outputs": [
    {
     "data": {
      "text/html": [
       "<pre style=\"white-space:pre;overflow-x:auto;line-height:normal;font-family:Menlo,'DejaVu Sans Mono',consolas,'Courier New',monospace\">one:  this_is_one\n",
       "</pre>\n"
      ],
      "text/plain": [
       "one:  this_is_one\n"
      ]
     },
     "metadata": {},
     "output_type": "display_data"
    },
    {
     "data": {
      "text/html": [
       "<pre style=\"white-space:pre;overflow-x:auto;line-height:normal;font-family:Menlo,'DejaVu Sans Mono',consolas,'Courier New',monospace\">two:  <span style=\"color: #800080; text-decoration-color: #800080; font-style: italic\">None</span>\n",
       "</pre>\n"
      ],
      "text/plain": [
       "two:  \u001b[3;35mNone\u001b[0m\n"
      ]
     },
     "metadata": {},
     "output_type": "display_data"
    },
    {
     "data": {
      "text/html": [
       "<pre style=\"white-space:pre;overflow-x:auto;line-height:normal;font-family:Menlo,'DejaVu Sans Mono',consolas,'Courier New',monospace\">three:  this_is_one\n",
       "</pre>\n"
      ],
      "text/plain": [
       "three:  this_is_one\n"
      ]
     },
     "metadata": {},
     "output_type": "display_data"
    }
   ],
   "source": [
    "one.who_am_i = \"this_is_one\"\n",
    "\n",
    "print(\"one: \", getattr(one, \"who_am_i\", None))\n",
    "print(\"two: \", getattr(two, \"who_am_i\", None))\n",
    "print(\"three: \", getattr(three, \"who_am_i\", None))\n"
   ]
  },
  {
   "cell_type": "markdown",
   "metadata": {},
   "source": [
    "It's evident that `three` has the attributes we assigned to `one`, whereas `two` doesn't.\n",
    "\n",
    "**`User`s with the same Username are the _same_.**"
   ]
  },
  {
   "cell_type": "markdown",
   "metadata": {},
   "source": [
    "We haven't fetched any data for `two` or `three`, let's see what they contain so far:"
   ]
  },
  {
   "cell_type": "code",
   "execution_count": 10,
   "metadata": {},
   "outputs": [
    {
     "data": {
      "text/html": [
       "<pre style=\"white-space:pre;overflow-x:auto;line-height:normal;font-family:Menlo,'DejaVu Sans Mono',consolas,'Courier New',monospace\"><span style=\"color: #800080; text-decoration-color: #800080; font-weight: bold\">UserModel</span><span style=\"font-weight: bold\">(</span>\n",
       "    <span style=\"color: #808000; text-decoration-color: #808000\">username</span>=<span style=\"color: #008000; text-decoration-color: #008000\">'wattpad'</span>,\n",
       "    <span style=\"color: #808000; text-decoration-color: #808000\">avatar</span>=<span style=\"color: #800080; text-decoration-color: #800080; font-style: italic\">None</span>,\n",
       "    <span style=\"color: #808000; text-decoration-color: #808000\">is_private</span>=<span style=\"color: #800080; text-decoration-color: #800080; font-style: italic\">None</span>,\n",
       "    <span style=\"color: #808000; text-decoration-color: #808000\">background_url</span>=<span style=\"color: #800080; text-decoration-color: #800080; font-style: italic\">None</span>,\n",
       "    <span style=\"color: #808000; text-decoration-color: #808000\">follower</span>=<span style=\"color: #800080; text-decoration-color: #800080; font-style: italic\">None</span>,\n",
       "    <span style=\"color: #808000; text-decoration-color: #808000\">following</span>=<span style=\"color: #800080; text-decoration-color: #800080; font-style: italic\">None</span>,\n",
       "    <span style=\"color: #808000; text-decoration-color: #808000\">name</span>=<span style=\"color: #800080; text-decoration-color: #800080; font-style: italic\">None</span>,\n",
       "    <span style=\"color: #808000; text-decoration-color: #808000\">description</span>=<span style=\"color: #800080; text-decoration-color: #800080; font-style: italic\">None</span>,\n",
       "    <span style=\"color: #808000; text-decoration-color: #808000\">status</span>=<span style=\"color: #800080; text-decoration-color: #800080; font-style: italic\">None</span>,\n",
       "    <span style=\"color: #808000; text-decoration-color: #808000\">gender</span>=<span style=\"color: #800080; text-decoration-color: #800080; font-style: italic\">None</span>,\n",
       "    <span style=\"color: #808000; text-decoration-color: #808000\">gender_code</span>=<span style=\"color: #800080; text-decoration-color: #800080; font-style: italic\">None</span>,\n",
       "    <span style=\"color: #808000; text-decoration-color: #808000\">language</span>=<span style=\"color: #800080; text-decoration-color: #800080; font-style: italic\">None</span>,\n",
       "    <span style=\"color: #808000; text-decoration-color: #808000\">locale</span>=<span style=\"color: #800080; text-decoration-color: #800080; font-style: italic\">None</span>,\n",
       "    <span style=\"color: #808000; text-decoration-color: #808000\">create_date</span>=<span style=\"color: #800080; text-decoration-color: #800080; font-style: italic\">None</span>,\n",
       "    <span style=\"color: #808000; text-decoration-color: #808000\">modify_date</span>=<span style=\"color: #800080; text-decoration-color: #800080; font-style: italic\">None</span>,\n",
       "    <span style=\"color: #808000; text-decoration-color: #808000\">location</span>=<span style=\"color: #800080; text-decoration-color: #800080; font-style: italic\">None</span>,\n",
       "    <span style=\"color: #808000; text-decoration-color: #808000\">verified</span>=<span style=\"color: #800080; text-decoration-color: #800080; font-style: italic\">None</span>,\n",
       "    <span style=\"color: #808000; text-decoration-color: #808000\">ambassador</span>=<span style=\"color: #800080; text-decoration-color: #800080; font-style: italic\">None</span>,\n",
       "    <span style=\"color: #808000; text-decoration-color: #808000\">facebook</span>=<span style=\"color: #800080; text-decoration-color: #800080; font-style: italic\">None</span>,\n",
       "    <span style=\"color: #808000; text-decoration-color: #808000\">twitter</span>=<span style=\"color: #800080; text-decoration-color: #800080; font-style: italic\">None</span>,\n",
       "    <span style=\"color: #808000; text-decoration-color: #808000\">website</span>=<span style=\"color: #800080; text-decoration-color: #800080; font-style: italic\">None</span>,\n",
       "    <span style=\"color: #808000; text-decoration-color: #808000\">lulu</span>=<span style=\"color: #800080; text-decoration-color: #800080; font-style: italic\">None</span>,\n",
       "    <span style=\"color: #808000; text-decoration-color: #808000\">smashwords</span>=<span style=\"color: #800080; text-decoration-color: #800080; font-style: italic\">None</span>,\n",
       "    <span style=\"color: #808000; text-decoration-color: #808000\">bubok</span>=<span style=\"color: #800080; text-decoration-color: #800080; font-style: italic\">None</span>,\n",
       "    <span style=\"color: #808000; text-decoration-color: #808000\">votes_received</span>=<span style=\"color: #800080; text-decoration-color: #800080; font-style: italic\">None</span>,\n",
       "    <span style=\"color: #808000; text-decoration-color: #808000\">num_stories_published</span>=<span style=\"color: #800080; text-decoration-color: #800080; font-style: italic\">None</span>,\n",
       "    <span style=\"color: #808000; text-decoration-color: #808000\">num_following</span>=<span style=\"color: #800080; text-decoration-color: #800080; font-style: italic\">None</span>,\n",
       "    <span style=\"color: #808000; text-decoration-color: #808000\">num_followers</span>=<span style=\"color: #800080; text-decoration-color: #800080; font-style: italic\">None</span>,\n",
       "    <span style=\"color: #808000; text-decoration-color: #808000\">num_messages</span>=<span style=\"color: #800080; text-decoration-color: #800080; font-style: italic\">None</span>,\n",
       "    <span style=\"color: #808000; text-decoration-color: #808000\">num_lists</span>=<span style=\"color: #800080; text-decoration-color: #800080; font-style: italic\">None</span>,\n",
       "    <span style=\"color: #808000; text-decoration-color: #808000\">verified_email</span>=<span style=\"color: #800080; text-decoration-color: #800080; font-style: italic\">None</span>,\n",
       "    <span style=\"color: #808000; text-decoration-color: #808000\">preferred_categories</span>=<span style=\"color: #800080; text-decoration-color: #800080; font-style: italic\">None</span>,\n",
       "    <span style=\"color: #808000; text-decoration-color: #808000\">allow_crawler</span>=<span style=\"color: #800080; text-decoration-color: #800080; font-style: italic\">None</span>,\n",
       "    <span style=\"color: #808000; text-decoration-color: #808000\">deeplink</span>=<span style=\"color: #800080; text-decoration-color: #800080; font-style: italic\">None</span>,\n",
       "    <span style=\"color: #808000; text-decoration-color: #808000\">is_muted</span>=<span style=\"color: #800080; text-decoration-color: #800080; font-style: italic\">None</span>,\n",
       "    <span style=\"color: #808000; text-decoration-color: #808000\">birthdate</span>=<span style=\"color: #800080; text-decoration-color: #800080; font-style: italic\">None</span>,\n",
       "    <span style=\"color: #808000; text-decoration-color: #808000\">inbox</span>=<span style=\"color: #800080; text-decoration-color: #800080; font-style: italic\">None</span>,\n",
       "    <span style=\"color: #808000; text-decoration-color: #808000\">notifications</span>=<span style=\"color: #800080; text-decoration-color: #800080; font-style: italic\">None</span>,\n",
       "    <span style=\"color: #808000; text-decoration-color: #808000\">connected_services</span>=<span style=\"color: #800080; text-decoration-color: #800080; font-style: italic\">None</span>,\n",
       "    <span style=\"color: #808000; text-decoration-color: #808000\">age</span>=<span style=\"color: #800080; text-decoration-color: #800080; font-style: italic\">None</span>,\n",
       "    <span style=\"color: #808000; text-decoration-color: #808000\">email</span>=<span style=\"color: #800080; text-decoration-color: #800080; font-style: italic\">None</span>,\n",
       "    <span style=\"color: #808000; text-decoration-color: #808000\">has_password</span>=<span style=\"color: #800080; text-decoration-color: #800080; font-style: italic\">None</span>\n",
       "<span style=\"font-weight: bold\">)</span>\n",
       "</pre>\n"
      ],
      "text/plain": [
       "\u001b[1;35mUserModel\u001b[0m\u001b[1m(\u001b[0m\n",
       "    \u001b[33musername\u001b[0m=\u001b[32m'wattpad'\u001b[0m,\n",
       "    \u001b[33mavatar\u001b[0m=\u001b[3;35mNone\u001b[0m,\n",
       "    \u001b[33mis_private\u001b[0m=\u001b[3;35mNone\u001b[0m,\n",
       "    \u001b[33mbackground_url\u001b[0m=\u001b[3;35mNone\u001b[0m,\n",
       "    \u001b[33mfollower\u001b[0m=\u001b[3;35mNone\u001b[0m,\n",
       "    \u001b[33mfollowing\u001b[0m=\u001b[3;35mNone\u001b[0m,\n",
       "    \u001b[33mname\u001b[0m=\u001b[3;35mNone\u001b[0m,\n",
       "    \u001b[33mdescription\u001b[0m=\u001b[3;35mNone\u001b[0m,\n",
       "    \u001b[33mstatus\u001b[0m=\u001b[3;35mNone\u001b[0m,\n",
       "    \u001b[33mgender\u001b[0m=\u001b[3;35mNone\u001b[0m,\n",
       "    \u001b[33mgender_code\u001b[0m=\u001b[3;35mNone\u001b[0m,\n",
       "    \u001b[33mlanguage\u001b[0m=\u001b[3;35mNone\u001b[0m,\n",
       "    \u001b[33mlocale\u001b[0m=\u001b[3;35mNone\u001b[0m,\n",
       "    \u001b[33mcreate_date\u001b[0m=\u001b[3;35mNone\u001b[0m,\n",
       "    \u001b[33mmodify_date\u001b[0m=\u001b[3;35mNone\u001b[0m,\n",
       "    \u001b[33mlocation\u001b[0m=\u001b[3;35mNone\u001b[0m,\n",
       "    \u001b[33mverified\u001b[0m=\u001b[3;35mNone\u001b[0m,\n",
       "    \u001b[33mambassador\u001b[0m=\u001b[3;35mNone\u001b[0m,\n",
       "    \u001b[33mfacebook\u001b[0m=\u001b[3;35mNone\u001b[0m,\n",
       "    \u001b[33mtwitter\u001b[0m=\u001b[3;35mNone\u001b[0m,\n",
       "    \u001b[33mwebsite\u001b[0m=\u001b[3;35mNone\u001b[0m,\n",
       "    \u001b[33mlulu\u001b[0m=\u001b[3;35mNone\u001b[0m,\n",
       "    \u001b[33msmashwords\u001b[0m=\u001b[3;35mNone\u001b[0m,\n",
       "    \u001b[33mbubok\u001b[0m=\u001b[3;35mNone\u001b[0m,\n",
       "    \u001b[33mvotes_received\u001b[0m=\u001b[3;35mNone\u001b[0m,\n",
       "    \u001b[33mnum_stories_published\u001b[0m=\u001b[3;35mNone\u001b[0m,\n",
       "    \u001b[33mnum_following\u001b[0m=\u001b[3;35mNone\u001b[0m,\n",
       "    \u001b[33mnum_followers\u001b[0m=\u001b[3;35mNone\u001b[0m,\n",
       "    \u001b[33mnum_messages\u001b[0m=\u001b[3;35mNone\u001b[0m,\n",
       "    \u001b[33mnum_lists\u001b[0m=\u001b[3;35mNone\u001b[0m,\n",
       "    \u001b[33mverified_email\u001b[0m=\u001b[3;35mNone\u001b[0m,\n",
       "    \u001b[33mpreferred_categories\u001b[0m=\u001b[3;35mNone\u001b[0m,\n",
       "    \u001b[33mallow_crawler\u001b[0m=\u001b[3;35mNone\u001b[0m,\n",
       "    \u001b[33mdeeplink\u001b[0m=\u001b[3;35mNone\u001b[0m,\n",
       "    \u001b[33mis_muted\u001b[0m=\u001b[3;35mNone\u001b[0m,\n",
       "    \u001b[33mbirthdate\u001b[0m=\u001b[3;35mNone\u001b[0m,\n",
       "    \u001b[33minbox\u001b[0m=\u001b[3;35mNone\u001b[0m,\n",
       "    \u001b[33mnotifications\u001b[0m=\u001b[3;35mNone\u001b[0m,\n",
       "    \u001b[33mconnected_services\u001b[0m=\u001b[3;35mNone\u001b[0m,\n",
       "    \u001b[33mage\u001b[0m=\u001b[3;35mNone\u001b[0m,\n",
       "    \u001b[33memail\u001b[0m=\u001b[3;35mNone\u001b[0m,\n",
       "    \u001b[33mhas_password\u001b[0m=\u001b[3;35mNone\u001b[0m\n",
       "\u001b[1m)\u001b[0m\n"
      ]
     },
     "metadata": {},
     "output_type": "display_data"
    }
   ],
   "source": [
    "print(two.data)"
   ]
  },
  {
   "cell_type": "markdown",
   "metadata": {},
   "source": [
    "`two` is as empty as it can be. Let's take a look at `three` (which has the same username as `one`.)"
   ]
  },
  {
   "cell_type": "code",
   "execution_count": 11,
   "metadata": {},
   "outputs": [
    {
     "data": {
      "text/html": [
       "<pre style=\"white-space:pre;overflow-x:auto;line-height:normal;font-family:Menlo,'DejaVu Sans Mono',consolas,'Courier New',monospace\"><span style=\"color: #800080; text-decoration-color: #800080; font-weight: bold\">UserModel</span><span style=\"font-weight: bold\">(</span>\n",
       "    <span style=\"color: #808000; text-decoration-color: #808000\">username</span>=<span style=\"color: #008000; text-decoration-color: #008000\">'wattpadbooks'</span>,\n",
       "    <span style=\"color: #808000; text-decoration-color: #808000\">avatar</span>=<span style=\"color: #008000; text-decoration-color: #008000\">'https://img.wattpad.com/useravatar/WattpadBooks.128.888605.jpg'</span>,\n",
       "    <span style=\"color: #808000; text-decoration-color: #808000\">is_private</span>=<span style=\"color: #ff0000; text-decoration-color: #ff0000; font-style: italic\">False</span>,\n",
       "    <span style=\"color: #808000; text-decoration-color: #808000\">background_url</span>=<span style=\"color: #008000; text-decoration-color: #008000\">'https://img.wattpad.com/userbg/WattpadBooks.38113.jpg'</span>,\n",
       "    <span style=\"color: #808000; text-decoration-color: #808000\">follower</span>=<span style=\"color: #800080; text-decoration-color: #800080; font-style: italic\">None</span>,\n",
       "    <span style=\"color: #808000; text-decoration-color: #808000\">following</span>=<span style=\"color: #800080; text-decoration-color: #800080; font-style: italic\">None</span>,\n",
       "    <span style=\"color: #808000; text-decoration-color: #808000\">name</span>=<span style=\"color: #008000; text-decoration-color: #008000\">'Wattpad Books'</span>,\n",
       "    <span style=\"color: #808000; text-decoration-color: #808000\">description</span>=<span style=\"color: #008000; text-decoration-color: #008000\">\"Wattpad Books brings stories the world needs to hear, brought to life by your favorite writers, </span>\n",
       "<span style=\"color: #008000; text-decoration-color: #008000\">right into your hands. Welcome home. 🏡🧡\\n\\nStay in the know of all the latest launches from Wattpad Books. </span>\n",
       "<span style=\"color: #008000; text-decoration-color: #008000\">Looking for your next literary obsession? Crossing your fingers for more work from your favorite creator? Follow us</span>\n",
       "<span style=\"color: #008000; text-decoration-color: #008000\">here to be the first to hear about new releases, author interviews, and more!\\n\\nWe see your dreams, and we want to</span>\n",
       "<span style=\"color: #008000; text-decoration-color: #008000\">help you achieve them. If you're hoping to get published, our advice is to keep doing what you love: writing. Every</span>\n",
       "<span style=\"color: #008000; text-decoration-color: #008000\">book published by Wattpad Books was born right here on Wattpad. ⭐️\\n\\n🔈Follow Wattpad Books:\\nTwitter: </span>\n",
       "<span style=\"color: #008000; text-decoration-color: #008000\">twitter.com/wattpadbooks\\nInstagram: wattpadbooks\\nFacebook: facebook.com/wattpad\"</span>,\n",
       "    <span style=\"color: #808000; text-decoration-color: #808000\">status</span>=<span style=\"color: #008000; text-decoration-color: #008000\">''</span>,\n",
       "    <span style=\"color: #808000; text-decoration-color: #808000\">gender</span>=<span style=\"color: #008000; text-decoration-color: #008000\">'Other'</span>,\n",
       "    <span style=\"color: #808000; text-decoration-color: #808000\">gender_code</span>=<span style=\"color: #008000; text-decoration-color: #008000\">'O'</span>,\n",
       "    <span style=\"color: #808000; text-decoration-color: #808000\">language</span>=<span style=\"color: #008080; text-decoration-color: #008080; font-weight: bold\">1</span>,\n",
       "    <span style=\"color: #808000; text-decoration-color: #808000\">locale</span>=<span style=\"color: #008000; text-decoration-color: #008000\">'en_US'</span>,\n",
       "    <span style=\"color: #808000; text-decoration-color: #808000\">create_date</span>=<span style=\"color: #008000; text-decoration-color: #008000\">'2019-01-23T21:14:00Z'</span>,\n",
       "    <span style=\"color: #808000; text-decoration-color: #808000\">modify_date</span>=<span style=\"color: #008000; text-decoration-color: #008000\">'2020-07-10T20:29:59Z'</span>,\n",
       "    <span style=\"color: #808000; text-decoration-color: #808000\">location</span>=<span style=\"color: #008000; text-decoration-color: #008000\">'Toronto, Canada'</span>,\n",
       "    <span style=\"color: #808000; text-decoration-color: #808000\">verified</span>=<span style=\"color: #00ff00; text-decoration-color: #00ff00; font-style: italic\">True</span>,\n",
       "    <span style=\"color: #808000; text-decoration-color: #808000\">ambassador</span>=<span style=\"color: #ff0000; text-decoration-color: #ff0000; font-style: italic\">False</span>,\n",
       "    <span style=\"color: #808000; text-decoration-color: #808000\">facebook</span>=<span style=\"color: #008000; text-decoration-color: #008000\">''</span>,\n",
       "    <span style=\"color: #808000; text-decoration-color: #808000\">twitter</span>=<span style=\"color: #008000; text-decoration-color: #008000\">''</span>,\n",
       "    <span style=\"color: #808000; text-decoration-color: #808000\">website</span>=<span style=\"color: #008000; text-decoration-color: #008000\">'books.wattpad.com'</span>,\n",
       "    <span style=\"color: #808000; text-decoration-color: #808000\">lulu</span>=<span style=\"color: #008000; text-decoration-color: #008000\">''</span>,\n",
       "    <span style=\"color: #808000; text-decoration-color: #808000\">smashwords</span>=<span style=\"color: #008000; text-decoration-color: #008000\">''</span>,\n",
       "    <span style=\"color: #808000; text-decoration-color: #808000\">bubok</span>=<span style=\"color: #008000; text-decoration-color: #008000\">''</span>,\n",
       "    <span style=\"color: #808000; text-decoration-color: #808000\">votes_received</span>=<span style=\"color: #008080; text-decoration-color: #008080; font-weight: bold\">1688</span>,\n",
       "    <span style=\"color: #808000; text-decoration-color: #808000\">num_stories_published</span>=<span style=\"color: #008080; text-decoration-color: #008080; font-weight: bold\">6</span>,\n",
       "    <span style=\"color: #808000; text-decoration-color: #808000\">num_following</span>=<span style=\"color: #008080; text-decoration-color: #008080; font-weight: bold\">1</span>,\n",
       "    <span style=\"color: #808000; text-decoration-color: #808000\">num_followers</span>=<span style=\"color: #008080; text-decoration-color: #008080; font-weight: bold\">60837</span>,\n",
       "    <span style=\"color: #808000; text-decoration-color: #808000\">num_messages</span>=<span style=\"color: #008080; text-decoration-color: #008080; font-weight: bold\">2004</span>,\n",
       "    <span style=\"color: #808000; text-decoration-color: #808000\">num_lists</span>=<span style=\"color: #008080; text-decoration-color: #008080; font-weight: bold\">6</span>,\n",
       "    <span style=\"color: #808000; text-decoration-color: #808000\">verified_email</span>=<span style=\"color: #00ff00; text-decoration-color: #00ff00; font-style: italic\">True</span>,\n",
       "    <span style=\"color: #808000; text-decoration-color: #808000\">preferred_categories</span>=<span style=\"font-weight: bold\">[]</span>,\n",
       "    <span style=\"color: #808000; text-decoration-color: #808000\">allow_crawler</span>=<span style=\"color: #00ff00; text-decoration-color: #00ff00; font-style: italic\">True</span>,\n",
       "    <span style=\"color: #808000; text-decoration-color: #808000\">deeplink</span>=<span style=\"color: #008000; text-decoration-color: #008000\">'https://www.wattpad.com/WattpadBooks'</span>,\n",
       "    <span style=\"color: #808000; text-decoration-color: #808000\">is_muted</span>=<span style=\"color: #ff0000; text-decoration-color: #ff0000; font-style: italic\">False</span>,\n",
       "    <span style=\"color: #808000; text-decoration-color: #808000\">birthdate</span>=<span style=\"color: #800080; text-decoration-color: #800080; font-style: italic\">None</span>,\n",
       "    <span style=\"color: #808000; text-decoration-color: #808000\">inbox</span>=<span style=\"color: #800080; text-decoration-color: #800080; font-style: italic\">None</span>,\n",
       "    <span style=\"color: #808000; text-decoration-color: #808000\">notifications</span>=<span style=\"color: #800080; text-decoration-color: #800080; font-style: italic\">None</span>,\n",
       "    <span style=\"color: #808000; text-decoration-color: #808000\">connected_services</span>=<span style=\"color: #800080; text-decoration-color: #800080; font-style: italic\">None</span>,\n",
       "    <span style=\"color: #808000; text-decoration-color: #808000\">age</span>=<span style=\"color: #800080; text-decoration-color: #800080; font-style: italic\">None</span>,\n",
       "    <span style=\"color: #808000; text-decoration-color: #808000\">email</span>=<span style=\"color: #800080; text-decoration-color: #800080; font-style: italic\">None</span>,\n",
       "    <span style=\"color: #808000; text-decoration-color: #808000\">has_password</span>=<span style=\"color: #800080; text-decoration-color: #800080; font-style: italic\">None</span>\n",
       "<span style=\"font-weight: bold\">)</span>\n",
       "</pre>\n"
      ],
      "text/plain": [
       "\u001b[1;35mUserModel\u001b[0m\u001b[1m(\u001b[0m\n",
       "    \u001b[33musername\u001b[0m=\u001b[32m'wattpadbooks'\u001b[0m,\n",
       "    \u001b[33mavatar\u001b[0m=\u001b[32m'https://img.wattpad.com/useravatar/WattpadBooks.128.888605.jpg'\u001b[0m,\n",
       "    \u001b[33mis_private\u001b[0m=\u001b[3;91mFalse\u001b[0m,\n",
       "    \u001b[33mbackground_url\u001b[0m=\u001b[32m'https://img.wattpad.com/userbg/WattpadBooks.38113.jpg'\u001b[0m,\n",
       "    \u001b[33mfollower\u001b[0m=\u001b[3;35mNone\u001b[0m,\n",
       "    \u001b[33mfollowing\u001b[0m=\u001b[3;35mNone\u001b[0m,\n",
       "    \u001b[33mname\u001b[0m=\u001b[32m'Wattpad Books'\u001b[0m,\n",
       "    \u001b[33mdescription\u001b[0m=\u001b[32m\"Wattpad\u001b[0m\u001b[32m Books brings stories the world needs to hear, brought to life by your favorite writers, \u001b[0m\n",
       "\u001b[32mright into your hands. Welcome home. 🏡🧡\\n\\nStay in the know of all the latest launches from Wattpad Books. \u001b[0m\n",
       "\u001b[32mLooking for your next literary obsession? Crossing your fingers for more work from your favorite creator? Follow us\u001b[0m\n",
       "\u001b[32mhere to be the first to hear about new releases, author interviews, and more!\\n\\nWe see your dreams, and we want to\u001b[0m\n",
       "\u001b[32mhelp you achieve them. If you're hoping to get published, our advice is to keep doing what you love: writing. Every\u001b[0m\n",
       "\u001b[32mbook published by Wattpad Books was born right here on Wattpad. ⭐️\\n\\n🔈Follow Wattpad Books:\\nTwitter: \u001b[0m\n",
       "\u001b[32mtwitter.com/wattpadbooks\\nInstagram: wattpadbooks\\nFacebook: facebook.com/wattpad\"\u001b[0m,\n",
       "    \u001b[33mstatus\u001b[0m=\u001b[32m''\u001b[0m,\n",
       "    \u001b[33mgender\u001b[0m=\u001b[32m'Other'\u001b[0m,\n",
       "    \u001b[33mgender_code\u001b[0m=\u001b[32m'O'\u001b[0m,\n",
       "    \u001b[33mlanguage\u001b[0m=\u001b[1;36m1\u001b[0m,\n",
       "    \u001b[33mlocale\u001b[0m=\u001b[32m'en_US'\u001b[0m,\n",
       "    \u001b[33mcreate_date\u001b[0m=\u001b[32m'2019-01-23T21:14:00Z'\u001b[0m,\n",
       "    \u001b[33mmodify_date\u001b[0m=\u001b[32m'2020-07-10T20:29:59Z'\u001b[0m,\n",
       "    \u001b[33mlocation\u001b[0m=\u001b[32m'Toronto, Canada'\u001b[0m,\n",
       "    \u001b[33mverified\u001b[0m=\u001b[3;92mTrue\u001b[0m,\n",
       "    \u001b[33mambassador\u001b[0m=\u001b[3;91mFalse\u001b[0m,\n",
       "    \u001b[33mfacebook\u001b[0m=\u001b[32m''\u001b[0m,\n",
       "    \u001b[33mtwitter\u001b[0m=\u001b[32m''\u001b[0m,\n",
       "    \u001b[33mwebsite\u001b[0m=\u001b[32m'books.wattpad.com'\u001b[0m,\n",
       "    \u001b[33mlulu\u001b[0m=\u001b[32m''\u001b[0m,\n",
       "    \u001b[33msmashwords\u001b[0m=\u001b[32m''\u001b[0m,\n",
       "    \u001b[33mbubok\u001b[0m=\u001b[32m''\u001b[0m,\n",
       "    \u001b[33mvotes_received\u001b[0m=\u001b[1;36m1688\u001b[0m,\n",
       "    \u001b[33mnum_stories_published\u001b[0m=\u001b[1;36m6\u001b[0m,\n",
       "    \u001b[33mnum_following\u001b[0m=\u001b[1;36m1\u001b[0m,\n",
       "    \u001b[33mnum_followers\u001b[0m=\u001b[1;36m60837\u001b[0m,\n",
       "    \u001b[33mnum_messages\u001b[0m=\u001b[1;36m2004\u001b[0m,\n",
       "    \u001b[33mnum_lists\u001b[0m=\u001b[1;36m6\u001b[0m,\n",
       "    \u001b[33mverified_email\u001b[0m=\u001b[3;92mTrue\u001b[0m,\n",
       "    \u001b[33mpreferred_categories\u001b[0m=\u001b[1m[\u001b[0m\u001b[1m]\u001b[0m,\n",
       "    \u001b[33mallow_crawler\u001b[0m=\u001b[3;92mTrue\u001b[0m,\n",
       "    \u001b[33mdeeplink\u001b[0m=\u001b[32m'https://www.wattpad.com/WattpadBooks'\u001b[0m,\n",
       "    \u001b[33mis_muted\u001b[0m=\u001b[3;91mFalse\u001b[0m,\n",
       "    \u001b[33mbirthdate\u001b[0m=\u001b[3;35mNone\u001b[0m,\n",
       "    \u001b[33minbox\u001b[0m=\u001b[3;35mNone\u001b[0m,\n",
       "    \u001b[33mnotifications\u001b[0m=\u001b[3;35mNone\u001b[0m,\n",
       "    \u001b[33mconnected_services\u001b[0m=\u001b[3;35mNone\u001b[0m,\n",
       "    \u001b[33mage\u001b[0m=\u001b[3;35mNone\u001b[0m,\n",
       "    \u001b[33memail\u001b[0m=\u001b[3;35mNone\u001b[0m,\n",
       "    \u001b[33mhas_password\u001b[0m=\u001b[3;35mNone\u001b[0m\n",
       "\u001b[1m)\u001b[0m\n"
      ]
     },
     "metadata": {},
     "output_type": "display_data"
    }
   ],
   "source": [
    "print(three.data)"
   ]
  },
  {
   "cell_type": "markdown",
   "metadata": {},
   "source": [
    "There we go, without fetching any data, `three` is already populated. This is because we fetched data for `one` earlier, and `one` and `three` are the _same_.\n",
    "\n",
    "**Note**: Deleting `one` will _not_ delete `three`. To completely delete an object, remove all references to it in your code."
   ]
  },
  {
   "cell_type": "markdown",
   "metadata": {},
   "source": [
    "That's all. If you need help, look [here](https://github.com/TheOnlyWayUp/Wattpad-Py#support)."
   ]
  },
  {
   "cell_type": "markdown",
   "metadata": {},
   "source": [
    "[![Follow Badge](https://img.shields.io/badge/-%40TheOnlyWayUp-blue?style=for-the-badge&logo=github&logoColor=green&label=Follow&link=https%3A%2F%2Fgithub.com%2FTheOnlyWayUp)](https://github.com/TheOnlyWayUp)\n",
    "[![Star Badge](https://img.shields.io/badge/-Wattpad--Py-orange?style=for-the-badge&logoColor=green&label=Star%20%E2%AD%90&link=https%3A%2F%2Fgithub.com%2FTheOnlyWayUp%2FWattpad-Py)\n",
    "](https://github.com/TheOnlyWayUp/Wattpad-Py)\n",
    "\n",
    "\n",
    "<div align=\"center\">\n",
    "    <p>TheOnlyWayUp © 2024</p>\n",
    "</div>\n"
   ]
  },
  {
   "cell_type": "markdown",
   "metadata": {},
   "source": []
  }
 ],
 "metadata": {
  "kernelspec": {
   "display_name": "j_venv",
   "language": "python",
   "name": "python3"
  },
  "language_info": {
   "codemirror_mode": {
    "name": "ipython",
    "version": 3
   },
   "file_extension": ".py",
   "mimetype": "text/x-python",
   "name": "python",
   "nbconvert_exporter": "python",
   "pygments_lexer": "ipython3",
   "version": "3.10.11"
  }
 },
 "nbformat": 4,
 "nbformat_minor": 2
}
